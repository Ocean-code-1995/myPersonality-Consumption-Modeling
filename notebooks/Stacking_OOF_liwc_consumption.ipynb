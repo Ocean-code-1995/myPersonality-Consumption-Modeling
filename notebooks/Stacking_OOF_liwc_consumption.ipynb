{
 "cells": [
  {
   "cell_type": "markdown",
   "metadata": {},
   "source": [
    "# ***`Stacking Out-Of-Fold-Predictions`***\n",
    "---\n",
    "\n",
    "#### 1. **Dataset Preparation:**\n",
    " - **Merge** liwc + consumption to one data set.\n",
    " - **train-test-split()**\n",
    " - **feature selection:**\n",
    "\n",
    "#### 2.\n",
    "\n",
    "\n",
    "#### 3. \n",
    "\n",
    "#### 4.\n",
    "\n",
    "#### 5.\n",
    "\n",
    "#### 6. \n",
    "---"
   ]
  },
  {
   "cell_type": "markdown",
   "metadata": {},
   "source": []
  }
 ],
 "metadata": {
  "language_info": {
   "name": "python"
  }
 },
 "nbformat": 4,
 "nbformat_minor": 2
}
