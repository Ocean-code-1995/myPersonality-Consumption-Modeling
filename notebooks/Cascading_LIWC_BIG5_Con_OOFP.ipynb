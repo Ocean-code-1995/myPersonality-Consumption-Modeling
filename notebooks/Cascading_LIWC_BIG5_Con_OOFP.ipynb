{
 "cells": [
  {
   "cell_type": "markdown",
   "metadata": {},
   "source": [
    "# ***`Cascading Out-Of-Fold-Predictions`***\n",
    "---\n",
    "\n",
    "#### 1. **Dataset Preparation:**\n",
    " - **Merge** liwc + big5 + consumption as one data set.\n",
    " - **train-test-split()**\n",
    " - **feature selection:**\n",
    "    - correlation coefficient & p-value\n",
    "    - question answered (Big5)\n",
    "    - Word Count (liwc)\n",
    "\n",
    "\n",
    "#### 2.\n",
    "\n",
    "\n",
    "#### 3. \n",
    "\n",
    "#### 4.\n",
    "\n",
    "#### 5.\n",
    "\n",
    "#### 6. \n",
    "---"
   ]
  },
  {
   "cell_type": "code",
   "execution_count": null,
   "metadata": {},
   "outputs": [],
   "source": []
  }
 ],
 "metadata": {
  "language_info": {
   "name": "python"
  }
 },
 "nbformat": 4,
 "nbformat_minor": 2
}
