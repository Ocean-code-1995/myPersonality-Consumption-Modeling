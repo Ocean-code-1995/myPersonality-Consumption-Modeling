{
 "cells": [
  {
   "cell_type": "markdown",
   "metadata": {},
   "source": [
    "# ***`Smoking Consumption Habit Modeling with LIWC`***\n",
    "---\n",
    "#### 1. **Dataset Preparation:**\n",
    "#### 2. **EDA & Feature Selection**\n",
    "#### 3. **Target Drugs**\n",
    "---"
   ]
  },
  {
   "cell_type": "markdown",
   "metadata": {},
   "source": [
    "## Base Libraries\n",
    "---"
   ]
  },
  {
   "cell_type": "code",
   "execution_count": 1,
   "metadata": {},
   "outputs": [],
   "source": [
    "import pandas as pd\n",
    "\n",
    "# enable to see all columns:\n",
    "pd.set_option('display.max_columns', None)\n",
    "\n",
    "import numpy as np\n",
    "\n",
    "import matplotlib.pyplot as plt\n",
    "import matplotlib.lines as mlines\n",
    "\n",
    "import seaborn as sns\n",
    "sns.set_style('whitegrid')\n",
    "import plotly.express as px\n",
    "import plotly.graph_objects as go\n",
    "from plotly.subplots import make_subplots\n",
    "import missingno as msno\n",
    "\n",
    "import shap\n",
    "\n",
    "from typing import List, Any\n",
    "from sklearn.base import BaseEstimator\n",
    "from sklearn.metrics import precision_score, recall_score, f1_score\n",
    "\n",
    "# ignore future warnings\n",
    "import warnings\n",
    "warnings.simplefilter(action='ignore', category=FutureWarning)"
   ]
  },
  {
   "cell_type": "markdown",
   "metadata": {},
   "source": [
    "## Helper Functions\n",
    "---"
   ]
  },
  {
   "cell_type": "code",
   "execution_count": 2,
   "metadata": {},
   "outputs": [
    {
     "name": "stderr",
     "output_type": "stream",
     "text": [
      "The package pingouin is out of date. Your version is 0.5.3, the latest is 0.5.4.\n",
      "Set the environment variable OUTDATED_IGNORE=1 to disable these warnings.\n"
     ]
    }
   ],
   "source": [
    "from helper_functions import *"
   ]
  },
  {
   "cell_type": "markdown",
   "metadata": {},
   "source": [
    "## **1) Data Set Preparation**\n",
    "---"
   ]
  },
  {
   "cell_type": "markdown",
   "metadata": {},
   "source": [
    "### 1.1) Read Data:"
   ]
  },
  {
   "cell_type": "code",
   "execution_count": 3,
   "metadata": {},
   "outputs": [
    {
     "name": "stdout",
     "output_type": "stream",
     "text": [
      "Duplicates: 0\n",
      "Missing values: 0\n",
      "\n",
      "Data dimensions:\n",
      "---------------------------------------------------------------------\n",
      " - Number of observations: 1,185\n",
      " - Number of columns: 97\n"
     ]
    },
    {
     "data": {
      "text/html": [
       "<div>\n",
       "<style scoped>\n",
       "    .dataframe tbody tr th:only-of-type {\n",
       "        vertical-align: middle;\n",
       "    }\n",
       "\n",
       "    .dataframe tbody tr th {\n",
       "        vertical-align: top;\n",
       "    }\n",
       "\n",
       "    .dataframe thead th {\n",
       "        text-align: right;\n",
       "    }\n",
       "</style>\n",
       "<table border=\"1\" class=\"dataframe\">\n",
       "  <thead>\n",
       "    <tr style=\"text-align: right;\">\n",
       "      <th></th>\n",
       "      <th>userid</th>\n",
       "      <th>smoking_status</th>\n",
       "      <th>alcohol_status</th>\n",
       "      <th>drug_status</th>\n",
       "      <th>WC</th>\n",
       "      <th>Analytic</th>\n",
       "      <th>Clout</th>\n",
       "      <th>Authentic</th>\n",
       "      <th>Tone</th>\n",
       "      <th>WPS</th>\n",
       "      <th>Sixltr</th>\n",
       "      <th>Dic</th>\n",
       "      <th>function.</th>\n",
       "      <th>pronoun</th>\n",
       "      <th>ppron</th>\n",
       "      <th>i</th>\n",
       "      <th>we</th>\n",
       "      <th>you</th>\n",
       "      <th>shehe</th>\n",
       "      <th>they</th>\n",
       "      <th>ipron</th>\n",
       "      <th>article</th>\n",
       "      <th>prep</th>\n",
       "      <th>auxverb</th>\n",
       "      <th>adverb</th>\n",
       "      <th>conj</th>\n",
       "      <th>negate</th>\n",
       "      <th>verb</th>\n",
       "      <th>adj</th>\n",
       "      <th>compare</th>\n",
       "      <th>interrog</th>\n",
       "      <th>number</th>\n",
       "      <th>quant</th>\n",
       "      <th>affect</th>\n",
       "      <th>posemo</th>\n",
       "      <th>negemo</th>\n",
       "      <th>anx</th>\n",
       "      <th>anger</th>\n",
       "      <th>sad</th>\n",
       "      <th>social</th>\n",
       "      <th>family</th>\n",
       "      <th>friend</th>\n",
       "      <th>female</th>\n",
       "      <th>male</th>\n",
       "      <th>cogproc</th>\n",
       "      <th>insight</th>\n",
       "      <th>cause</th>\n",
       "      <th>discrep</th>\n",
       "      <th>tentat</th>\n",
       "      <th>certain</th>\n",
       "      <th>differ</th>\n",
       "      <th>percept</th>\n",
       "      <th>see</th>\n",
       "      <th>hear</th>\n",
       "      <th>feel</th>\n",
       "      <th>bio</th>\n",
       "      <th>body</th>\n",
       "      <th>health</th>\n",
       "      <th>sexual</th>\n",
       "      <th>ingest</th>\n",
       "      <th>drives</th>\n",
       "      <th>affiliation</th>\n",
       "      <th>achieve</th>\n",
       "      <th>power</th>\n",
       "      <th>reward</th>\n",
       "      <th>risk</th>\n",
       "      <th>focuspast</th>\n",
       "      <th>focuspresent</th>\n",
       "      <th>focusfuture</th>\n",
       "      <th>relativ</th>\n",
       "      <th>motion</th>\n",
       "      <th>space</th>\n",
       "      <th>time</th>\n",
       "      <th>work</th>\n",
       "      <th>leisure</th>\n",
       "      <th>home</th>\n",
       "      <th>money</th>\n",
       "      <th>relig</th>\n",
       "      <th>death</th>\n",
       "      <th>informal</th>\n",
       "      <th>swear</th>\n",
       "      <th>netspeak</th>\n",
       "      <th>assent</th>\n",
       "      <th>nonflu</th>\n",
       "      <th>filler</th>\n",
       "      <th>AllPunc</th>\n",
       "      <th>Period</th>\n",
       "      <th>Comma</th>\n",
       "      <th>Colon</th>\n",
       "      <th>SemiC</th>\n",
       "      <th>QMark</th>\n",
       "      <th>Exclam</th>\n",
       "      <th>Dash</th>\n",
       "      <th>Quote</th>\n",
       "      <th>Apostro</th>\n",
       "      <th>Parenth</th>\n",
       "      <th>OtherP</th>\n",
       "    </tr>\n",
       "  </thead>\n",
       "  <tbody>\n",
       "    <tr>\n",
       "      <th>0</th>\n",
       "      <td>ba4d96426226699b8c511ce0bee75941</td>\n",
       "      <td>True</td>\n",
       "      <td>True</td>\n",
       "      <td>True</td>\n",
       "      <td>7197</td>\n",
       "      <td>43.31</td>\n",
       "      <td>59.44</td>\n",
       "      <td>60.57</td>\n",
       "      <td>44.88</td>\n",
       "      <td>19.94</td>\n",
       "      <td>11.39</td>\n",
       "      <td>82.03</td>\n",
       "      <td>45.07</td>\n",
       "      <td>15.92</td>\n",
       "      <td>11.45</td>\n",
       "      <td>6.27</td>\n",
       "      <td>0.42</td>\n",
       "      <td>3.49</td>\n",
       "      <td>0.51</td>\n",
       "      <td>0.76</td>\n",
       "      <td>4.47</td>\n",
       "      <td>4.15</td>\n",
       "      <td>9.11</td>\n",
       "      <td>7.95</td>\n",
       "      <td>4.71</td>\n",
       "      <td>5.46</td>\n",
       "      <td>2.08</td>\n",
       "      <td>17.13</td>\n",
       "      <td>4.59</td>\n",
       "      <td>1.70</td>\n",
       "      <td>1.56</td>\n",
       "      <td>2.15</td>\n",
       "      <td>1.76</td>\n",
       "      <td>7.54</td>\n",
       "      <td>4.28</td>\n",
       "      <td>3.24</td>\n",
       "      <td>0.24</td>\n",
       "      <td>1.29</td>\n",
       "      <td>0.58</td>\n",
       "      <td>11.17</td>\n",
       "      <td>1.36</td>\n",
       "      <td>0.53</td>\n",
       "      <td>1.29</td>\n",
       "      <td>0.83</td>\n",
       "      <td>10.56</td>\n",
       "      <td>2.32</td>\n",
       "      <td>1.13</td>\n",
       "      <td>1.90</td>\n",
       "      <td>2.24</td>\n",
       "      <td>1.35</td>\n",
       "      <td>3.36</td>\n",
       "      <td>3.06</td>\n",
       "      <td>1.14</td>\n",
       "      <td>0.60</td>\n",
       "      <td>1.08</td>\n",
       "      <td>3.97</td>\n",
       "      <td>1.28</td>\n",
       "      <td>1.18</td>\n",
       "      <td>0.50</td>\n",
       "      <td>0.71</td>\n",
       "      <td>7.25</td>\n",
       "      <td>2.47</td>\n",
       "      <td>0.82</td>\n",
       "      <td>2.18</td>\n",
       "      <td>1.93</td>\n",
       "      <td>0.43</td>\n",
       "      <td>2.90</td>\n",
       "      <td>12.95</td>\n",
       "      <td>1.74</td>\n",
       "      <td>13.07</td>\n",
       "      <td>2.14</td>\n",
       "      <td>5.66</td>\n",
       "      <td>5.29</td>\n",
       "      <td>0.76</td>\n",
       "      <td>1.46</td>\n",
       "      <td>0.79</td>\n",
       "      <td>0.76</td>\n",
       "      <td>0.40</td>\n",
       "      <td>0.21</td>\n",
       "      <td>7.35</td>\n",
       "      <td>0.97</td>\n",
       "      <td>5.54</td>\n",
       "      <td>0.25</td>\n",
       "      <td>0.42</td>\n",
       "      <td>0.04</td>\n",
       "      <td>31.15</td>\n",
       "      <td>2.96</td>\n",
       "      <td>1.65</td>\n",
       "      <td>0.79</td>\n",
       "      <td>0.07</td>\n",
       "      <td>2.88</td>\n",
       "      <td>17.02</td>\n",
       "      <td>0.40</td>\n",
       "      <td>0.69</td>\n",
       "      <td>2.50</td>\n",
       "      <td>0.49</td>\n",
       "      <td>1.70</td>\n",
       "    </tr>\n",
       "    <tr>\n",
       "      <th>1</th>\n",
       "      <td>1a388284961e77942bae7a0ead109eea</td>\n",
       "      <td>False</td>\n",
       "      <td>True</td>\n",
       "      <td>False</td>\n",
       "      <td>4025</td>\n",
       "      <td>35.20</td>\n",
       "      <td>73.85</td>\n",
       "      <td>50.29</td>\n",
       "      <td>70.64</td>\n",
       "      <td>8.67</td>\n",
       "      <td>10.71</td>\n",
       "      <td>81.66</td>\n",
       "      <td>46.26</td>\n",
       "      <td>18.76</td>\n",
       "      <td>14.16</td>\n",
       "      <td>7.08</td>\n",
       "      <td>0.77</td>\n",
       "      <td>5.47</td>\n",
       "      <td>0.40</td>\n",
       "      <td>0.45</td>\n",
       "      <td>4.60</td>\n",
       "      <td>4.05</td>\n",
       "      <td>8.99</td>\n",
       "      <td>8.52</td>\n",
       "      <td>4.57</td>\n",
       "      <td>5.44</td>\n",
       "      <td>1.57</td>\n",
       "      <td>17.89</td>\n",
       "      <td>5.19</td>\n",
       "      <td>1.79</td>\n",
       "      <td>1.49</td>\n",
       "      <td>4.89</td>\n",
       "      <td>1.27</td>\n",
       "      <td>9.69</td>\n",
       "      <td>5.96</td>\n",
       "      <td>3.58</td>\n",
       "      <td>0.37</td>\n",
       "      <td>1.57</td>\n",
       "      <td>0.50</td>\n",
       "      <td>12.50</td>\n",
       "      <td>0.42</td>\n",
       "      <td>0.75</td>\n",
       "      <td>0.65</td>\n",
       "      <td>0.72</td>\n",
       "      <td>10.01</td>\n",
       "      <td>1.91</td>\n",
       "      <td>1.61</td>\n",
       "      <td>2.09</td>\n",
       "      <td>2.19</td>\n",
       "      <td>1.69</td>\n",
       "      <td>2.11</td>\n",
       "      <td>3.38</td>\n",
       "      <td>1.49</td>\n",
       "      <td>0.92</td>\n",
       "      <td>0.62</td>\n",
       "      <td>4.47</td>\n",
       "      <td>1.86</td>\n",
       "      <td>0.70</td>\n",
       "      <td>0.55</td>\n",
       "      <td>0.87</td>\n",
       "      <td>7.18</td>\n",
       "      <td>2.78</td>\n",
       "      <td>0.75</td>\n",
       "      <td>2.01</td>\n",
       "      <td>1.96</td>\n",
       "      <td>0.37</td>\n",
       "      <td>2.53</td>\n",
       "      <td>12.45</td>\n",
       "      <td>2.21</td>\n",
       "      <td>12.42</td>\n",
       "      <td>1.91</td>\n",
       "      <td>5.84</td>\n",
       "      <td>4.89</td>\n",
       "      <td>0.77</td>\n",
       "      <td>1.59</td>\n",
       "      <td>0.17</td>\n",
       "      <td>0.22</td>\n",
       "      <td>0.30</td>\n",
       "      <td>0.47</td>\n",
       "      <td>4.37</td>\n",
       "      <td>1.59</td>\n",
       "      <td>2.36</td>\n",
       "      <td>0.25</td>\n",
       "      <td>0.25</td>\n",
       "      <td>0.00</td>\n",
       "      <td>38.63</td>\n",
       "      <td>13.59</td>\n",
       "      <td>5.86</td>\n",
       "      <td>2.46</td>\n",
       "      <td>0.32</td>\n",
       "      <td>1.74</td>\n",
       "      <td>1.74</td>\n",
       "      <td>1.09</td>\n",
       "      <td>1.81</td>\n",
       "      <td>4.45</td>\n",
       "      <td>1.59</td>\n",
       "      <td>3.98</td>\n",
       "    </tr>\n",
       "    <tr>\n",
       "      <th>2</th>\n",
       "      <td>ec539b2398f80d1f395ba4cc06c230a7</td>\n",
       "      <td>False</td>\n",
       "      <td>False</td>\n",
       "      <td>False</td>\n",
       "      <td>2741</td>\n",
       "      <td>51.55</td>\n",
       "      <td>71.78</td>\n",
       "      <td>53.26</td>\n",
       "      <td>90.03</td>\n",
       "      <td>13.77</td>\n",
       "      <td>14.19</td>\n",
       "      <td>86.25</td>\n",
       "      <td>51.77</td>\n",
       "      <td>14.52</td>\n",
       "      <td>10.69</td>\n",
       "      <td>4.85</td>\n",
       "      <td>1.31</td>\n",
       "      <td>2.59</td>\n",
       "      <td>1.61</td>\n",
       "      <td>0.33</td>\n",
       "      <td>3.83</td>\n",
       "      <td>5.25</td>\n",
       "      <td>12.29</td>\n",
       "      <td>10.40</td>\n",
       "      <td>5.18</td>\n",
       "      <td>5.87</td>\n",
       "      <td>1.53</td>\n",
       "      <td>19.41</td>\n",
       "      <td>4.38</td>\n",
       "      <td>0.95</td>\n",
       "      <td>1.64</td>\n",
       "      <td>1.35</td>\n",
       "      <td>1.50</td>\n",
       "      <td>7.88</td>\n",
       "      <td>5.87</td>\n",
       "      <td>2.01</td>\n",
       "      <td>0.04</td>\n",
       "      <td>0.36</td>\n",
       "      <td>0.84</td>\n",
       "      <td>10.65</td>\n",
       "      <td>0.47</td>\n",
       "      <td>0.40</td>\n",
       "      <td>1.39</td>\n",
       "      <td>0.80</td>\n",
       "      <td>8.79</td>\n",
       "      <td>1.64</td>\n",
       "      <td>0.73</td>\n",
       "      <td>1.64</td>\n",
       "      <td>2.19</td>\n",
       "      <td>1.64</td>\n",
       "      <td>2.26</td>\n",
       "      <td>2.48</td>\n",
       "      <td>1.28</td>\n",
       "      <td>0.40</td>\n",
       "      <td>0.66</td>\n",
       "      <td>2.59</td>\n",
       "      <td>0.58</td>\n",
       "      <td>0.95</td>\n",
       "      <td>0.00</td>\n",
       "      <td>0.51</td>\n",
       "      <td>7.66</td>\n",
       "      <td>3.06</td>\n",
       "      <td>0.91</td>\n",
       "      <td>1.68</td>\n",
       "      <td>1.97</td>\n",
       "      <td>0.29</td>\n",
       "      <td>5.18</td>\n",
       "      <td>12.81</td>\n",
       "      <td>3.47</td>\n",
       "      <td>15.98</td>\n",
       "      <td>2.59</td>\n",
       "      <td>6.09</td>\n",
       "      <td>7.59</td>\n",
       "      <td>1.42</td>\n",
       "      <td>1.79</td>\n",
       "      <td>1.39</td>\n",
       "      <td>0.26</td>\n",
       "      <td>1.17</td>\n",
       "      <td>0.11</td>\n",
       "      <td>2.23</td>\n",
       "      <td>0.15</td>\n",
       "      <td>1.06</td>\n",
       "      <td>0.36</td>\n",
       "      <td>0.51</td>\n",
       "      <td>0.00</td>\n",
       "      <td>20.32</td>\n",
       "      <td>7.00</td>\n",
       "      <td>4.52</td>\n",
       "      <td>0.95</td>\n",
       "      <td>0.11</td>\n",
       "      <td>0.33</td>\n",
       "      <td>3.83</td>\n",
       "      <td>0.47</td>\n",
       "      <td>0.44</td>\n",
       "      <td>2.19</td>\n",
       "      <td>0.26</td>\n",
       "      <td>0.22</td>\n",
       "    </tr>\n",
       "    <tr>\n",
       "      <th>3</th>\n",
       "      <td>0e0b122ce777606ae73dd055d76fc1c7</td>\n",
       "      <td>False</td>\n",
       "      <td>False</td>\n",
       "      <td>False</td>\n",
       "      <td>5</td>\n",
       "      <td>8.19</td>\n",
       "      <td>50.00</td>\n",
       "      <td>1.00</td>\n",
       "      <td>1.00</td>\n",
       "      <td>1.67</td>\n",
       "      <td>20.00</td>\n",
       "      <td>80.00</td>\n",
       "      <td>40.00</td>\n",
       "      <td>0.00</td>\n",
       "      <td>0.00</td>\n",
       "      <td>0.00</td>\n",
       "      <td>0.00</td>\n",
       "      <td>0.00</td>\n",
       "      <td>0.00</td>\n",
       "      <td>0.00</td>\n",
       "      <td>0.00</td>\n",
       "      <td>0.00</td>\n",
       "      <td>0.00</td>\n",
       "      <td>20.00</td>\n",
       "      <td>0.00</td>\n",
       "      <td>20.00</td>\n",
       "      <td>0.00</td>\n",
       "      <td>20.00</td>\n",
       "      <td>0.00</td>\n",
       "      <td>0.00</td>\n",
       "      <td>0.00</td>\n",
       "      <td>0.00</td>\n",
       "      <td>0.00</td>\n",
       "      <td>20.00</td>\n",
       "      <td>0.00</td>\n",
       "      <td>20.00</td>\n",
       "      <td>0.00</td>\n",
       "      <td>0.00</td>\n",
       "      <td>0.00</td>\n",
       "      <td>0.00</td>\n",
       "      <td>0.00</td>\n",
       "      <td>0.00</td>\n",
       "      <td>0.00</td>\n",
       "      <td>0.00</td>\n",
       "      <td>0.00</td>\n",
       "      <td>0.00</td>\n",
       "      <td>0.00</td>\n",
       "      <td>0.00</td>\n",
       "      <td>0.00</td>\n",
       "      <td>0.00</td>\n",
       "      <td>0.00</td>\n",
       "      <td>0.00</td>\n",
       "      <td>0.00</td>\n",
       "      <td>0.00</td>\n",
       "      <td>0.00</td>\n",
       "      <td>20.00</td>\n",
       "      <td>0.00</td>\n",
       "      <td>0.00</td>\n",
       "      <td>0.00</td>\n",
       "      <td>20.00</td>\n",
       "      <td>0.00</td>\n",
       "      <td>0.00</td>\n",
       "      <td>0.00</td>\n",
       "      <td>0.00</td>\n",
       "      <td>0.00</td>\n",
       "      <td>0.00</td>\n",
       "      <td>0.00</td>\n",
       "      <td>20.00</td>\n",
       "      <td>0.00</td>\n",
       "      <td>0.00</td>\n",
       "      <td>0.00</td>\n",
       "      <td>0.00</td>\n",
       "      <td>0.00</td>\n",
       "      <td>0.00</td>\n",
       "      <td>20.00</td>\n",
       "      <td>0.00</td>\n",
       "      <td>0.00</td>\n",
       "      <td>0.00</td>\n",
       "      <td>0.00</td>\n",
       "      <td>0.00</td>\n",
       "      <td>0.00</td>\n",
       "      <td>0.00</td>\n",
       "      <td>0.00</td>\n",
       "      <td>0.00</td>\n",
       "      <td>0.00</td>\n",
       "      <td>120.00</td>\n",
       "      <td>40.00</td>\n",
       "      <td>0.00</td>\n",
       "      <td>0.00</td>\n",
       "      <td>0.00</td>\n",
       "      <td>20.00</td>\n",
       "      <td>60.00</td>\n",
       "      <td>0.00</td>\n",
       "      <td>0.00</td>\n",
       "      <td>0.00</td>\n",
       "      <td>0.00</td>\n",
       "      <td>0.00</td>\n",
       "    </tr>\n",
       "    <tr>\n",
       "      <th>4</th>\n",
       "      <td>58bcb86a962fc98d2feb5e3562ac45c0</td>\n",
       "      <td>True</td>\n",
       "      <td>True</td>\n",
       "      <td>False</td>\n",
       "      <td>1548</td>\n",
       "      <td>48.77</td>\n",
       "      <td>42.07</td>\n",
       "      <td>79.91</td>\n",
       "      <td>77.98</td>\n",
       "      <td>8.70</td>\n",
       "      <td>12.21</td>\n",
       "      <td>86.95</td>\n",
       "      <td>48.45</td>\n",
       "      <td>15.44</td>\n",
       "      <td>10.01</td>\n",
       "      <td>7.69</td>\n",
       "      <td>0.65</td>\n",
       "      <td>1.03</td>\n",
       "      <td>0.32</td>\n",
       "      <td>0.32</td>\n",
       "      <td>5.43</td>\n",
       "      <td>5.56</td>\n",
       "      <td>10.53</td>\n",
       "      <td>9.63</td>\n",
       "      <td>5.81</td>\n",
       "      <td>4.65</td>\n",
       "      <td>1.49</td>\n",
       "      <td>18.22</td>\n",
       "      <td>5.17</td>\n",
       "      <td>1.61</td>\n",
       "      <td>1.36</td>\n",
       "      <td>3.68</td>\n",
       "      <td>2.00</td>\n",
       "      <td>6.91</td>\n",
       "      <td>4.84</td>\n",
       "      <td>2.00</td>\n",
       "      <td>0.19</td>\n",
       "      <td>0.45</td>\n",
       "      <td>0.26</td>\n",
       "      <td>7.69</td>\n",
       "      <td>0.90</td>\n",
       "      <td>0.26</td>\n",
       "      <td>0.32</td>\n",
       "      <td>0.84</td>\n",
       "      <td>9.04</td>\n",
       "      <td>1.42</td>\n",
       "      <td>0.97</td>\n",
       "      <td>2.20</td>\n",
       "      <td>2.13</td>\n",
       "      <td>1.36</td>\n",
       "      <td>2.07</td>\n",
       "      <td>2.78</td>\n",
       "      <td>1.10</td>\n",
       "      <td>0.71</td>\n",
       "      <td>0.58</td>\n",
       "      <td>3.49</td>\n",
       "      <td>0.90</td>\n",
       "      <td>0.97</td>\n",
       "      <td>0.00</td>\n",
       "      <td>1.49</td>\n",
       "      <td>6.65</td>\n",
       "      <td>2.26</td>\n",
       "      <td>1.61</td>\n",
       "      <td>1.68</td>\n",
       "      <td>1.87</td>\n",
       "      <td>0.26</td>\n",
       "      <td>3.49</td>\n",
       "      <td>13.44</td>\n",
       "      <td>2.91</td>\n",
       "      <td>17.38</td>\n",
       "      <td>3.04</td>\n",
       "      <td>5.17</td>\n",
       "      <td>9.69</td>\n",
       "      <td>2.26</td>\n",
       "      <td>3.04</td>\n",
       "      <td>0.26</td>\n",
       "      <td>0.58</td>\n",
       "      <td>0.45</td>\n",
       "      <td>0.06</td>\n",
       "      <td>2.97</td>\n",
       "      <td>0.13</td>\n",
       "      <td>1.74</td>\n",
       "      <td>0.71</td>\n",
       "      <td>0.52</td>\n",
       "      <td>0.06</td>\n",
       "      <td>45.09</td>\n",
       "      <td>18.54</td>\n",
       "      <td>1.68</td>\n",
       "      <td>0.19</td>\n",
       "      <td>0.06</td>\n",
       "      <td>1.61</td>\n",
       "      <td>12.14</td>\n",
       "      <td>1.49</td>\n",
       "      <td>1.16</td>\n",
       "      <td>4.13</td>\n",
       "      <td>1.49</td>\n",
       "      <td>2.58</td>\n",
       "    </tr>\n",
       "  </tbody>\n",
       "</table>\n",
       "</div>"
      ],
      "text/plain": [
       "                             userid  smoking_status  alcohol_status  \\\n",
       "0  ba4d96426226699b8c511ce0bee75941            True            True   \n",
       "1  1a388284961e77942bae7a0ead109eea           False            True   \n",
       "2  ec539b2398f80d1f395ba4cc06c230a7           False           False   \n",
       "3  0e0b122ce777606ae73dd055d76fc1c7           False           False   \n",
       "4  58bcb86a962fc98d2feb5e3562ac45c0            True            True   \n",
       "\n",
       "   drug_status    WC  Analytic  Clout  Authentic   Tone    WPS  Sixltr    Dic  \\\n",
       "0         True  7197     43.31  59.44      60.57  44.88  19.94   11.39  82.03   \n",
       "1        False  4025     35.20  73.85      50.29  70.64   8.67   10.71  81.66   \n",
       "2        False  2741     51.55  71.78      53.26  90.03  13.77   14.19  86.25   \n",
       "3        False     5      8.19  50.00       1.00   1.00   1.67   20.00  80.00   \n",
       "4        False  1548     48.77  42.07      79.91  77.98   8.70   12.21  86.95   \n",
       "\n",
       "   function.  pronoun  ppron     i    we   you  shehe  they  ipron  article  \\\n",
       "0      45.07    15.92  11.45  6.27  0.42  3.49   0.51  0.76   4.47     4.15   \n",
       "1      46.26    18.76  14.16  7.08  0.77  5.47   0.40  0.45   4.60     4.05   \n",
       "2      51.77    14.52  10.69  4.85  1.31  2.59   1.61  0.33   3.83     5.25   \n",
       "3      40.00     0.00   0.00  0.00  0.00  0.00   0.00  0.00   0.00     0.00   \n",
       "4      48.45    15.44  10.01  7.69  0.65  1.03   0.32  0.32   5.43     5.56   \n",
       "\n",
       "    prep  auxverb  adverb   conj  negate   verb   adj  compare  interrog  \\\n",
       "0   9.11     7.95    4.71   5.46    2.08  17.13  4.59     1.70      1.56   \n",
       "1   8.99     8.52    4.57   5.44    1.57  17.89  5.19     1.79      1.49   \n",
       "2  12.29    10.40    5.18   5.87    1.53  19.41  4.38     0.95      1.64   \n",
       "3   0.00    20.00    0.00  20.00    0.00  20.00  0.00     0.00      0.00   \n",
       "4  10.53     9.63    5.81   4.65    1.49  18.22  5.17     1.61      1.36   \n",
       "\n",
       "   number  quant  affect  posemo  negemo   anx  anger   sad  social  family  \\\n",
       "0    2.15   1.76    7.54    4.28    3.24  0.24   1.29  0.58   11.17    1.36   \n",
       "1    4.89   1.27    9.69    5.96    3.58  0.37   1.57  0.50   12.50    0.42   \n",
       "2    1.35   1.50    7.88    5.87    2.01  0.04   0.36  0.84   10.65    0.47   \n",
       "3    0.00   0.00   20.00    0.00   20.00  0.00   0.00  0.00    0.00    0.00   \n",
       "4    3.68   2.00    6.91    4.84    2.00  0.19   0.45  0.26    7.69    0.90   \n",
       "\n",
       "   friend  female  male  cogproc  insight  cause  discrep  tentat  certain  \\\n",
       "0    0.53    1.29  0.83    10.56     2.32   1.13     1.90    2.24     1.35   \n",
       "1    0.75    0.65  0.72    10.01     1.91   1.61     2.09    2.19     1.69   \n",
       "2    0.40    1.39  0.80     8.79     1.64   0.73     1.64    2.19     1.64   \n",
       "3    0.00    0.00  0.00     0.00     0.00   0.00     0.00    0.00     0.00   \n",
       "4    0.26    0.32  0.84     9.04     1.42   0.97     2.20    2.13     1.36   \n",
       "\n",
       "   differ  percept   see  hear  feel    bio  body  health  sexual  ingest  \\\n",
       "0    3.36     3.06  1.14  0.60  1.08   3.97  1.28    1.18    0.50    0.71   \n",
       "1    2.11     3.38  1.49  0.92  0.62   4.47  1.86    0.70    0.55    0.87   \n",
       "2    2.26     2.48  1.28  0.40  0.66   2.59  0.58    0.95    0.00    0.51   \n",
       "3    0.00     0.00  0.00  0.00  0.00  20.00  0.00    0.00    0.00   20.00   \n",
       "4    2.07     2.78  1.10  0.71  0.58   3.49  0.90    0.97    0.00    1.49   \n",
       "\n",
       "   drives  affiliation  achieve  power  reward  risk  focuspast  focuspresent  \\\n",
       "0    7.25         2.47     0.82   2.18    1.93  0.43       2.90         12.95   \n",
       "1    7.18         2.78     0.75   2.01    1.96  0.37       2.53         12.45   \n",
       "2    7.66         3.06     0.91   1.68    1.97  0.29       5.18         12.81   \n",
       "3    0.00         0.00     0.00   0.00    0.00  0.00       0.00         20.00   \n",
       "4    6.65         2.26     1.61   1.68    1.87  0.26       3.49         13.44   \n",
       "\n",
       "   focusfuture  relativ  motion  space  time  work  leisure  home  money  \\\n",
       "0         1.74    13.07    2.14   5.66  5.29  0.76     1.46  0.79   0.76   \n",
       "1         2.21    12.42    1.91   5.84  4.89  0.77     1.59  0.17   0.22   \n",
       "2         3.47    15.98    2.59   6.09  7.59  1.42     1.79  1.39   0.26   \n",
       "3         0.00     0.00    0.00   0.00  0.00  0.00    20.00  0.00   0.00   \n",
       "4         2.91    17.38    3.04   5.17  9.69  2.26     3.04  0.26   0.58   \n",
       "\n",
       "   relig  death  informal  swear  netspeak  assent  nonflu  filler  AllPunc  \\\n",
       "0   0.40   0.21      7.35   0.97      5.54    0.25    0.42    0.04    31.15   \n",
       "1   0.30   0.47      4.37   1.59      2.36    0.25    0.25    0.00    38.63   \n",
       "2   1.17   0.11      2.23   0.15      1.06    0.36    0.51    0.00    20.32   \n",
       "3   0.00   0.00      0.00   0.00      0.00    0.00    0.00    0.00   120.00   \n",
       "4   0.45   0.06      2.97   0.13      1.74    0.71    0.52    0.06    45.09   \n",
       "\n",
       "   Period  Comma  Colon  SemiC  QMark  Exclam  Dash  Quote  Apostro  Parenth  \\\n",
       "0    2.96   1.65   0.79   0.07   2.88   17.02  0.40   0.69     2.50     0.49   \n",
       "1   13.59   5.86   2.46   0.32   1.74    1.74  1.09   1.81     4.45     1.59   \n",
       "2    7.00   4.52   0.95   0.11   0.33    3.83  0.47   0.44     2.19     0.26   \n",
       "3   40.00   0.00   0.00   0.00  20.00   60.00  0.00   0.00     0.00     0.00   \n",
       "4   18.54   1.68   0.19   0.06   1.61   12.14  1.49   1.16     4.13     1.49   \n",
       "\n",
       "   OtherP  \n",
       "0    1.70  \n",
       "1    3.98  \n",
       "2    0.22  \n",
       "3    0.00  \n",
       "4    2.58  "
      ]
     },
     "execution_count": 3,
     "metadata": {},
     "output_type": "execute_result"
    }
   ],
   "source": [
    "df = pd.read_parquet(\"merged_data/df_cascade_consumption_liwc.parquet\")\n",
    "print(f\"Duplicates: {df.duplicated().sum()}\")\n",
    "print(f\"Missing values: {df.isnull().sum().sum()}\")\n",
    "print()\n",
    "display_data_shape(df)\n",
    "df.head()"
   ]
  },
  {
   "cell_type": "markdown",
   "metadata": {},
   "source": [
    "### 1.2) Filter Based on word count (WC)?"
   ]
  },
  {
   "cell_type": "code",
   "execution_count": 4,
   "metadata": {},
   "outputs": [
    {
     "name": "stdout",
     "output_type": "stream",
     "text": [
      "Minimum word count: 1\n"
     ]
    },
    {
     "data": {
      "image/png": "[encoded data removed]",
      "text/plain": [
       "<Figure size 1000x200 with 1 Axes>"
      ]
     },
     "metadata": {},
     "output_type": "display_data"
    }
   ],
   "source": [
    "plt.figure(figsize=(10, 2))\n",
    "plt.title('Word count distribution', weight='bold')\n",
    "sns.stripplot(\n",
    "        x='WC', data=df,\n",
    "        jitter=True, alpha=.3,\n",
    "        color='navy'\n",
    ")\n",
    "plt.xlabel(\"\")\n",
    "print(f\"Minimum word count: {df['WC'].min()}\")"
   ]
  },
  {
   "cell_type": "markdown",
   "metadata": {},
   "source": [
    "- Instances with word count <= 50?"
   ]
  },
  {
   "cell_type": "code",
   "execution_count": 5,
   "metadata": {},
   "outputs": [
    {
     "data": {
      "text/plain": [
       "45"
      ]
     },
     "execution_count": 5,
     "metadata": {},
     "output_type": "execute_result"
    }
   ],
   "source": [
    "df.query(\"WC <= 50\").shape[0]"
   ]
  },
  {
   "cell_type": "code",
   "execution_count": 5,
   "metadata": {},
   "outputs": [
    {
     "name": "stdout",
     "output_type": "stream",
     "text": [
      "Data dimensions:\n",
      "---------------------------------------------------------------------\n",
      " - Number of observations: 1,140\n",
      " - Number of columns: 97\n"
     ]
    }
   ],
   "source": [
    "#threshold = int(input(\"Enter the minimum word count: \")) # 50\n",
    "df = df.query('WC >= 50')\n",
    "display_data_shape(df)"
   ]
  },
  {
   "cell_type": "markdown",
   "metadata": {},
   "source": [
    "### 1.3) Train-Test-Split\n",
    "- define feature and predictor sets:"
   ]
  },
  {
   "cell_type": "code",
   "execution_count": 6,
   "metadata": {},
   "outputs": [
    {
     "name": "stdout",
     "output_type": "stream",
     "text": [
      "# features in liwc: 93\n",
      "Targets: ['smoking_status', 'alcohol_status', 'drug_status']\n"
     ]
    }
   ],
   "source": [
    "consumption = [c for c in df.columns if c.endswith('status')]\n",
    "liwc        = [\n",
    "        c for c in df.columns\n",
    "            if c not in consumption\n",
    "            and c != 'userid'\n",
    "    ]\n",
    "\n",
    "print(f\"# features in liwc: {len(liwc)}\")\n",
    "print(f\"Targets: {consumption}\")"
   ]
  },
  {
   "cell_type": "markdown",
   "metadata": {},
   "source": [
    "- train-test-split():"
   ]
  },
  {
   "cell_type": "code",
   "execution_count": 7,
   "metadata": {},
   "outputs": [],
   "source": [
    "from sklearn.model_selection import train_test_split"
   ]
  },
  {
   "cell_type": "code",
   "execution_count": 8,
   "metadata": {},
   "outputs": [],
   "source": [
    "X = df[liwc]\n",
    "y = df['smoking_status'].astype(int)\n",
    "\n",
    "\n",
    "'Smoking'\n",
    "X_train, X_test, \\\n",
    "    y_train, y_test = train_test_split(\n",
    "                                X, y, test_size=0.2, stratify=y, random_state=42\n",
    "    )"
   ]
  },
  {
   "cell_type": "code",
   "execution_count": 10,
   "metadata": {},
   "outputs": [
    {
     "data": {
      "application/vnd.plotly.v1+json": {
       "config": {
        "plotlyServerURL": "https://plot.ly"
       },
       "data": [
        {
         "hoverinfo": "name+x",
         "marker": {
          "color": "midnightblue"
         },
         "name": "False",
         "orientation": "h",
         "showlegend": true,
         "text": "74.74%",
         "textposition": "inside",
         "type": "bar",
         "x": [
          74.74
         ],
         "xaxis": "x",
         "y": [
          "smoking_status"
         ],
         "yaxis": "y"
        },
        {
         "hoverinfo": "name+x",
         "marker": {
          "color": "red"
         },
         "name": "True",
         "orientation": "h",
         "showlegend": true,
         "text": "25.26%",
         "textposition": "inside",
         "type": "bar",
         "x": [
          25.26
         ],
         "xaxis": "x",
         "y": [
          "smoking_status"
         ],
         "yaxis": "y"
        }
       ],
       "layout": {
        "barmode": "stack",
        "legend": {
         "itemsizing": "constant",
         "traceorder": "normal"
        },
        "template": {
         "data": {
          "bar": [
           {
            "error_x": {
             "color": "#2a3f5f"
            },
            "error_y": {
             "color": "#2a3f5f"
            },
            "marker": {
             "line": {
              "color": "#E5ECF6",
              "width": 0.5
             },
             "pattern": {
              "fillmode": "overlay",
              "size": 10,
              "solidity": 0.2
             }
            },
            "type": "bar"
           }
          ],
          "barpolar": [
           {
            "marker": {
             "line": {
              "color": "#E5ECF6",
              "width": 0.5
             },
             "pattern": {
              "fillmode": "overlay",
              "size": 10,
              "solidity": 0.2
             }
            },
            "type": "barpolar"
           }
          ],
          "carpet": [
           {
            "aaxis": {
             "endlinecolor": "#2a3f5f",
             "gridcolor": "white",
             "linecolor": "white",
             "minorgridcolor": "white",
             "startlinecolor": "#2a3f5f"
            },
            "baxis": {
             "endlinecolor": "#2a3f5f",
             "gridcolor": "white",
             "linecolor": "white",
             "minorgridcolor": "white",
             "startlinecolor": "#2a3f5f"
            },
            "type": "carpet"
           }
          ],
          "choropleth": [
           {
            "colorbar": {
             "outlinewidth": 0,
             "ticks": ""
            },
            "type": "choropleth"
           }
          ],
          "contour": [
           {
            "colorbar": {
             "outlinewidth": 0,
             "ticks": ""
            },
            "colorscale": [
             [
              0,
              "#0d0887"
             ],
             [
              0.1111111111111111,
              "#46039f"
             ],
             [
              0.2222222222222222,
              "#7201a8"
             ],
             [
              0.3333333333333333,
              "#9c179e"
             ],
             [
              0.4444444444444444,
              "#bd3786"
             ],
             [
              0.5555555555555556,
              "#d8576b"
             ],
             [
              0.6666666666666666,
              "#ed7953"
             ],
             [
              0.7777777777777778,
              "#fb9f3a"
             ],
             [
              0.8888888888888888,
              "#fdca26"
             ],
             [
              1,
              "#f0f921"
             ]
            ],
            "type": "contour"
           }
          ],
          "contourcarpet": [
           {
            "colorbar": {
             "outlinewidth": 0,
             "ticks": ""
            },
            "type": "contourcarpet"
           }
          ],
          "heatmap": [
           {
            "colorbar": {
             "outlinewidth": 0,
             "ticks": ""
            },
            "colorscale": [
             [
              0,
              "#0d0887"
             ],
             [
              0.1111111111111111,
              "#46039f"
             ],
             [
              0.2222222222222222,
              "#7201a8"
             ],
             [
              0.3333333333333333,
              "#9c179e"
             ],
             [
              0.4444444444444444,
              "#bd3786"
             ],
             [
              0.5555555555555556,
              "#d8576b"
             ],
             [
              0.6666666666666666,
              "#ed7953"
             ],
             [
              0.7777777777777778,
              "#fb9f3a"
             ],
             [
              0.8888888888888888,
              "#fdca26"
             ],
             [
              1,
              "#f0f921"
             ]
            ],
            "type": "heatmap"
           }
          ],
          "heatmapgl": [
           {
            "colorbar": {
             "outlinewidth": 0,
             "ticks": ""
            },
            "colorscale": [
             [
              0,
              "#0d0887"
             ],
             [
              0.1111111111111111,
              "#46039f"
             ],
             [
              0.2222222222222222,
              "#7201a8"
             ],
             [
              0.3333333333333333,
              "#9c179e"
             ],
             [
              0.4444444444444444,
              "#bd3786"
             ],
             [
              0.5555555555555556,
              "#d8576b"
             ],
             [
              0.6666666666666666,
              "#ed7953"
             ],
             [
              0.7777777777777778,
              "#fb9f3a"
             ],
             [
              0.8888888888888888,
              "#fdca26"
             ],
             [
              1,
              "#f0f921"
             ]
            ],
            "type": "heatmapgl"
           }
          ],
          "histogram": [
           {
            "marker": {
             "pattern": {
              "fillmode": "overlay",
              "size": 10,
              "solidity": 0.2
             }
            },
            "type": "histogram"
           }
          ],
          "histogram2d": [
           {
            "colorbar": {
             "outlinewidth": 0,
             "ticks": ""
            },
            "colorscale": [
             [
              0,
              "#0d0887"
             ],
             [
              0.1111111111111111,
              "#46039f"
             ],
             [
              0.2222222222222222,
              "#7201a8"
             ],
             [
              0.3333333333333333,
              "#9c179e"
             ],
             [
              0.4444444444444444,
              "#bd3786"
             ],
             [
              0.5555555555555556,
              "#d8576b"
             ],
             [
              0.6666666666666666,
              "#ed7953"
             ],
             [
              0.7777777777777778,
              "#fb9f3a"
             ],
             [
              0.8888888888888888,
              "#fdca26"
             ],
             [
              1,
              "#f0f921"
             ]
            ],
            "type": "histogram2d"
           }
          ],
          "histogram2dcontour": [
           {
            "colorbar": {
             "outlinewidth": 0,
             "ticks": ""
            },
            "colorscale": [
             [
              0,
              "#0d0887"
             ],
             [
              0.1111111111111111,
              "#46039f"
             ],
             [
              0.2222222222222222,
              "#7201a8"
             ],
             [
              0.3333333333333333,
              "#9c179e"
             ],
             [
              0.4444444444444444,
              "#bd3786"
             ],
             [
              0.5555555555555556,
              "#d8576b"
             ],
             [
              0.6666666666666666,
              "#ed7953"
             ],
             [
              0.7777777777777778,
              "#fb9f3a"
             ],
             [
              0.8888888888888888,
              "#fdca26"
             ],
             [
              1,
              "#f0f921"
             ]
            ],
            "type": "histogram2dcontour"
           }
          ],
          "mesh3d": [
           {
            "colorbar": {
             "outlinewidth": 0,
             "ticks": ""
            },
            "type": "mesh3d"
           }
          ],
          "parcoords": [
           {
            "line": {
             "colorbar": {
              "outlinewidth": 0,
              "ticks": ""
             }
            },
            "type": "parcoords"
           }
          ],
          "pie": [
           {
            "automargin": true,
            "type": "pie"
           }
          ],
          "scatter": [
           {
            "fillpattern": {
             "fillmode": "overlay",
             "size": 10,
             "solidity": 0.2
            },
            "type": "scatter"
           }
          ],
          "scatter3d": [
           {
            "line": {
             "colorbar": {
              "outlinewidth": 0,
              "ticks": ""
             }
            },
            "marker": {
             "colorbar": {
              "outlinewidth": 0,
              "ticks": ""
             }
            },
            "type": "scatter3d"
           }
          ],
          "scattercarpet": [
           {
            "marker": {
             "colorbar": {
              "outlinewidth": 0,
              "ticks": ""
             }
            },
            "type": "scattercarpet"
           }
          ],
          "scattergeo": [
           {
            "marker": {
             "colorbar": {
              "outlinewidth": 0,
              "ticks": ""
             }
            },
            "type": "scattergeo"
           }
          ],
          "scattergl": [
           {
            "marker": {
             "colorbar": {
              "outlinewidth": 0,
              "ticks": ""
             }
            },
            "type": "scattergl"
           }
          ],
          "scattermapbox": [
           {
            "marker": {
             "colorbar": {
              "outlinewidth": 0,
              "ticks": ""
             }
            },
            "type": "scattermapbox"
           }
          ],
          "scatterpolar": [
           {
            "marker": {
             "colorbar": {
              "outlinewidth": 0,
              "ticks": ""
             }
            },
            "type": "scatterpolar"
           }
          ],
          "scatterpolargl": [
           {
            "marker": {
             "colorbar": {
              "outlinewidth": 0,
              "ticks": ""
             }
            },
            "type": "scatterpolargl"
           }
          ],
          "scatterternary": [
           {
            "marker": {
             "colorbar": {
              "outlinewidth": 0,
              "ticks": ""
             }
            },
            "type": "scatterternary"
           }
          ],
          "surface": [
           {
            "colorbar": {
             "outlinewidth": 0,
             "ticks": ""
            },
            "colorscale": [
             [
              0,
              "#0d0887"
             ],
             [
              0.1111111111111111,
              "#46039f"
             ],
             [
              0.2222222222222222,
              "#7201a8"
             ],
             [
              0.3333333333333333,
              "#9c179e"
             ],
             [
              0.4444444444444444,
              "#bd3786"
             ],
             [
              0.5555555555555556,
              "#d8576b"
             ],
             [
              0.6666666666666666,
              "#ed7953"
             ],
             [
              0.7777777777777778,
              "#fb9f3a"
             ],
             [
              0.8888888888888888,
              "#fdca26"
             ],
             [
              1,
              "#f0f921"
             ]
            ],
            "type": "surface"
           }
          ],
          "table": [
           {
            "cells": {
             "fill": {
              "color": "#EBF0F8"
             },
             "line": {
              "color": "white"
             }
            },
            "header": {
             "fill": {
              "color": "#C8D4E3"
             },
             "line": {
              "color": "white"
             }
            },
            "type": "table"
           }
          ]
         },
         "layout": {
          "annotationdefaults": {
           "arrowcolor": "#2a3f5f",
           "arrowhead": 0,
           "arrowwidth": 1
          },
          "autotypenumbers": "strict",
          "coloraxis": {
           "colorbar": {
            "outlinewidth": 0,
            "ticks": ""
           }
          },
          "colorscale": {
           "diverging": [
            [
             0,
             "#8e0152"
            ],
            [
             0.1,
             "#c51b7d"
            ],
            [
             0.2,
             "#de77ae"
            ],
            [
             0.3,
             "#f1b6da"
            ],
            [
             0.4,
             "#fde0ef"
            ],
            [
             0.5,
             "#f7f7f7"
            ],
            [
             0.6,
             "#e6f5d0"
            ],
            [
             0.7,
             "#b8e186"
            ],
            [
             0.8,
             "#7fbc41"
            ],
            [
             0.9,
             "#4d9221"
            ],
            [
             1,
             "#276419"
            ]
           ],
           "sequential": [
            [
             0,
             "#0d0887"
            ],
            [
             0.1111111111111111,
             "#46039f"
            ],
            [
             0.2222222222222222,
             "#7201a8"
            ],
            [
             0.3333333333333333,
             "#9c179e"
            ],
            [
             0.4444444444444444,
             "#bd3786"
            ],
            [
             0.5555555555555556,
             "#d8576b"
            ],
            [
             0.6666666666666666,
             "#ed7953"
            ],
            [
             0.7777777777777778,
             "#fb9f3a"
            ],
            [
             0.8888888888888888,
             "#fdca26"
            ],
            [
             1,
             "#f0f921"
            ]
           ],
           "sequentialminus": [
            [
             0,
             "#0d0887"
            ],
            [
             0.1111111111111111,
             "#46039f"
            ],
            [
             0.2222222222222222,
             "#7201a8"
            ],
            [
             0.3333333333333333,
             "#9c179e"
            ],
            [
             0.4444444444444444,
             "#bd3786"
            ],
            [
             0.5555555555555556,
             "#d8576b"
            ],
            [
             0.6666666666666666,
             "#ed7953"
            ],
            [
             0.7777777777777778,
             "#fb9f3a"
            ],
            [
             0.8888888888888888,
             "#fdca26"
            ],
            [
             1,
             "#f0f921"
            ]
           ]
          },
          "colorway": [
           "#636efa",
           "#EF553B",
           "#00cc96",
           "#ab63fa",
           "#FFA15A",
           "#19d3f3",
           "#FF6692",
           "#B6E880",
           "#FF97FF",
           "#FECB52"
          ],
          "font": {
           "color": "#2a3f5f"
          },
          "geo": {
           "bgcolor": "white",
           "lakecolor": "white",
           "landcolor": "#E5ECF6",
           "showlakes": true,
           "showland": true,
           "subunitcolor": "white"
          },
          "hoverlabel": {
           "align": "left"
          },
          "hovermode": "closest",
          "mapbox": {
           "style": "light"
          },
          "paper_bgcolor": "white",
          "plot_bgcolor": "#E5ECF6",
          "polar": {
           "angularaxis": {
            "gridcolor": "white",
            "linecolor": "white",
            "ticks": ""
           },
           "bgcolor": "#E5ECF6",
           "radialaxis": {
            "gridcolor": "white",
            "linecolor": "white",
            "ticks": ""
           }
          },
          "scene": {
           "xaxis": {
            "backgroundcolor": "#E5ECF6",
            "gridcolor": "white",
            "gridwidth": 2,
            "linecolor": "white",
            "showbackground": true,
            "ticks": "",
            "zerolinecolor": "white"
           },
           "yaxis": {
            "backgroundcolor": "#E5ECF6",
            "gridcolor": "white",
            "gridwidth": 2,
            "linecolor": "white",
            "showbackground": true,
            "ticks": "",
            "zerolinecolor": "white"
           },
           "zaxis": {
            "backgroundcolor": "#E5ECF6",
            "gridcolor": "white",
            "gridwidth": 2,
            "linecolor": "white",
            "showbackground": true,
            "ticks": "",
            "zerolinecolor": "white"
           }
          },
          "shapedefaults": {
           "line": {
            "color": "#2a3f5f"
           }
          },
          "ternary": {
           "aaxis": {
            "gridcolor": "white",
            "linecolor": "white",
            "ticks": ""
           },
           "baxis": {
            "gridcolor": "white",
            "linecolor": "white",
            "ticks": ""
           },
           "bgcolor": "#E5ECF6",
           "caxis": {
            "gridcolor": "white",
            "linecolor": "white",
            "ticks": ""
           }
          },
          "title": {
           "x": 0.05
          },
          "xaxis": {
           "automargin": true,
           "gridcolor": "white",
           "linecolor": "white",
           "ticks": "",
           "title": {
            "standoff": 15
           },
           "zerolinecolor": "white",
           "zerolinewidth": 2
          },
          "yaxis": {
           "automargin": true,
           "gridcolor": "white",
           "linecolor": "white",
           "ticks": "",
           "title": {
            "standoff": 15
           },
           "zerolinecolor": "white",
           "zerolinewidth": 2
          }
         }
        },
        "title": {
         "text": "Stacked Bar Chart of Binary Target Variables"
        },
        "uniformtext": {
         "minsize": 8,
         "mode": "hide"
        },
        "xaxis": {
         "anchor": "y",
         "domain": [
          0,
          1
         ],
         "tickformat": ",.2f",
         "title": {
          "text": "Percentage"
         }
        },
        "yaxis": {
         "anchor": "x",
         "domain": [
          0,
          1
         ],
         "ticktext": [
          "smoking_status"
         ],
         "tickvals": [
          "smoking_status"
         ]
        }
       }
      }
     },
     "metadata": {},
     "output_type": "display_data"
    }
   ],
   "source": [
    "plot_target_ratios(\n",
    "    df      = pd.concat([X, y], axis=1),\n",
    "    targets = ['smoking_status'],\n",
    ")"
   ]
  },
  {
   "cell_type": "markdown",
   "metadata": {},
   "source": [
    "- Weight definition for manjority class:"
   ]
  },
  {
   "cell_type": "code",
   "execution_count": 11,
   "metadata": {},
   "outputs": [
    {
     "data": {
      "text/html": [
       "<div>\n",
       "<style scoped>\n",
       "    .dataframe tbody tr th:only-of-type {\n",
       "        vertical-align: middle;\n",
       "    }\n",
       "\n",
       "    .dataframe tbody tr th {\n",
       "        vertical-align: top;\n",
       "    }\n",
       "\n",
       "    .dataframe thead th {\n",
       "        text-align: right;\n",
       "    }\n",
       "</style>\n",
       "<table border=\"1\" class=\"dataframe\">\n",
       "  <thead>\n",
       "    <tr style=\"text-align: right;\">\n",
       "      <th></th>\n",
       "      <th>class_weight</th>\n",
       "    </tr>\n",
       "  </thead>\n",
       "  <tbody>\n",
       "    <tr>\n",
       "      <th>smoking_status</th>\n",
       "      <td>2.97</td>\n",
       "    </tr>\n",
       "  </tbody>\n",
       "</table>\n",
       "</div>"
      ],
      "text/plain": [
       "                class_weight\n",
       "smoking_status          2.97"
      ]
     },
     "execution_count": 11,
     "metadata": {},
     "output_type": "execute_result"
    }
   ],
   "source": [
    "# select label frequencies\n",
    "class_0, class_1 = y_train.value_counts()[0], y_train.value_counts()[1]\n",
    "\n",
    "# compute class weights for each target:\n",
    "# -> formula = n negative samples / n positive samples\n",
    "minority_weight = round(class_0 / class_1, 2)\n",
    "\n",
    "# display as dataframe\n",
    "pd.DataFrame(\n",
    "        data    = [minority_weight],\n",
    "        index   = ['smoking_status'],\n",
    "        columns = ['class_weight']\n",
    ")"
   ]
  },
  {
   "cell_type": "markdown",
   "metadata": {},
   "source": [
    "## **2) EDA & Feature Selection**\n",
    "---"
   ]
  },
  {
   "cell_type": "markdown",
   "metadata": {},
   "source": [
    "### 2.1) Distribution Analysis:"
   ]
  },
  {
   "cell_type": "markdown",
   "metadata": {},
   "source": [
    "- Wit respect to targets:"
   ]
  },
  {
   "cell_type": "code",
   "execution_count": 12,
   "metadata": {},
   "outputs": [],
   "source": [
    "#plot_continuous_features_target(\n",
    "#    df       = pd.concat([X_train_drug, y_train_drug], axis=1),\n",
    "#    features = liwc,\n",
    "#    target   = 'drug_status',\n",
    "#    title    = 'drug Status',\n",
    "#)"
   ]
  },
  {
   "cell_type": "markdown",
   "metadata": {},
   "source": [
    "### 2.2) Non-Normal: Mann-Whitney U"
   ]
  },
  {
   "cell_type": "markdown",
   "metadata": {},
   "source": [
    "- Without p-value adjustment:"
   ]
  },
  {
   "cell_type": "code",
   "execution_count": 9,
   "metadata": {},
   "outputs": [
    {
     "name": "stdout",
     "output_type": "stream",
     "text": [
      "Test α < 0.05\n",
      "~~~~~~~~~~~~~~~~~~~~~~~~~~~~~~~~~~~~~~~\n",
      "26 out of 93 features are significant with respect to smoking_status based on raw p-values:\n",
      "['bio', 'swear', 'work', 'sexual', 'number', 'see', 'percept', 'Colon', 'focuspast', 'assent', 'time', 'adverb', 'health', 'nonflu', 'leisure', 'Sixltr', 'social', 'hear', 'body', 'anx', 'you', 'adj', 'anger', 'informal', 'cause', 'home']\n"
     ]
    }
   ],
   "source": [
    "print(f\"Test α < 0.05\\n{39*'~'}\")\n",
    "f_005_df = mannwhitney(\n",
    "    data     = pd.concat([X_train, y_train], axis=1),\n",
    "    features = liwc,\n",
    "    target   = 'smoking_status',\n",
    "    alpha    = 0.05\n",
    ")\n",
    "\n",
    "features_005 = f_005_df['feature'].tolist()\n",
    "print(features_005)"
   ]
  },
  {
   "cell_type": "markdown",
   "metadata": {},
   "source": [
    "- With p-value adjustment ( Benjamini Hochberg Correction ):"
   ]
  },
  {
   "cell_type": "code",
   "execution_count": 9,
   "metadata": {},
   "outputs": [
    {
     "name": "stdout",
     "output_type": "stream",
     "text": [
      "Test α < 0.05\n",
      "~~~~~~~~~~~~~~~~~~~~~~~~~~~~~~~~~~~~~~~\n",
      "16 out of 93 features are significant with respect to smoking_status after p-value adjustment:\n",
      "['work', 'swear', 'bio', 'sexual', 'number', 'see', 'percept', 'Colon', 'focuspast', 'assent', 'time', 'adverb', 'health', 'nonflu', 'leisure', 'Sixltr']\n"
     ]
    }
   ],
   "source": [
    "print(f\"Test α < 0.05\\n{39*'~'}\")\n",
    "f_005_df = smoking_features_df = mannwhitney_adjusted(\n",
    "    data     = pd.concat([X_train, y_train], axis=1),\n",
    "    features = liwc,\n",
    "    target   = 'smoking_status',\n",
    "    alpha    = 0.05\n",
    ")\n",
    "\n",
    "features_005_adj = f_005_df['feature'].tolist()\n",
    "print(features_005_adj)\n"
   ]
  },
  {
   "cell_type": "markdown",
   "metadata": {},
   "source": [
    "## **3) Target Modeling: Drugs**\n",
    "---\n",
    "### **3.0) Dummy Classifier as Baseline**"
   ]
  },
  {
   "cell_type": "code",
   "execution_count": 11,
   "metadata": {},
   "outputs": [
    {
     "name": "stdout",
     "output_type": "stream",
     "text": [
      "Classification Reports :\n",
      "__________________________________________________________________\n",
      "\n",
      "- Train Set:\n",
      "~~~~~~~~~~~~~~~~~~~~~~~~~~~~~~~~~~~~~~~~~~~~~~~~~~~~~~~~~~~\n"
     ]
    },
    {
     "data": {
      "text/html": [
       "<style type=\"text/css\">\n",
       "#T_1bb89_row0_col0 {\n",
       "  background-color: #d94801;\n",
       "  color: #f1f1f1;\n",
       "}\n",
       "#T_1bb89_row0_col1, #T_1bb89_row0_col2 {\n",
       "  background-color: #d84801;\n",
       "  color: #f1f1f1;\n",
       "}\n",
       "#T_1bb89_row1_col0 {\n",
       "  background-color: #fdcfa0;\n",
       "  color: #000000;\n",
       "}\n",
       "#T_1bb89_row1_col1, #T_1bb89_row1_col2 {\n",
       "  background-color: #fdd0a2;\n",
       "  color: #000000;\n",
       "}\n",
       "#T_1bb89_row2_col0, #T_1bb89_row2_col1, #T_1bb89_row2_col2 {\n",
       "  background-color: #f16813;\n",
       "  color: #f1f1f1;\n",
       "}\n",
       "</style>\n",
       "<table id=\"T_1bb89\">\n",
       "  <thead>\n",
       "    <tr>\n",
       "      <th class=\"blank level0\" >&nbsp;</th>\n",
       "      <th id=\"T_1bb89_level0_col0\" class=\"col_heading level0 col0\" >precision</th>\n",
       "      <th id=\"T_1bb89_level0_col1\" class=\"col_heading level0 col1\" >recall</th>\n",
       "      <th id=\"T_1bb89_level0_col2\" class=\"col_heading level0 col2\" >f1-score</th>\n",
       "      <th id=\"T_1bb89_level0_col3\" class=\"col_heading level0 col3\" >support</th>\n",
       "    </tr>\n",
       "  </thead>\n",
       "  <tbody>\n",
       "    <tr>\n",
       "      <th id=\"T_1bb89_level0_row0\" class=\"row_heading level0 row0\" >0</th>\n",
       "      <td id=\"T_1bb89_row0_col0\" class=\"data row0 col0\" >0.748905</td>\n",
       "      <td id=\"T_1bb89_row0_col1\" class=\"data row0 col1\" >0.752199</td>\n",
       "      <td id=\"T_1bb89_row0_col2\" class=\"data row0 col2\" >0.750549</td>\n",
       "      <td id=\"T_1bb89_row0_col3\" class=\"data row0 col3\" >682.000000</td>\n",
       "    </tr>\n",
       "    <tr>\n",
       "      <th id=\"T_1bb89_level0_row1\" class=\"row_heading level0 row1\" >1</th>\n",
       "      <td id=\"T_1bb89_row1_col0\" class=\"data row1 col0\" >0.255507</td>\n",
       "      <td id=\"T_1bb89_row1_col1\" class=\"data row1 col1\" >0.252174</td>\n",
       "      <td id=\"T_1bb89_row1_col2\" class=\"data row1 col2\" >0.253829</td>\n",
       "      <td id=\"T_1bb89_row1_col3\" class=\"data row1 col3\" >230.000000</td>\n",
       "    </tr>\n",
       "    <tr>\n",
       "      <th id=\"T_1bb89_level0_row2\" class=\"row_heading level0 row2\" >accuracy</th>\n",
       "      <td id=\"T_1bb89_row2_col0\" class=\"data row2 col0\" >0.626096</td>\n",
       "      <td id=\"T_1bb89_row2_col1\" class=\"data row2 col1\" >0.626096</td>\n",
       "      <td id=\"T_1bb89_row2_col2\" class=\"data row2 col2\" >0.626096</td>\n",
       "      <td id=\"T_1bb89_row2_col3\" class=\"data row2 col3\" >0.626096</td>\n",
       "    </tr>\n",
       "    <tr>\n",
       "      <th id=\"T_1bb89_level0_row3\" class=\"row_heading level0 row3\" >macro avg</th>\n",
       "      <td id=\"T_1bb89_row3_col0\" class=\"data row3 col0\" >0.502206</td>\n",
       "      <td id=\"T_1bb89_row3_col1\" class=\"data row3 col1\" >0.502187</td>\n",
       "      <td id=\"T_1bb89_row3_col2\" class=\"data row3 col2\" >0.502189</td>\n",
       "      <td id=\"T_1bb89_row3_col3\" class=\"data row3 col3\" >912.000000</td>\n",
       "    </tr>\n",
       "    <tr>\n",
       "      <th id=\"T_1bb89_level0_row4\" class=\"row_heading level0 row4\" >weighted avg</th>\n",
       "      <td id=\"T_1bb89_row4_col0\" class=\"data row4 col0\" >0.624473</td>\n",
       "      <td id=\"T_1bb89_row4_col1\" class=\"data row4 col1\" >0.626096</td>\n",
       "      <td id=\"T_1bb89_row4_col2\" class=\"data row4 col2\" >0.625280</td>\n",
       "      <td id=\"T_1bb89_row4_col3\" class=\"data row4 col3\" >912.000000</td>\n",
       "    </tr>\n",
       "  </tbody>\n",
       "</table>\n"
      ],
      "text/plain": [
       "<pandas.io.formats.style.Styler at 0x139913160>"
      ]
     },
     "metadata": {},
     "output_type": "display_data"
    },
    {
     "name": "stdout",
     "output_type": "stream",
     "text": [
      "\n",
      "- Test Set:\n",
      "~~~~~~~~~~~~~~~~~~~~~~~~~~~~~~~~~~~~~~~~~~~~~~~~~~~~~~~~~~~\n"
     ]
    },
    {
     "data": {
      "text/html": [
       "<style type=\"text/css\">\n",
       "#T_9bf36_row0_col0 {\n",
       "  background-color: #db4a02;\n",
       "  color: #f1f1f1;\n",
       "}\n",
       "#T_9bf36_row0_col1 {\n",
       "  background-color: #d54601;\n",
       "  color: #f1f1f1;\n",
       "}\n",
       "#T_9bf36_row0_col2 {\n",
       "  background-color: #d84801;\n",
       "  color: #f1f1f1;\n",
       "}\n",
       "#T_9bf36_row1_col0 {\n",
       "  background-color: #fdd2a6;\n",
       "  color: #000000;\n",
       "}\n",
       "#T_9bf36_row1_col1 {\n",
       "  background-color: #fdd5ab;\n",
       "  color: #000000;\n",
       "}\n",
       "#T_9bf36_row1_col2 {\n",
       "  background-color: #fdd3a9;\n",
       "  color: #000000;\n",
       "}\n",
       "#T_9bf36_row2_col0, #T_9bf36_row2_col1, #T_9bf36_row2_col2 {\n",
       "  background-color: #f16913;\n",
       "  color: #f1f1f1;\n",
       "}\n",
       "</style>\n",
       "<table id=\"T_9bf36\">\n",
       "  <thead>\n",
       "    <tr>\n",
       "      <th class=\"blank level0\" >&nbsp;</th>\n",
       "      <th id=\"T_9bf36_level0_col0\" class=\"col_heading level0 col0\" >precision</th>\n",
       "      <th id=\"T_9bf36_level0_col1\" class=\"col_heading level0 col1\" >recall</th>\n",
       "      <th id=\"T_9bf36_level0_col2\" class=\"col_heading level0 col2\" >f1-score</th>\n",
       "      <th id=\"T_9bf36_level0_col3\" class=\"col_heading level0 col3\" >support</th>\n",
       "    </tr>\n",
       "  </thead>\n",
       "  <tbody>\n",
       "    <tr>\n",
       "      <th id=\"T_9bf36_level0_row0\" class=\"row_heading level0 row0\" >0</th>\n",
       "      <td id=\"T_9bf36_row0_col0\" class=\"data row0 col0\" >0.741379</td>\n",
       "      <td id=\"T_9bf36_row0_col1\" class=\"data row0 col1\" >0.758824</td>\n",
       "      <td id=\"T_9bf36_row0_col2\" class=\"data row0 col2\" >0.750000</td>\n",
       "      <td id=\"T_9bf36_row0_col3\" class=\"data row0 col3\" >170.000000</td>\n",
       "    </tr>\n",
       "    <tr>\n",
       "      <th id=\"T_9bf36_level0_row1\" class=\"row_heading level0 row1\" >1</th>\n",
       "      <td id=\"T_9bf36_row1_col0\" class=\"data row1 col0\" >0.240741</td>\n",
       "      <td id=\"T_9bf36_row1_col1\" class=\"data row1 col1\" >0.224138</td>\n",
       "      <td id=\"T_9bf36_row1_col2\" class=\"data row1 col2\" >0.232143</td>\n",
       "      <td id=\"T_9bf36_row1_col3\" class=\"data row1 col3\" >58.000000</td>\n",
       "    </tr>\n",
       "    <tr>\n",
       "      <th id=\"T_9bf36_level0_row2\" class=\"row_heading level0 row2\" >accuracy</th>\n",
       "      <td id=\"T_9bf36_row2_col0\" class=\"data row2 col0\" >0.622807</td>\n",
       "      <td id=\"T_9bf36_row2_col1\" class=\"data row2 col1\" >0.622807</td>\n",
       "      <td id=\"T_9bf36_row2_col2\" class=\"data row2 col2\" >0.622807</td>\n",
       "      <td id=\"T_9bf36_row2_col3\" class=\"data row2 col3\" >0.622807</td>\n",
       "    </tr>\n",
       "    <tr>\n",
       "      <th id=\"T_9bf36_level0_row3\" class=\"row_heading level0 row3\" >macro avg</th>\n",
       "      <td id=\"T_9bf36_row3_col0\" class=\"data row3 col0\" >0.491060</td>\n",
       "      <td id=\"T_9bf36_row3_col1\" class=\"data row3 col1\" >0.491481</td>\n",
       "      <td id=\"T_9bf36_row3_col2\" class=\"data row3 col2\" >0.491071</td>\n",
       "      <td id=\"T_9bf36_row3_col3\" class=\"data row3 col3\" >228.000000</td>\n",
       "    </tr>\n",
       "    <tr>\n",
       "      <th id=\"T_9bf36_level0_row4\" class=\"row_heading level0 row4\" >weighted avg</th>\n",
       "      <td id=\"T_9bf36_row4_col0\" class=\"data row4 col0\" >0.614024</td>\n",
       "      <td id=\"T_9bf36_row4_col1\" class=\"data row4 col1\" >0.622807</td>\n",
       "      <td id=\"T_9bf36_row4_col2\" class=\"data row4 col2\" >0.618264</td>\n",
       "      <td id=\"T_9bf36_row4_col3\" class=\"data row4 col3\" >228.000000</td>\n",
       "    </tr>\n",
       "  </tbody>\n",
       "</table>\n"
      ],
      "text/plain": [
       "<pandas.io.formats.style.Styler at 0x10cd7ca60>"
      ]
     },
     "metadata": {},
     "output_type": "display_data"
    }
   ],
   "source": [
    "# dummy classifier\n",
    "from sklearn.dummy import DummyClassifier\n",
    "from sklearn.metrics import accuracy_score\n",
    "\n",
    "\n",
    "dummy = DummyClassifier(strategy='stratified', random_state=42)\n",
    "\n",
    "dummy.fit(X_train, y_train)\n",
    "\n",
    "classification_reports(\n",
    "    model  = dummy,\n",
    "    X_train= X_train,\n",
    "    y_train= y_train,\n",
    "    X_test = X_test,\n",
    "    y_test = y_test\n",
    ")"
   ]
  },
  {
   "cell_type": "markdown",
   "metadata": {},
   "source": [
    "### **3.0) Weighted Minority Class**\n",
    "#### 3.1.1) `LogReg`"
   ]
  },
  {
   "cell_type": "code",
   "execution_count": 12,
   "metadata": {},
   "outputs": [],
   "source": [
    "from sklearn.linear_model import LogisticRegression\n",
    "from sklearn.preprocessing import StandardScaler\n",
    "from sklearn.pipeline import Pipeline\n",
    "from sklearn.model_selection import StratifiedKFold, cross_val_score, GridSearchCV\n",
    "from sklearn.metrics import make_scorer, f1_score, precision_score, recall_score, accuracy_score, balanced_accuracy_score"
   ]
  },
  {
   "cell_type": "markdown",
   "metadata": {},
   "source": [
    "- Optimize:"
   ]
  },
  {
   "cell_type": "code",
   "execution_count": 17,
   "metadata": {},
   "outputs": [
    {
     "ename": "NameError",
     "evalue": "name 'X_train_drug' is not defined",
     "output_type": "error",
     "traceback": [
      "\u001b[0;31m---------------------------------------------------------------------------\u001b[0m",
      "\u001b[0;31mNameError\u001b[0m                                 Traceback (most recent call last)",
      "Cell \u001b[0;32mIn[17], line 29\u001b[0m\n\u001b[1;32m     19\u001b[0m logreg_cv \u001b[38;5;241m=\u001b[39m GridSearchCV(\n\u001b[1;32m     20\u001b[0m                     estimator  \u001b[38;5;241m=\u001b[39m logreg_pipe,\n\u001b[1;32m     21\u001b[0m                     param_grid \u001b[38;5;241m=\u001b[39m param_grid,\n\u001b[0;32m   (...)\u001b[0m\n\u001b[1;32m     25\u001b[0m                     verbose    \u001b[38;5;241m=\u001b[39m \u001b[38;5;241m1\u001b[39m\n\u001b[1;32m     26\u001b[0m )\n\u001b[1;32m     28\u001b[0m \u001b[38;5;66;03m# fit\u001b[39;00m\n\u001b[0;32m---> 29\u001b[0m logreg_cv\u001b[38;5;241m.\u001b[39mfit(\u001b[43mX_train_drug\u001b[49m, y_train_drug)\n\u001b[1;32m     31\u001b[0m \u001b[38;5;66;03m# Best model, parameters, and scores\u001b[39;00m\n\u001b[1;32m     32\u001b[0m \u001b[38;5;28mprint\u001b[39m(\u001b[38;5;124m\"\u001b[39m\u001b[38;5;124mBest Parameters:\u001b[39m\u001b[38;5;124m\"\u001b[39m, logreg_cv\u001b[38;5;241m.\u001b[39mbest_params_)\n",
      "\u001b[0;31mNameError\u001b[0m: name 'X_train_drug' is not defined"
     ]
    }
   ],
   "source": [
    "# create pipeline\n",
    "logreg_pipe = Pipeline([\n",
    "    ('scaler', StandardScaler()),\n",
    "    ('logreg', LogisticRegression(penalty='l1', solver='liblinear', max_iter=100_000, class_weight={0:1, 1:minority_weight})) #1_000\n",
    "])\n",
    "\n",
    "# create parameter grid\n",
    "param_grid = {\n",
    "    'logreg__C': [0.01, 0.1, 1, 10, 100]\n",
    "}\n",
    "\n",
    "# Create a balanced accuracy scorer\n",
    "balanced_acc_scorer = make_scorer(balanced_accuracy_score)\n",
    "\n",
    "# Define a StratifiedKFold object\n",
    "stratified_kfold = StratifiedKFold(n_splits=10, shuffle=True, random_state=42)\n",
    "\n",
    "# Create GridSearchCV object\n",
    "logreg_cv = GridSearchCV(\n",
    "                    estimator  = logreg_pipe,\n",
    "                    param_grid = param_grid,\n",
    "                    scoring    = balanced_acc_scorer,\n",
    "                    cv         = stratified_kfold,\n",
    "                    n_jobs     = -1,\n",
    "                    verbose    = 1\n",
    ")\n",
    "\n",
    "# fit\n",
    "logreg_cv.fit(X_train_drug, y_train_drug)\n",
    "\n",
    "# Best model, parameters, and scores\n",
    "print(\"Best Parameters:\", logreg_cv.best_params_)\n",
    "print(\"Best Cross-Validation Score:\", logreg_cv.best_score_)"
   ]
  },
  {
   "cell_type": "markdown",
   "metadata": {},
   "source": [
    "- Evaluate:"
   ]
  },
  {
   "cell_type": "code",
   "execution_count": null,
   "metadata": {},
   "outputs": [
    {
     "name": "stdout",
     "output_type": "stream",
     "text": [
      "Classification Reports :\n",
      "__________________________________________________________________\n",
      "\n",
      "- Train Set:\n",
      "~~~~~~~~~~~~~~~~~~~~~~~~~~~~~~~~~~~~~~~~~~~~~~~~~~~~~~~~~~~\n"
     ]
    },
    {
     "data": {
      "text/html": [
       "<style type=\"text/css\">\n",
       "#T_62444_row0_col0 {\n",
       "  background-color: #9f3303;\n",
       "  color: #f1f1f1;\n",
       "}\n",
       "#T_62444_row0_col1 {\n",
       "  background-color: #d54601;\n",
       "  color: #f1f1f1;\n",
       "}\n",
       "#T_62444_row0_col2 {\n",
       "  background-color: #bb3d02;\n",
       "  color: #f1f1f1;\n",
       "}\n",
       "#T_62444_row1_col0 {\n",
       "  background-color: #fdae6a;\n",
       "  color: #000000;\n",
       "}\n",
       "#T_62444_row1_col1 {\n",
       "  background-color: #f16813;\n",
       "  color: #f1f1f1;\n",
       "}\n",
       "#T_62444_row1_col2 {\n",
       "  background-color: #fd9547;\n",
       "  color: #000000;\n",
       "}\n",
       "#T_62444_row2_col0, #T_62444_row2_col1, #T_62444_row2_col2 {\n",
       "  background-color: #db4b03;\n",
       "  color: #f1f1f1;\n",
       "}\n",
       "</style>\n",
       "<table id=\"T_62444\">\n",
       "  <thead>\n",
       "    <tr>\n",
       "      <th class=\"blank level0\" >&nbsp;</th>\n",
       "      <th id=\"T_62444_level0_col0\" class=\"col_heading level0 col0\" >precision</th>\n",
       "      <th id=\"T_62444_level0_col1\" class=\"col_heading level0 col1\" >recall</th>\n",
       "      <th id=\"T_62444_level0_col2\" class=\"col_heading level0 col2\" >f1-score</th>\n",
       "      <th id=\"T_62444_level0_col3\" class=\"col_heading level0 col3\" >support</th>\n",
       "    </tr>\n",
       "  </thead>\n",
       "  <tbody>\n",
       "    <tr>\n",
       "      <th id=\"T_62444_level0_row0\" class=\"row_heading level0 row0\" >0</th>\n",
       "      <td id=\"T_62444_row0_col0\" class=\"data row0 col0\" >0.897927</td>\n",
       "      <td id=\"T_62444_row0_col1\" class=\"data row0 col1\" >0.759784</td>\n",
       "      <td id=\"T_62444_row0_col2\" class=\"data row0 col2\" >0.823099</td>\n",
       "      <td id=\"T_62444_row0_col3\" class=\"data row0 col3\" >741.000000</td>\n",
       "    </tr>\n",
       "    <tr>\n",
       "      <th id=\"T_62444_level0_row1\" class=\"row_heading level0 row1\" >1</th>\n",
       "      <td id=\"T_62444_row1_col0\" class=\"data row1 col0\" >0.375439</td>\n",
       "      <td id=\"T_62444_row1_col1\" class=\"data row1 col1\" >0.625731</td>\n",
       "      <td id=\"T_62444_row1_col2\" class=\"data row1 col2\" >0.469298</td>\n",
       "      <td id=\"T_62444_row1_col3\" class=\"data row1 col3\" >171.000000</td>\n",
       "    </tr>\n",
       "    <tr>\n",
       "      <th id=\"T_62444_level0_row2\" class=\"row_heading level0 row2\" >accuracy</th>\n",
       "      <td id=\"T_62444_row2_col0\" class=\"data row2 col0\" >0.734649</td>\n",
       "      <td id=\"T_62444_row2_col1\" class=\"data row2 col1\" >0.734649</td>\n",
       "      <td id=\"T_62444_row2_col2\" class=\"data row2 col2\" >0.734649</td>\n",
       "      <td id=\"T_62444_row2_col3\" class=\"data row2 col3\" >0.734649</td>\n",
       "    </tr>\n",
       "    <tr>\n",
       "      <th id=\"T_62444_level0_row3\" class=\"row_heading level0 row3\" >macro avg</th>\n",
       "      <td id=\"T_62444_row3_col0\" class=\"data row3 col0\" >0.636683</td>\n",
       "      <td id=\"T_62444_row3_col1\" class=\"data row3 col1\" >0.692758</td>\n",
       "      <td id=\"T_62444_row3_col2\" class=\"data row3 col2\" >0.646199</td>\n",
       "      <td id=\"T_62444_row3_col3\" class=\"data row3 col3\" >912.000000</td>\n",
       "    </tr>\n",
       "    <tr>\n",
       "      <th id=\"T_62444_level0_row4\" class=\"row_heading level0 row4\" >weighted avg</th>\n",
       "      <td id=\"T_62444_row4_col0\" class=\"data row4 col0\" >0.799960</td>\n",
       "      <td id=\"T_62444_row4_col1\" class=\"data row4 col1\" >0.734649</td>\n",
       "      <td id=\"T_62444_row4_col2\" class=\"data row4 col2\" >0.756762</td>\n",
       "      <td id=\"T_62444_row4_col3\" class=\"data row4 col3\" >912.000000</td>\n",
       "    </tr>\n",
       "  </tbody>\n",
       "</table>\n"
      ],
      "text/plain": [
       "<pandas.io.formats.style.Styler at 0x13d7decd0>"
      ]
     },
     "metadata": {},
     "output_type": "display_data"
    },
    {
     "name": "stdout",
     "output_type": "stream",
     "text": [
      "\n",
      "- Test Set:\n",
      "~~~~~~~~~~~~~~~~~~~~~~~~~~~~~~~~~~~~~~~~~~~~~~~~~~~~~~~~~~~\n"
     ]
    },
    {
     "data": {
      "text/html": [
       "<style type=\"text/css\">\n",
       "#T_b1562_row0_col0 {\n",
       "  background-color: #b03903;\n",
       "  color: #f1f1f1;\n",
       "}\n",
       "#T_b1562_row0_col1 {\n",
       "  background-color: #db4b03;\n",
       "  color: #f1f1f1;\n",
       "}\n",
       "#T_b1562_row0_col2 {\n",
       "  background-color: #c94202;\n",
       "  color: #f1f1f1;\n",
       "}\n",
       "#T_b1562_row1_col0 {\n",
       "  background-color: #fdc895;\n",
       "  color: #000000;\n",
       "}\n",
       "#T_b1562_row1_col1 {\n",
       "  background-color: #fd9c51;\n",
       "  color: #000000;\n",
       "}\n",
       "#T_b1562_row1_col2 {\n",
       "  background-color: #fdb77a;\n",
       "  color: #000000;\n",
       "}\n",
       "#T_b1562_row2_col0, #T_b1562_row2_col1, #T_b1562_row2_col2 {\n",
       "  background-color: #e65a0b;\n",
       "  color: #f1f1f1;\n",
       "}\n",
       "</style>\n",
       "<table id=\"T_b1562\">\n",
       "  <thead>\n",
       "    <tr>\n",
       "      <th class=\"blank level0\" >&nbsp;</th>\n",
       "      <th id=\"T_b1562_level0_col0\" class=\"col_heading level0 col0\" >precision</th>\n",
       "      <th id=\"T_b1562_level0_col1\" class=\"col_heading level0 col1\" >recall</th>\n",
       "      <th id=\"T_b1562_level0_col2\" class=\"col_heading level0 col2\" >f1-score</th>\n",
       "      <th id=\"T_b1562_level0_col3\" class=\"col_heading level0 col3\" >support</th>\n",
       "    </tr>\n",
       "  </thead>\n",
       "  <tbody>\n",
       "    <tr>\n",
       "      <th id=\"T_b1562_level0_row0\" class=\"row_heading level0 row0\" >0</th>\n",
       "      <td id=\"T_b1562_row0_col0\" class=\"data row0 col0\" >0.850000</td>\n",
       "      <td id=\"T_b1562_row0_col1\" class=\"data row0 col1\" >0.735135</td>\n",
       "      <td id=\"T_b1562_row0_col2\" class=\"data row0 col2\" >0.788406</td>\n",
       "      <td id=\"T_b1562_row0_col3\" class=\"data row0 col3\" >185.000000</td>\n",
       "    </tr>\n",
       "    <tr>\n",
       "      <th id=\"T_b1562_level0_row1\" class=\"row_heading level0 row1\" >1</th>\n",
       "      <td id=\"T_b1562_row1_col0\" class=\"data row1 col0\" >0.279412</td>\n",
       "      <td id=\"T_b1562_row1_col1\" class=\"data row1 col1\" >0.441860</td>\n",
       "      <td id=\"T_b1562_row1_col2\" class=\"data row1 col2\" >0.342342</td>\n",
       "      <td id=\"T_b1562_row1_col3\" class=\"data row1 col3\" >43.000000</td>\n",
       "    </tr>\n",
       "    <tr>\n",
       "      <th id=\"T_b1562_level0_row2\" class=\"row_heading level0 row2\" >accuracy</th>\n",
       "      <td id=\"T_b1562_row2_col0\" class=\"data row2 col0\" >0.679825</td>\n",
       "      <td id=\"T_b1562_row2_col1\" class=\"data row2 col1\" >0.679825</td>\n",
       "      <td id=\"T_b1562_row2_col2\" class=\"data row2 col2\" >0.679825</td>\n",
       "      <td id=\"T_b1562_row2_col3\" class=\"data row2 col3\" >0.679825</td>\n",
       "    </tr>\n",
       "    <tr>\n",
       "      <th id=\"T_b1562_level0_row3\" class=\"row_heading level0 row3\" >macro avg</th>\n",
       "      <td id=\"T_b1562_row3_col0\" class=\"data row3 col0\" >0.564706</td>\n",
       "      <td id=\"T_b1562_row3_col1\" class=\"data row3 col1\" >0.588498</td>\n",
       "      <td id=\"T_b1562_row3_col2\" class=\"data row3 col2\" >0.565374</td>\n",
       "      <td id=\"T_b1562_row3_col3\" class=\"data row3 col3\" >228.000000</td>\n",
       "    </tr>\n",
       "    <tr>\n",
       "      <th id=\"T_b1562_level0_row4\" class=\"row_heading level0 row4\" >weighted avg</th>\n",
       "      <td id=\"T_b1562_row4_col0\" class=\"data row4 col0\" >0.742389</td>\n",
       "      <td id=\"T_b1562_row4_col1\" class=\"data row4 col1\" >0.679825</td>\n",
       "      <td id=\"T_b1562_row4_col2\" class=\"data row4 col2\" >0.704280</td>\n",
       "      <td id=\"T_b1562_row4_col3\" class=\"data row4 col3\" >228.000000</td>\n",
       "    </tr>\n",
       "  </tbody>\n",
       "</table>\n"
      ],
      "text/plain": [
       "<pandas.io.formats.style.Styler at 0x143081490>"
      ]
     },
     "metadata": {},
     "output_type": "display_data"
    }
   ],
   "source": [
    "# refit\n",
    "best_logreg = logreg_cv.best_estimator_\n",
    "\n",
    "best_logreg.fit(X_train_drug, y_train_drug)\n",
    "\n",
    "classification_reports(\n",
    "    model   = best_logreg,\n",
    "    X_train = X_train_drug,\n",
    "    y_train = y_train_drug,\n",
    "    X_test  = X_test_drug,\n",
    "    y_test  = y_test_drug\n",
    ")"
   ]
  },
  {
   "cell_type": "markdown",
   "metadata": {},
   "source": [
    "#### 3.1.2) `XGBoost`"
   ]
  },
  {
   "cell_type": "code",
   "execution_count": 13,
   "metadata": {},
   "outputs": [],
   "source": [
    "from xgboost import XGBClassifier\n",
    "import optuna"
   ]
  },
  {
   "cell_type": "markdown",
   "metadata": {},
   "source": [
    "- Optimize:"
   ]
  },
  {
   "cell_type": "code",
   "execution_count": null,
   "metadata": {},
   "outputs": [
    {
     "name": "stderr",
     "output_type": "stream",
     "text": [
      "[I 2024-01-19 12:19:35,523] A new study created in memory with name: no-name-d5c5fd5d-f197-43f8-a053-899afa3ef29e\n"
     ]
    },
    {
     "name": "stderr",
     "output_type": "stream",
     "text": [
      "[I 2024-01-19 12:19:35,862] Trial 0 finished with value: 0.6714667019961138 and parameters: {'n_estimators': 149, 'max_depth': 2, 'min_child_weight': 5, 'subsample': 0.4476203715212608, 'colsample_bytree': 0.9772266310591537, 'learning_rate': 0.00042247983801937966, 'reg_alpha': 1.0367683400996903}. Best is trial 0 with value: 0.6714667019961138.\n",
      "[I 2024-01-19 12:19:36,431] Trial 1 finished with value: 0.7007141847730083 and parameters: {'n_estimators': 116, 'max_depth': 4, 'min_child_weight': 7, 'subsample': 0.7386905730284307, 'colsample_bytree': 0.7762990751880636, 'learning_rate': 0.0050022808138410705, 'reg_alpha': 0.5363357776265496}. Best is trial 1 with value: 0.7007141847730083.\n",
      "[I 2024-01-19 12:19:36,863] Trial 2 finished with value: 0.6919122063239711 and parameters: {'n_estimators': 112, 'max_depth': 3, 'min_child_weight': 3, 'subsample': 0.10549559228787458, 'colsample_bytree': 0.9858837861603024, 'learning_rate': 0.00017403718035767198, 'reg_alpha': 1.7365861889083092}. Best is trial 1 with value: 0.7007141847730083.\n",
      "[I 2024-01-19 12:19:37,152] Trial 3 finished with value: 0.6482939409998234 and parameters: {'n_estimators': 76, 'max_depth': 4, 'min_child_weight': 6, 'subsample': 0.2788909573880855, 'colsample_bytree': 0.7461440676666595, 'learning_rate': 0.28931892610580323, 'reg_alpha': 2.4130010594375495}. Best is trial 1 with value: 0.7007141847730083.\n",
      "[I 2024-01-19 12:19:37,412] Trial 4 finished with value: 0.6885737502208091 and parameters: {'n_estimators': 135, 'max_depth': 4, 'min_child_weight': 9, 'subsample': 0.1903615195992636, 'colsample_bytree': 0.7151324567109951, 'learning_rate': 0.08150902827236794, 'reg_alpha': 1.8184723562003444}. Best is trial 1 with value: 0.7007141847730083.\n",
      "[I 2024-01-19 12:19:37,722] Trial 5 finished with value: 0.7067601130542307 and parameters: {'n_estimators': 165, 'max_depth': 2, 'min_child_weight': 7, 'subsample': 0.7794332374153193, 'colsample_bytree': 0.758636314594563, 'learning_rate': 0.024998093775735513, 'reg_alpha': 2.3129005063360895}. Best is trial 5 with value: 0.7067601130542307.\n",
      "[I 2024-01-19 12:19:38,099] Trial 6 finished with value: 0.6831736442324677 and parameters: {'n_estimators': 209, 'max_depth': 2, 'min_child_weight': 1, 'subsample': 0.29821034398474694, 'colsample_bytree': 0.7183662096166457, 'learning_rate': 0.036016087616594084, 'reg_alpha': 1.8000971503750092}. Best is trial 5 with value: 0.7067601130542307.\n",
      "[I 2024-01-19 12:19:38,517] Trial 7 finished with value: 0.6801918388977213 and parameters: {'n_estimators': 141, 'max_depth': 4, 'min_child_weight': 3, 'subsample': 0.2196079580705436, 'colsample_bytree': 0.7594251732610643, 'learning_rate': 0.0011513644173559022, 'reg_alpha': 0.65521013231424}. Best is trial 5 with value: 0.7067601130542307.\n",
      "[I 2024-01-19 12:19:38,725] Trial 8 finished with value: 0.6430388623918036 and parameters: {'n_estimators': 140, 'max_depth': 2, 'min_child_weight': 7, 'subsample': 0.18674556865794803, 'colsample_bytree': 0.6308889049255357, 'learning_rate': 0.2101198026082053, 'reg_alpha': 1.135849650210171}. Best is trial 5 with value: 0.7067601130542307.\n",
      "[I 2024-01-19 12:19:39,179] Trial 9 finished with value: 0.6877300830242007 and parameters: {'n_estimators': 196, 'max_depth': 4, 'min_child_weight': 4, 'subsample': 0.18835516312959033, 'colsample_bytree': 0.6126227284422907, 'learning_rate': 0.000957381894838148, 'reg_alpha': 0.6810680690843531}. Best is trial 5 with value: 0.7067601130542307.\n",
      "[I 2024-01-19 12:19:39,349] Trial 10 finished with value: 0.6828385444267797 and parameters: {'n_estimators': 40, 'max_depth': 3, 'min_child_weight': 9, 'subsample': 0.9342649217223262, 'colsample_bytree': 0.8691583023031806, 'learning_rate': 0.014705457916164143, 'reg_alpha': 2.9625791095244427}. Best is trial 5 with value: 0.7067601130542307.\n",
      "[I 2024-01-19 12:19:39,794] Trial 11 finished with value: 0.7006573043631866 and parameters: {'n_estimators': 182, 'max_depth': 3, 'min_child_weight': 7, 'subsample': 0.8699964114072232, 'colsample_bytree': 0.8366524928319579, 'learning_rate': 0.0055414940644327, 'reg_alpha': 0.5443156258299087}. Best is trial 5 with value: 0.7067601130542307.\n",
      "[I 2024-01-19 12:19:40,019] Trial 12 finished with value: 0.6794421480303834 and parameters: {'n_estimators': 98, 'max_depth': 2, 'min_child_weight': 7, 'subsample': 0.5708359497081849, 'colsample_bytree': 0.8386000968746742, 'learning_rate': 0.0055260432465724174, 'reg_alpha': 0.8680313721032811}. Best is trial 5 with value: 0.7067601130542307.\n",
      "[I 2024-01-19 12:19:40,465] Trial 13 finished with value: 0.7088620385090972 and parameters: {'n_estimators': 231, 'max_depth': 3, 'min_child_weight': 8, 'subsample': 0.5949127372669307, 'colsample_bytree': 0.6622217802502746, 'learning_rate': 0.014949707666653793, 'reg_alpha': 1.3138032084341706}. Best is trial 13 with value: 0.7088620385090972.\n",
      "[I 2024-01-19 12:19:40,894] Trial 14 finished with value: 0.6794900194311959 and parameters: {'n_estimators': 233, 'max_depth': 3, 'min_child_weight': 9, 'subsample': 0.46686940936745724, 'colsample_bytree': 0.6886802664347624, 'learning_rate': 0.02581491753720945, 'reg_alpha': 1.3139233331808111}. Best is trial 13 with value: 0.7088620385090972.\n",
      "[I 2024-01-19 12:19:41,196] Trial 15 finished with value: 0.6841365483130188 and parameters: {'n_estimators': 168, 'max_depth': 2, 'min_child_weight': 8, 'subsample': 0.6152742039469332, 'colsample_bytree': 0.6541002218092519, 'learning_rate': 0.011917525077052848, 'reg_alpha': 1.5382589069439896}. Best is trial 13 with value: 0.7088620385090972.\n",
      "[I 2024-01-19 12:19:41,668] Trial 16 finished with value: 0.6729895778131072 and parameters: {'n_estimators': 229, 'max_depth': 3, 'min_child_weight': 5, 'subsample': 0.4142207862702681, 'colsample_bytree': 0.6515003800925824, 'learning_rate': 0.06596485277686438, 'reg_alpha': 2.261741629053279}. Best is trial 13 with value: 0.7088620385090972.\n",
      "[I 2024-01-19 12:19:41,957] Trial 17 finished with value: 0.6805947712418301 and parameters: {'n_estimators': 171, 'max_depth': 2, 'min_child_weight': 8, 'subsample': 0.6541050663407557, 'colsample_bytree': 0.6838606339125971, 'learning_rate': 0.0025375748137558937, 'reg_alpha': 2.9024514550236176}. Best is trial 13 with value: 0.7088620385090972.\n",
      "[I 2024-01-19 12:19:42,379] Trial 18 finished with value: 0.6694776541247129 and parameters: {'n_estimators': 204, 'max_depth': 3, 'min_child_weight': 8, 'subsample': 0.8035858740030029, 'colsample_bytree': 0.7922967117912059, 'learning_rate': 0.11018629324010815, 'reg_alpha': 1.4118316474739878}. Best is trial 13 with value: 0.7088620385090972.\n",
      "[I 2024-01-19 12:19:43,021] Trial 19 finished with value: 0.7171822999470058 and parameters: {'n_estimators': 219, 'max_depth': 3, 'min_child_weight': 6, 'subsample': 0.9985680125695215, 'colsample_bytree': 0.9034510310515157, 'learning_rate': 0.021698960844562284, 'reg_alpha': 0.9436126105386969}. Best is trial 19 with value: 0.7171822999470058.\n",
      "[I 2024-01-19 12:19:43,729] Trial 20 finished with value: 0.6885700406288642 and parameters: {'n_estimators': 219, 'max_depth': 3, 'min_child_weight': 6, 'subsample': 0.9549243820199219, 'colsample_bytree': 0.9261493798740311, 'learning_rate': 0.010527632015914345, 'reg_alpha': 0.8743745562410525}. Best is trial 19 with value: 0.7171822999470058.\n",
      "[I 2024-01-19 12:19:44,296] Trial 21 finished with value: 0.6968415474297827 and parameters: {'n_estimators': 189, 'max_depth': 3, 'min_child_weight': 6, 'subsample': 0.561403018452208, 'colsample_bytree': 0.886093664868635, 'learning_rate': 0.03415801133876718, 'reg_alpha': 0.9530047852516598}. Best is trial 19 with value: 0.7171822999470058.\n",
      "[I 2024-01-19 12:19:44,723] Trial 22 finished with value: 0.7017168344815403 and parameters: {'n_estimators': 211, 'max_depth': 2, 'min_child_weight': 6, 'subsample': 0.721528999135625, 'colsample_bytree': 0.8202222502853913, 'learning_rate': 0.019814405527737174, 'reg_alpha': 0.7810300053656883}. Best is trial 19 with value: 0.7171822999470058.\n",
      "[I 2024-01-19 12:19:45,524] Trial 23 finished with value: 0.6975255255255255 and parameters: {'n_estimators': 164, 'max_depth': 3, 'min_child_weight': 8, 'subsample': 0.9764263064102409, 'colsample_bytree': 0.9162683635351699, 'learning_rate': 0.044936407135230595, 'reg_alpha': 1.1566010781231002}. Best is trial 19 with value: 0.7171822999470058.\n",
      "[I 2024-01-19 12:19:45,993] Trial 24 finished with value: 0.6836415827592299 and parameters: {'n_estimators': 221, 'max_depth': 2, 'min_child_weight': 4, 'subsample': 0.37336240361440237, 'colsample_bytree': 0.7206338061687462, 'learning_rate': 0.0028889332641251547, 'reg_alpha': 2.0964904279475327}. Best is trial 19 with value: 0.7171822999470058.\n",
      "[I 2024-01-19 12:19:46,491] Trial 25 finished with value: 0.6910252605546725 and parameters: {'n_estimators': 180, 'max_depth': 3, 'min_child_weight': 7, 'subsample': 0.5346079355370156, 'colsample_bytree': 0.7995072690764847, 'learning_rate': 0.009391806164140934, 'reg_alpha': 1.475343566238305}. Best is trial 19 with value: 0.7171822999470058.\n",
      "[I 2024-01-19 12:19:46,921] Trial 26 finished with value: 0.6454983218512631 and parameters: {'n_estimators': 198, 'max_depth': 3, 'min_child_weight': 5, 'subsample': 0.7543806296320367, 'colsample_bytree': 0.6017704862275391, 'learning_rate': 0.1330713692439652, 'reg_alpha': 1.1930420184497021}. Best is trial 19 with value: 0.7171822999470058.\n",
      "[I 2024-01-19 12:19:47,423] Trial 27 finished with value: 0.6993050697756581 and parameters: {'n_estimators': 154, 'max_depth': 4, 'min_child_weight': 8, 'subsample': 0.6768248900566318, 'colsample_bytree': 0.6641946028525384, 'learning_rate': 0.020283839278067588, 'reg_alpha': 0.7630593875775251}. Best is trial 19 with value: 0.7171822999470058.\n",
      "[I 2024-01-19 12:19:47,951] Trial 28 finished with value: 0.6893910969793323 and parameters: {'n_estimators': 233, 'max_depth': 2, 'min_child_weight': 1, 'subsample': 0.3550722828214661, 'colsample_bytree': 0.9380617301678872, 'learning_rate': 0.04101333589625301, 'reg_alpha': 2.590603164409332}. Best is trial 19 with value: 0.7171822999470058.\n",
      "[I 2024-01-19 12:19:48,646] Trial 29 finished with value: 0.6944036389330508 and parameters: {'n_estimators': 215, 'max_depth': 3, 'min_child_weight': 4, 'subsample': 0.4783424929494547, 'colsample_bytree': 0.7436183640080872, 'learning_rate': 0.002543676346570227, 'reg_alpha': 2.028910931093902}. Best is trial 19 with value: 0.7171822999470058.\n",
      "[I 2024-01-19 12:19:48,984] Trial 30 finished with value: 0.6873912736265677 and parameters: {'n_estimators': 154, 'max_depth': 2, 'min_child_weight': 6, 'subsample': 0.8295658965793726, 'colsample_bytree': 0.959124569460363, 'learning_rate': 0.00744623309137011, 'reg_alpha': 1.02113377930624}. Best is trial 19 with value: 0.7171822999470058.\n",
      "[I 2024-01-19 12:19:49,355] Trial 31 finished with value: 0.7037528705175764 and parameters: {'n_estimators': 205, 'max_depth': 2, 'min_child_weight': 6, 'subsample': 0.7179627557840728, 'colsample_bytree': 0.8260224530721884, 'learning_rate': 0.017946623925979982, 'reg_alpha': 0.7788096014524184}. Best is trial 19 with value: 0.7171822999470058.\n",
      "[I 2024-01-19 12:19:49,710] Trial 32 finished with value: 0.6984225401872461 and parameters: {'n_estimators': 191, 'max_depth': 2, 'min_child_weight': 7, 'subsample': 0.7998713092098046, 'colsample_bytree': 0.876513948296756, 'learning_rate': 0.018628879049479852, 'reg_alpha': 0.6174592314182192}. Best is trial 19 with value: 0.7171822999470058.\n"
     ]
    },
    {
     "name": "stdout",
     "output_type": "stream",
     "text": [
      "___________________________________________________________________________________________________\n",
      "Best trial: {'n_estimators': 219, 'max_depth': 3, 'min_child_weight': 6, 'subsample': 0.9985680125695215, 'colsample_bytree': 0.9034510310515157, 'learning_rate': 0.021698960844562284, 'reg_alpha': 0.9436126105386969}\n"
     ]
    }
   ],
   "source": [
    "def objective(trial):\n",
    "    # Hyperparameter suggestions\n",
    "    n_estimators     = trial.suggest_int(\"n_estimators\", 39, 233)\n",
    "    max_depth        = trial.suggest_int(\"max_depth\", 2, 4)\n",
    "    min_child_weight = trial.suggest_int(\"min_child_weight\", 1, 9)\n",
    "    subsample        = trial.suggest_loguniform('subsample', 0.1, 1.0)\n",
    "    colsample_bytree = trial.suggest_loguniform('colsample_bytree', 0.6, 1.0)\n",
    "    learning_rate    = trial.suggest_loguniform('learning_rate', 0.0001, 0.3)\n",
    "    reg_alpha        = trial.suggest_loguniform('reg_alpha', 0.5, 3.0)\n",
    "\n",
    "    # XGBoost model\n",
    "    model = XGBClassifier(\n",
    "                    n_estimators     = n_estimators,\n",
    "                    max_depth        = max_depth,\n",
    "                    min_child_weight = min_child_weight,\n",
    "                    subsample        = subsample,\n",
    "                    colsample_bytree = colsample_bytree,\n",
    "                    learning_rate    = learning_rate,\n",
    "                    reg_alpha        = reg_alpha,\n",
    "                    scale_pos_weight = minority_weight,\n",
    "                    eval_metric      = 'logloss',\n",
    "                    use_label_encoder= False,\n",
    "                    n_jobs           = -1\n",
    "    )\n",
    "\n",
    "    # Balanced accuracy scorer for cross-validation\n",
    "    bal_acc_scorer = make_scorer(balanced_accuracy_score)\n",
    "\n",
    "    # initialize StratifiedKFold\n",
    "    stratified_cv = StratifiedKFold(n_splits=10, shuffle=True, random_state=42)\n",
    "\n",
    "    # Cross-validation with F1 score\n",
    "    score = cross_val_score(\n",
    "                        estimator = model,\n",
    "                        X         = X_train_drug[features_005],\n",
    "                        y         = y_train_drug,\n",
    "                        n_jobs    = -1,\n",
    "                        cv        = stratified_cv,\n",
    "                        scoring   = bal_acc_scorer\n",
    "    ).mean()\n",
    "\n",
    "    return score\n",
    "\n",
    "# Create Study\n",
    "study = optuna.create_study(direction='maximize')\n",
    "study.optimize(objective, n_trials=33, timeout=4000)\n",
    "\n",
    "print(99*'_')\n",
    "print('Best trial:', study.best_trial.params)"
   ]
  },
  {
   "cell_type": "markdown",
   "metadata": {},
   "source": [
    "- Refit & evaluate:"
   ]
  },
  {
   "cell_type": "code",
   "execution_count": null,
   "metadata": {},
   "outputs": [
    {
     "name": "stdout",
     "output_type": "stream",
     "text": [
      "Classification Reports :\n",
      "__________________________________________________________________\n",
      "\n",
      "- Train Set:\n",
      "~~~~~~~~~~~~~~~~~~~~~~~~~~~~~~~~~~~~~~~~~~~~~~~~~~~~~~~~~~~\n"
     ]
    },
    {
     "data": {
      "text/html": [
       "<style type=\"text/css\">\n",
       "#T_7cb8e_row0_col0 {\n",
       "  background-color: #852904;\n",
       "  color: #f1f1f1;\n",
       "}\n",
       "#T_7cb8e_row0_col1 {\n",
       "  background-color: #a83703;\n",
       "  color: #f1f1f1;\n",
       "}\n",
       "#T_7cb8e_row0_col2 {\n",
       "  background-color: #973003;\n",
       "  color: #f1f1f1;\n",
       "}\n",
       "#T_7cb8e_row1_col0 {\n",
       "  background-color: #f26b15;\n",
       "  color: #f1f1f1;\n",
       "}\n",
       "#T_7cb8e_row1_col1 {\n",
       "  background-color: #9a3103;\n",
       "  color: #f1f1f1;\n",
       "}\n",
       "#T_7cb8e_row1_col2 {\n",
       "  background-color: #db4b03;\n",
       "  color: #f1f1f1;\n",
       "}\n",
       "#T_7cb8e_row2_col0, #T_7cb8e_row2_col1, #T_7cb8e_row2_col2 {\n",
       "  background-color: #a53603;\n",
       "  color: #f1f1f1;\n",
       "}\n",
       "</style>\n",
       "<table id=\"T_7cb8e\">\n",
       "  <thead>\n",
       "    <tr>\n",
       "      <th class=\"blank level0\" >&nbsp;</th>\n",
       "      <th id=\"T_7cb8e_level0_col0\" class=\"col_heading level0 col0\" >precision</th>\n",
       "      <th id=\"T_7cb8e_level0_col1\" class=\"col_heading level0 col1\" >recall</th>\n",
       "      <th id=\"T_7cb8e_level0_col2\" class=\"col_heading level0 col2\" >f1-score</th>\n",
       "      <th id=\"T_7cb8e_level0_col3\" class=\"col_heading level0 col3\" >support</th>\n",
       "    </tr>\n",
       "  </thead>\n",
       "  <tbody>\n",
       "    <tr>\n",
       "      <th id=\"T_7cb8e_level0_row0\" class=\"row_heading level0 row0\" >0</th>\n",
       "      <td id=\"T_7cb8e_row0_col0\" class=\"data row0 col0\" >0.977273</td>\n",
       "      <td id=\"T_7cb8e_row0_col1\" class=\"data row0 col1\" >0.870445</td>\n",
       "      <td id=\"T_7cb8e_row0_col2\" class=\"data row0 col2\" >0.920771</td>\n",
       "      <td id=\"T_7cb8e_row0_col3\" class=\"data row0 col3\" >741.000000</td>\n",
       "    </tr>\n",
       "    <tr>\n",
       "      <th id=\"T_7cb8e_level0_row1\" class=\"row_heading level0 row1\" >1</th>\n",
       "      <td id=\"T_7cb8e_row1_col0\" class=\"data row1 col0\" >0.619048</td>\n",
       "      <td id=\"T_7cb8e_row1_col1\" class=\"data row1 col1\" >0.912281</td>\n",
       "      <td id=\"T_7cb8e_row1_col2\" class=\"data row1 col2\" >0.737589</td>\n",
       "      <td id=\"T_7cb8e_row1_col3\" class=\"data row1 col3\" >171.000000</td>\n",
       "    </tr>\n",
       "    <tr>\n",
       "      <th id=\"T_7cb8e_level0_row2\" class=\"row_heading level0 row2\" >accuracy</th>\n",
       "      <td id=\"T_7cb8e_row2_col0\" class=\"data row2 col0\" >0.878289</td>\n",
       "      <td id=\"T_7cb8e_row2_col1\" class=\"data row2 col1\" >0.878289</td>\n",
       "      <td id=\"T_7cb8e_row2_col2\" class=\"data row2 col2\" >0.878289</td>\n",
       "      <td id=\"T_7cb8e_row2_col3\" class=\"data row2 col3\" >0.878289</td>\n",
       "    </tr>\n",
       "    <tr>\n",
       "      <th id=\"T_7cb8e_level0_row3\" class=\"row_heading level0 row3\" >macro avg</th>\n",
       "      <td id=\"T_7cb8e_row3_col0\" class=\"data row3 col0\" >0.798160</td>\n",
       "      <td id=\"T_7cb8e_row3_col1\" class=\"data row3 col1\" >0.891363</td>\n",
       "      <td id=\"T_7cb8e_row3_col2\" class=\"data row3 col2\" >0.829180</td>\n",
       "      <td id=\"T_7cb8e_row3_col3\" class=\"data row3 col3\" >912.000000</td>\n",
       "    </tr>\n",
       "    <tr>\n",
       "      <th id=\"T_7cb8e_level0_row4\" class=\"row_heading level0 row4\" >weighted avg</th>\n",
       "      <td id=\"T_7cb8e_row4_col0\" class=\"data row4 col0\" >0.910106</td>\n",
       "      <td id=\"T_7cb8e_row4_col1\" class=\"data row4 col1\" >0.878289</td>\n",
       "      <td id=\"T_7cb8e_row4_col2\" class=\"data row4 col2\" >0.886424</td>\n",
       "      <td id=\"T_7cb8e_row4_col3\" class=\"data row4 col3\" >912.000000</td>\n",
       "    </tr>\n",
       "  </tbody>\n",
       "</table>\n"
      ],
      "text/plain": [
       "<pandas.io.formats.style.Styler at 0x1431e65e0>"
      ]
     },
     "metadata": {},
     "output_type": "display_data"
    },
    {
     "name": "stdout",
     "output_type": "stream",
     "text": [
      "\n",
      "- Test Set:\n",
      "~~~~~~~~~~~~~~~~~~~~~~~~~~~~~~~~~~~~~~~~~~~~~~~~~~~~~~~~~~~\n"
     ]
    },
    {
     "data": {
      "text/html": [
       "<style type=\"text/css\">\n",
       "#T_56ceb_row0_col0 {\n",
       "  background-color: #ab3803;\n",
       "  color: #f1f1f1;\n",
       "}\n",
       "#T_56ceb_row0_col1 {\n",
       "  background-color: #d14501;\n",
       "  color: #f1f1f1;\n",
       "}\n",
       "#T_56ceb_row0_col2 {\n",
       "  background-color: #c03f02;\n",
       "  color: #f1f1f1;\n",
       "}\n",
       "#T_56ceb_row1_col0 {\n",
       "  background-color: #fdbe84;\n",
       "  color: #000000;\n",
       "}\n",
       "#T_56ceb_row1_col1 {\n",
       "  background-color: #fd9649;\n",
       "  color: #000000;\n",
       "}\n",
       "#T_56ceb_row1_col2 {\n",
       "  background-color: #fdae6a;\n",
       "  color: #000000;\n",
       "}\n",
       "#T_56ceb_row2_col0, #T_56ceb_row2_col1, #T_56ceb_row2_col2 {\n",
       "  background-color: #e15307;\n",
       "  color: #f1f1f1;\n",
       "}\n",
       "</style>\n",
       "<table id=\"T_56ceb\">\n",
       "  <thead>\n",
       "    <tr>\n",
       "      <th class=\"blank level0\" >&nbsp;</th>\n",
       "      <th id=\"T_56ceb_level0_col0\" class=\"col_heading level0 col0\" >precision</th>\n",
       "      <th id=\"T_56ceb_level0_col1\" class=\"col_heading level0 col1\" >recall</th>\n",
       "      <th id=\"T_56ceb_level0_col2\" class=\"col_heading level0 col2\" >f1-score</th>\n",
       "      <th id=\"T_56ceb_level0_col3\" class=\"col_heading level0 col3\" >support</th>\n",
       "    </tr>\n",
       "  </thead>\n",
       "  <tbody>\n",
       "    <tr>\n",
       "      <th id=\"T_56ceb_level0_row0\" class=\"row_heading level0 row0\" >0</th>\n",
       "      <td id=\"T_56ceb_row0_col0\" class=\"data row0 col0\" >0.860606</td>\n",
       "      <td id=\"T_56ceb_row0_col1\" class=\"data row0 col1\" >0.767568</td>\n",
       "      <td id=\"T_56ceb_row0_col2\" class=\"data row0 col2\" >0.811429</td>\n",
       "      <td id=\"T_56ceb_row0_col3\" class=\"data row0 col3\" >185.000000</td>\n",
       "    </tr>\n",
       "    <tr>\n",
       "      <th id=\"T_56ceb_level0_row1\" class=\"row_heading level0 row1\" >1</th>\n",
       "      <td id=\"T_56ceb_row1_col0\" class=\"data row1 col0\" >0.317460</td>\n",
       "      <td id=\"T_56ceb_row1_col1\" class=\"data row1 col1\" >0.465116</td>\n",
       "      <td id=\"T_56ceb_row1_col2\" class=\"data row1 col2\" >0.377358</td>\n",
       "      <td id=\"T_56ceb_row1_col3\" class=\"data row1 col3\" >43.000000</td>\n",
       "    </tr>\n",
       "    <tr>\n",
       "      <th id=\"T_56ceb_level0_row2\" class=\"row_heading level0 row2\" >accuracy</th>\n",
       "      <td id=\"T_56ceb_row2_col0\" class=\"data row2 col0\" >0.710526</td>\n",
       "      <td id=\"T_56ceb_row2_col1\" class=\"data row2 col1\" >0.710526</td>\n",
       "      <td id=\"T_56ceb_row2_col2\" class=\"data row2 col2\" >0.710526</td>\n",
       "      <td id=\"T_56ceb_row2_col3\" class=\"data row2 col3\" >0.710526</td>\n",
       "    </tr>\n",
       "    <tr>\n",
       "      <th id=\"T_56ceb_level0_row3\" class=\"row_heading level0 row3\" >macro avg</th>\n",
       "      <td id=\"T_56ceb_row3_col0\" class=\"data row3 col0\" >0.589033</td>\n",
       "      <td id=\"T_56ceb_row3_col1\" class=\"data row3 col1\" >0.616342</td>\n",
       "      <td id=\"T_56ceb_row3_col2\" class=\"data row3 col2\" >0.594394</td>\n",
       "      <td id=\"T_56ceb_row3_col3\" class=\"data row3 col3\" >228.000000</td>\n",
       "    </tr>\n",
       "    <tr>\n",
       "      <th id=\"T_56ceb_level0_row4\" class=\"row_heading level0 row4\" >weighted avg</th>\n",
       "      <td id=\"T_56ceb_row4_col0\" class=\"data row4 col0\" >0.758171</td>\n",
       "      <td id=\"T_56ceb_row4_col1\" class=\"data row4 col1\" >0.710526</td>\n",
       "      <td id=\"T_56ceb_row4_col2\" class=\"data row4 col2\" >0.729564</td>\n",
       "      <td id=\"T_56ceb_row4_col3\" class=\"data row4 col3\" >228.000000</td>\n",
       "    </tr>\n",
       "  </tbody>\n",
       "</table>\n"
      ],
      "text/plain": [
       "<pandas.io.formats.style.Styler at 0x1431e65e0>"
      ]
     },
     "metadata": {},
     "output_type": "display_data"
    }
   ],
   "source": [
    "best_params = study.best_trial.params\n",
    "\n",
    "# XGBoost model\n",
    "xgb_weighted_mwu_005 = XGBClassifier(\n",
    "                    n_estimators     = best_params['n_estimators'],\n",
    "                    max_depth        = best_params['max_depth'],\n",
    "                    min_child_weight = best_params['min_child_weight'],\n",
    "                    subsample        = best_params['subsample'],\n",
    "                    colsample_bytree = best_params['colsample_bytree'],\n",
    "                    learning_rate    = best_params['learning_rate'],\n",
    "                    reg_alpha        = best_params['reg_alpha'],\n",
    "                    scale_pos_weight = minority_weight,\n",
    "                    eval_metric      = 'logloss',\n",
    "                    use_label_encoder= False,\n",
    "                    n_jobs           = -1\n",
    ")\n",
    "\n",
    "xgb_weighted_mwu_005.fit(X_train_drug[features_005], y_train_drug)\n",
    "\n",
    "classification_reports(\n",
    "    model = xgb_weighted_mwu_005,\n",
    "    X_train=X_train_drug[features_005],\n",
    "    y_train=y_train_drug,\n",
    "    X_test = X_test_drug[features_005],\n",
    "    y_test = y_test_drug\n",
    ")"
   ]
  },
  {
   "cell_type": "markdown",
   "metadata": {},
   "source": [
    "#### 3.1.3) `LightGBM`"
   ]
  },
  {
   "cell_type": "code",
   "execution_count": null,
   "metadata": {},
   "outputs": [],
   "source": [
    "from lightgbm import LGBMClassifier"
   ]
  },
  {
   "cell_type": "markdown",
   "metadata": {},
   "source": [
    "- Optimize:"
   ]
  },
  {
   "cell_type": "code",
   "execution_count": null,
   "metadata": {},
   "outputs": [
    {
     "name": "stderr",
     "output_type": "stream",
     "text": [
      "[I 2024-01-19 11:13:57,760] A new study created in memory with name: no-name-b1a9680b-6fb6-48c4-b20e-03e44f0e8b9c\n"
     ]
    },
    {
     "name": "stderr",
     "output_type": "stream",
     "text": [
      "[I 2024-01-19 11:13:58,705] Trial 0 finished with value: 0.6760628864158276 and parameters: {'num_leaves': 10, 'max_depth': 3, 'learning_rate': 0.006513803890544954, 'n_estimators': 278, 'min_child_samples': 175, 'subsample': 0.31399800763204905, 'colsample_bytree': 0.3357212368291993, 'reg_alpha': 1.3626892147330309e-08, 'reg_lambda': 1.1203678049509893e-05}. Best is trial 0 with value: 0.6760628864158276.\n",
      "[I 2024-01-19 11:13:58,978] Trial 1 finished with value: 0.5 and parameters: {'num_leaves': 19, 'max_depth': 2, 'learning_rate': 0.0009142254692537372, 'n_estimators': 136, 'min_child_samples': 154, 'subsample': 0.3164430205237001, 'colsample_bytree': 0.46827896780361256, 'reg_alpha': 1.5435035963319312, 'reg_lambda': 1.7624994178868316e-06}. Best is trial 0 with value: 0.6760628864158276.\n",
      "[I 2024-01-19 11:13:59,410] Trial 2 finished with value: 0.6698579756226816 and parameters: {'num_leaves': 16, 'max_depth': 3, 'learning_rate': 0.006439236927439888, 'n_estimators': 233, 'min_child_samples': 179, 'subsample': 0.23179199888155316, 'colsample_bytree': 0.4021955972937101, 'reg_alpha': 3.699181763164069e-08, 'reg_lambda': 1.0794406202871843e-08}. Best is trial 0 with value: 0.6760628864158276.\n",
      "[I 2024-01-19 11:13:59,673] Trial 3 finished with value: 0.5 and parameters: {'num_leaves': 8, 'max_depth': 2, 'learning_rate': 0.0001026610708662189, 'n_estimators': 162, 'min_child_samples': 177, 'subsample': 0.47696966083374104, 'colsample_bytree': 0.4920066214989921, 'reg_alpha': 0.6179154357507721, 'reg_lambda': 8.571721002704532}. Best is trial 0 with value: 0.6760628864158276.\n",
      "[I 2024-01-19 11:14:00,141] Trial 4 finished with value: 0.5 and parameters: {'num_leaves': 19, 'max_depth': 3, 'learning_rate': 0.0001710632709165879, 'n_estimators': 264, 'min_child_samples': 185, 'subsample': 0.15157458450321926, 'colsample_bytree': 0.46703023853936565, 'reg_alpha': 0.00023632985862424535, 'reg_lambda': 1.775564376533101}. Best is trial 0 with value: 0.6760628864158276.\n",
      "[I 2024-01-19 11:14:00,551] Trial 5 finished with value: 0.5 and parameters: {'num_leaves': 27, 'max_depth': 3, 'learning_rate': 0.0029250416142370212, 'n_estimators': 144, 'min_child_samples': 124, 'subsample': 0.3811196081911543, 'colsample_bytree': 0.1790717839766408, 'reg_alpha': 1.143302340906856e-05, 'reg_lambda': 0.13964084986833133}. Best is trial 0 with value: 0.6760628864158276.\n",
      "[I 2024-01-19 11:14:00,957] Trial 6 finished with value: 0.5 and parameters: {'num_leaves': 14, 'max_depth': 2, 'learning_rate': 0.00022316078552922107, 'n_estimators': 272, 'min_child_samples': 135, 'subsample': 0.11089903280079497, 'colsample_bytree': 0.2360727889007117, 'reg_alpha': 0.00733456125738901, 'reg_lambda': 0.0010010919113821151}. Best is trial 0 with value: 0.6760628864158276.\n",
      "[I 2024-01-19 11:14:01,181] Trial 7 finished with value: 0.5 and parameters: {'num_leaves': 9, 'max_depth': 3, 'learning_rate': 0.006195189408741036, 'n_estimators': 128, 'min_child_samples': 164, 'subsample': 0.4051882256095788, 'colsample_bytree': 0.12822913029205601, 'reg_alpha': 0.0005484998752242736, 'reg_lambda': 3.900772423086312e-05}. Best is trial 0 with value: 0.6760628864158276.\n",
      "[I 2024-01-19 11:14:01,486] Trial 8 finished with value: 0.5 and parameters: {'num_leaves': 19, 'max_depth': 3, 'learning_rate': 0.00134925473548729, 'n_estimators': 199, 'min_child_samples': 168, 'subsample': 0.2906605237269022, 'colsample_bytree': 0.2521645123137071, 'reg_alpha': 2.879438223228125e-08, 'reg_lambda': 3.366848839947267e-05}. Best is trial 0 with value: 0.6760628864158276.\n",
      "[I 2024-01-19 11:14:01,803] Trial 9 finished with value: 0.5029411764705882 and parameters: {'num_leaves': 16, 'max_depth': 2, 'learning_rate': 0.004108662526891646, 'n_estimators': 203, 'min_child_samples': 185, 'subsample': 0.37349008412198226, 'colsample_bytree': 0.42735317805625206, 'reg_alpha': 0.7365804407460589, 'reg_lambda': 0.055380347433554925}. Best is trial 0 with value: 0.6760628864158276.\n",
      "[I 2024-01-19 11:14:02,205] Trial 10 finished with value: 0.5 and parameters: {'num_leaves': 3, 'max_depth': 3, 'learning_rate': 0.0006711519337760059, 'n_estimators': 289, 'min_child_samples': 196, 'subsample': 0.22093439847820495, 'colsample_bytree': 0.3528509392591125, 'reg_alpha': 2.0996165271498585e-06, 'reg_lambda': 1.0147116744964532e-07}. Best is trial 0 with value: 0.6760628864158276.\n",
      "[I 2024-01-19 11:14:02,688] Trial 11 finished with value: 0.6777194841900723 and parameters: {'num_leaves': 11, 'max_depth': 3, 'learning_rate': 0.009881805431776435, 'n_estimators': 236, 'min_child_samples': 142, 'subsample': 0.21998317860481126, 'colsample_bytree': 0.33819933676504954, 'reg_alpha': 1.2746144080618677e-08, 'reg_lambda': 3.091209438258177e-08}. Best is trial 11 with value: 0.6777194841900723.\n",
      "[I 2024-01-19 11:14:03,201] Trial 12 finished with value: 0.6883225578519696 and parameters: {'num_leaves': 10, 'max_depth': 3, 'learning_rate': 0.009801866308508642, 'n_estimators': 234, 'min_child_samples': 105, 'subsample': 0.21192473061548733, 'colsample_bytree': 0.32688680573002354, 'reg_alpha': 4.714947886596101e-07, 'reg_lambda': 6.388897960965078e-07}. Best is trial 12 with value: 0.6883225578519696.\n",
      "[I 2024-01-19 11:14:03,648] Trial 13 finished with value: 0.6793400459282812 and parameters: {'num_leaves': 4, 'max_depth': 3, 'learning_rate': 0.009991481030090274, 'n_estimators': 234, 'min_child_samples': 109, 'subsample': 0.19938218182173006, 'colsample_bytree': 0.2852198928820479, 'reg_alpha': 9.106511902011897e-07, 'reg_lambda': 4.448834629053696e-07}. Best is trial 12 with value: 0.6883225578519696.\n",
      "[I 2024-01-19 11:14:04,006] Trial 14 finished with value: 0.5 and parameters: {'num_leaves': 3, 'max_depth': 3, 'learning_rate': 0.00205297484651345, 'n_estimators': 234, 'min_child_samples': 101, 'subsample': 0.16319012105794278, 'colsample_bytree': 0.27186281195700623, 'reg_alpha': 1.5504897405297031e-06, 'reg_lambda': 9.832601619544206e-07}. Best is trial 12 with value: 0.6883225578519696.\n",
      "[I 2024-01-19 11:14:04,458] Trial 15 finished with value: 0.5 and parameters: {'num_leaves': 5, 'max_depth': 3, 'learning_rate': 0.00046185779702066846, 'n_estimators': 190, 'min_child_samples': 101, 'subsample': 0.2612396487668781, 'colsample_bytree': 0.1995345921513953, 'reg_alpha': 6.11860160762402e-07, 'reg_lambda': 0.0015751051612337456}. Best is trial 12 with value: 0.6883225578519696.\n",
      "[I 2024-01-19 11:14:04,774] Trial 16 finished with value: 0.5831349584878996 and parameters: {'num_leaves': 6, 'max_depth': 3, 'learning_rate': 0.009101492707891637, 'n_estimators': 102, 'min_child_samples': 116, 'subsample': 0.18061976183847134, 'colsample_bytree': 0.28682448877184763, 'reg_alpha': 3.1189905694985496e-05, 'reg_lambda': 2.784823471434031e-07}. Best is trial 12 with value: 0.6883225578519696.\n",
      "[I 2024-01-19 11:14:05,199] Trial 17 finished with value: 0.5323043631867161 and parameters: {'num_leaves': 30, 'max_depth': 2, 'learning_rate': 0.003112432909376208, 'n_estimators': 249, 'min_child_samples': 116, 'subsample': 0.10026375538694667, 'colsample_bytree': 0.3959438486780257, 'reg_alpha': 1.9478561364890427e-07, 'reg_lambda': 3.1645611114549852e-06}. Best is trial 12 with value: 0.6883225578519696.\n",
      "[I 2024-01-19 11:14:05,672] Trial 18 finished with value: 0.5 and parameters: {'num_leaves': 13, 'max_depth': 3, 'learning_rate': 0.002122607454763242, 'n_estimators': 218, 'min_child_samples': 114, 'subsample': 0.2061916085486136, 'colsample_bytree': 0.3139398193542209, 'reg_alpha': 0.024297718317531962, 'reg_lambda': 0.00013846500356094174}. Best is trial 12 with value: 0.6883225578519696.\n",
      "[I 2024-01-19 11:14:06,048] Trial 19 finished with value: 0.5170464582229288 and parameters: {'num_leaves': 7, 'max_depth': 3, 'learning_rate': 0.0044739321219156155, 'n_estimators': 179, 'min_child_samples': 128, 'subsample': 0.2641535552143362, 'colsample_bytree': 0.21601317404882187, 'reg_alpha': 2.1986547028162408e-05, 'reg_lambda': 2.019657205769981e-07}. Best is trial 12 with value: 0.6883225578519696.\n",
      "[I 2024-01-19 11:14:06,490] Trial 20 finished with value: 0.5 and parameters: {'num_leaves': 23, 'max_depth': 2, 'learning_rate': 0.0016419475029259211, 'n_estimators': 257, 'min_child_samples': 109, 'subsample': 0.14468665278726517, 'colsample_bytree': 0.37682239913566135, 'reg_alpha': 2.2568340995202525e-07, 'reg_lambda': 0.000543788672121449}. Best is trial 12 with value: 0.6883225578519696.\n",
      "[I 2024-01-19 11:14:06,925] Trial 21 finished with value: 0.6772642642642641 and parameters: {'num_leaves': 11, 'max_depth': 3, 'learning_rate': 0.0097560691850221, 'n_estimators': 224, 'min_child_samples': 141, 'subsample': 0.19801308997662526, 'colsample_bytree': 0.2939031152768328, 'reg_alpha': 1.3217832693704322e-07, 'reg_lambda': 1.649659244760703e-08}. Best is trial 12 with value: 0.6883225578519696.\n",
      "[I 2024-01-19 11:14:07,354] Trial 22 finished with value: 0.6810310899134429 and parameters: {'num_leaves': 12, 'max_depth': 3, 'learning_rate': 0.007891918999103797, 'n_estimators': 246, 'min_child_samples': 146, 'subsample': 0.24783438760674098, 'colsample_bytree': 0.33646549571325546, 'reg_alpha': 2.46413915307235e-06, 'reg_lambda': 5.513192873203214e-08}. Best is trial 12 with value: 0.6883225578519696.\n",
      "[I 2024-01-19 11:14:07,912] Trial 23 finished with value: 0.6777186009538951 and parameters: {'num_leaves': 12, 'max_depth': 3, 'learning_rate': 0.005006692207704356, 'n_estimators': 299, 'min_child_samples': 155, 'subsample': 0.2558365585388259, 'colsample_bytree': 0.3118962475907286, 'reg_alpha': 2.669710446182535e-06, 'reg_lambda': 5.133436192476765e-07}. Best is trial 12 with value: 0.6883225578519696.\n",
      "[I 2024-01-19 11:14:08,487] Trial 24 finished with value: 0.5204999116763822 and parameters: {'num_leaves': 5, 'max_depth': 3, 'learning_rate': 0.002999615092690395, 'n_estimators': 249, 'min_child_samples': 124, 'subsample': 0.29774752964656165, 'colsample_bytree': 0.3618077132087865, 'reg_alpha': 0.00014430409951609268, 'reg_lambda': 7.886606880413986e-08}. Best is trial 12 with value: 0.6883225578519696.\n",
      "[I 2024-01-19 11:14:09,052] Trial 25 finished with value: 0.6795071542130365 and parameters: {'num_leaves': 14, 'max_depth': 3, 'learning_rate': 0.007351152440353132, 'n_estimators': 214, 'min_child_samples': 110, 'subsample': 0.3480807022187623, 'colsample_bytree': 0.26244666274267886, 'reg_alpha': 7.0179531055563185e-06, 'reg_lambda': 7.590654453739356e-06}. Best is trial 12 with value: 0.6883225578519696.\n",
      "[I 2024-01-19 11:14:09,487] Trial 26 finished with value: 0.654758346581876 and parameters: {'num_leaves': 14, 'max_depth': 3, 'learning_rate': 0.006344091320947964, 'n_estimators': 219, 'min_child_samples': 131, 'subsample': 0.34240540732655456, 'colsample_bytree': 0.15471603960317584, 'reg_alpha': 7.424166144424058e-06, 'reg_lambda': 4.54442702649678e-06}. Best is trial 12 with value: 0.6883225578519696.\n",
      "[I 2024-01-19 11:14:09,894] Trial 27 finished with value: 0.5140302066772655 and parameters: {'num_leaves': 21, 'max_depth': 3, 'learning_rate': 0.003721392146087693, 'n_estimators': 209, 'min_child_samples': 146, 'subsample': 0.42858555551096944, 'colsample_bytree': 0.24459332949073215, 'reg_alpha': 7.293706360387653e-05, 'reg_lambda': 2.74984250040629e-05}. Best is trial 12 with value: 0.6883225578519696.\n",
      "[I 2024-01-19 11:14:10,343] Trial 28 finished with value: 0.6508279455926514 and parameters: {'num_leaves': 15, 'max_depth': 3, 'learning_rate': 0.0072849315081030715, 'n_estimators': 173, 'min_child_samples': 109, 'subsample': 0.33107784697976533, 'colsample_bytree': 0.3246569113347654, 'reg_alpha': 0.0007644859591835764, 'reg_lambda': 6.199766983288224e-06}. Best is trial 12 with value: 0.6883225578519696.\n",
      "[I 2024-01-19 11:14:10,982] Trial 29 finished with value: 0.6719772125066242 and parameters: {'num_leaves': 9, 'max_depth': 3, 'learning_rate': 0.005175105918858545, 'n_estimators': 275, 'min_child_samples': 100, 'subsample': 0.35579176875698576, 'colsample_bytree': 0.25903129789739576, 'reg_alpha': 6.186966044617054e-08, 'reg_lambda': 5.782753846918301e-08}. Best is trial 12 with value: 0.6883225578519696.\n",
      "[I 2024-01-19 11:14:11,414] Trial 30 finished with value: 0.5 and parameters: {'num_leaves': 10, 'max_depth': 3, 'learning_rate': 0.00042706511425794064, 'n_estimators': 249, 'min_child_samples': 162, 'subsample': 0.2786637937903573, 'colsample_bytree': 0.3458367333845628, 'reg_alpha': 5.45550603283396e-06, 'reg_lambda': 0.00797610781158394}. Best is trial 12 with value: 0.6883225578519696.\n",
      "[I 2024-01-19 11:14:11,968] Trial 31 finished with value: 0.6866659600777247 and parameters: {'num_leaves': 13, 'max_depth': 3, 'learning_rate': 0.007796939250487751, 'n_estimators': 239, 'min_child_samples': 108, 'subsample': 0.24089593347412264, 'colsample_bytree': 0.2867416412496356, 'reg_alpha': 6.77727398785289e-07, 'reg_lambda': 7.826988923429851e-07}. Best is trial 12 with value: 0.6883225578519696.\n",
      "[I 2024-01-19 11:14:12,433] Trial 32 finished with value: 0.680849496555379 and parameters: {'num_leaves': 17, 'max_depth': 3, 'learning_rate': 0.006974669312588575, 'n_estimators': 212, 'min_child_samples': 121, 'subsample': 0.23961326791632168, 'colsample_bytree': 0.3068592471546957, 'reg_alpha': 2.43839680915389e-07, 'reg_lambda': 1.1813399519031866e-05}. Best is trial 12 with value: 0.6883225578519696.\n"
     ]
    },
    {
     "name": "stdout",
     "output_type": "stream",
     "text": [
      "___________________________________________________________________________________________________\n",
      "Best trial: {'num_leaves': 10, 'max_depth': 3, 'learning_rate': 0.009801866308508642, 'n_estimators': 234, 'min_child_samples': 105, 'subsample': 0.21192473061548733, 'colsample_bytree': 0.32688680573002354, 'reg_alpha': 4.714947886596101e-07, 'reg_lambda': 6.388897960965078e-07}\n"
     ]
    }
   ],
   "source": [
    "def objective(trial):\n",
    "\n",
    "    # LightGBM model\n",
    "    model = LGBMClassifier(\n",
    "                    num_leaves        = trial.suggest_int(\"num_leaves\", 3, 30),\n",
    "                    max_depth         = trial.suggest_int(\"max_depth\", 2, 3),\n",
    "                    learning_rate     = trial.suggest_loguniform(\"learning_rate\", 0.0001, 0.01),\n",
    "                    n_estimators      = trial.suggest_int(\"n_estimators\", 100, 300),\n",
    "                    min_child_samples = trial.suggest_int(\"min_child_samples\", 100, 200),\n",
    "                    subsample         = trial.suggest_uniform(\"subsample\", 0.1, 0.5),\n",
    "                    colsample_bytree  = trial.suggest_uniform(\"colsample_bytree\", 0.1, 0.5),\n",
    "                    reg_alpha         = trial.suggest_loguniform(\"reg_alpha\", 1e-8, 10.0),\n",
    "                    reg_lambda        = trial.suggest_loguniform(\"reg_lambda\", 1e-8, 10.0),\n",
    "                    objective         = 'binary',\n",
    "                    metric            = 'binary_logloss',\n",
    "                    scale_pos_weight  = minority_weight,\n",
    "                    boosting_type     = 'gbdt',\n",
    "                    force_col_wise    = True,\n",
    "                    verbose           = -1,\n",
    "                    random_state      = 42\n",
    "                )\n",
    "\n",
    "    # Balanced accuracy scorer for cross-validation\n",
    "    bal_acc_scorer = make_scorer(balanced_accuracy_score)\n",
    "\n",
    "    # Initialize StratifiedKFold\n",
    "    stratified_cv = StratifiedKFold(n_splits=10, shuffle=True, random_state=42)\n",
    "\n",
    "    # Cross-validation with balanced accuracy score\n",
    "    score = cross_val_score(\n",
    "                        estimator = model,\n",
    "                        X         = X_train_drug[features_005],\n",
    "                        y         = y_train_drug,\n",
    "                        n_jobs    = -1,\n",
    "                        cv        = stratified_cv,\n",
    "                        scoring   = bal_acc_scorer\n",
    "    ).mean()\n",
    "\n",
    "    return score\n",
    "\n",
    "# Create Study\n",
    "study = optuna.create_study(direction='maximize')\n",
    "study.optimize(objective, n_trials=33, timeout=4000)\n",
    "\n",
    "print(99*'_')\n",
    "print('Best trial:', study.best_trial.params)"
   ]
  },
  {
   "cell_type": "markdown",
   "metadata": {},
   "source": [
    "- Refit & evaluate:"
   ]
  },
  {
   "cell_type": "code",
   "execution_count": null,
   "metadata": {},
   "outputs": [
    {
     "name": "stdout",
     "output_type": "stream",
     "text": [
      "Classification Reports :\n",
      "__________________________________________________________________\n",
      "\n",
      "- Train Set:\n",
      "~~~~~~~~~~~~~~~~~~~~~~~~~~~~~~~~~~~~~~~~~~~~~~~~~~~~~~~~~~~\n"
     ]
    },
    {
     "data": {
      "text/html": [
       "<style type=\"text/css\">\n",
       "#T_26ae5_row0_col0 {\n",
       "  background-color: #963003;\n",
       "  color: #f1f1f1;\n",
       "}\n",
       "#T_26ae5_row0_col1 {\n",
       "  background-color: #ad3803;\n",
       "  color: #f1f1f1;\n",
       "}\n",
       "#T_26ae5_row0_col2 {\n",
       "  background-color: #a13403;\n",
       "  color: #f1f1f1;\n",
       "}\n",
       "#T_26ae5_row1_col0 {\n",
       "  background-color: #fb8634;\n",
       "  color: #f1f1f1;\n",
       "}\n",
       "#T_26ae5_row1_col1 {\n",
       "  background-color: #e4580a;\n",
       "  color: #f1f1f1;\n",
       "}\n",
       "#T_26ae5_row1_col2 {\n",
       "  background-color: #f4711c;\n",
       "  color: #f1f1f1;\n",
       "}\n",
       "#T_26ae5_row2_col0, #T_26ae5_row2_col1, #T_26ae5_row2_col2 {\n",
       "  background-color: #b93d02;\n",
       "  color: #f1f1f1;\n",
       "}\n",
       "</style>\n",
       "<table id=\"T_26ae5\">\n",
       "  <thead>\n",
       "    <tr>\n",
       "      <th class=\"blank level0\" >&nbsp;</th>\n",
       "      <th id=\"T_26ae5_level0_col0\" class=\"col_heading level0 col0\" >precision</th>\n",
       "      <th id=\"T_26ae5_level0_col1\" class=\"col_heading level0 col1\" >recall</th>\n",
       "      <th id=\"T_26ae5_level0_col2\" class=\"col_heading level0 col2\" >f1-score</th>\n",
       "      <th id=\"T_26ae5_level0_col3\" class=\"col_heading level0 col3\" >support</th>\n",
       "    </tr>\n",
       "  </thead>\n",
       "  <tbody>\n",
       "    <tr>\n",
       "      <th id=\"T_26ae5_level0_row0\" class=\"row_heading level0 row0\" >0</th>\n",
       "      <td id=\"T_26ae5_row0_col0\" class=\"data row0 col0\" >0.922853</td>\n",
       "      <td id=\"T_26ae5_row0_col1\" class=\"data row0 col1\" >0.855601</td>\n",
       "      <td id=\"T_26ae5_row0_col2\" class=\"data row0 col2\" >0.887955</td>\n",
       "      <td id=\"T_26ae5_row0_col3\" class=\"data row0 col3\" >741.000000</td>\n",
       "    </tr>\n",
       "    <tr>\n",
       "      <th id=\"T_26ae5_level0_row1\" class=\"row_heading level0 row1\" >1</th>\n",
       "      <td id=\"T_26ae5_row1_col0\" class=\"data row1 col0\" >0.524444</td>\n",
       "      <td id=\"T_26ae5_row1_col1\" class=\"data row1 col1\" >0.690058</td>\n",
       "      <td id=\"T_26ae5_row1_col2\" class=\"data row1 col2\" >0.595960</td>\n",
       "      <td id=\"T_26ae5_row1_col3\" class=\"data row1 col3\" >171.000000</td>\n",
       "    </tr>\n",
       "    <tr>\n",
       "      <th id=\"T_26ae5_level0_row2\" class=\"row_heading level0 row2\" >accuracy</th>\n",
       "      <td id=\"T_26ae5_row2_col0\" class=\"data row2 col0\" >0.824561</td>\n",
       "      <td id=\"T_26ae5_row2_col1\" class=\"data row2 col1\" >0.824561</td>\n",
       "      <td id=\"T_26ae5_row2_col2\" class=\"data row2 col2\" >0.824561</td>\n",
       "      <td id=\"T_26ae5_row2_col3\" class=\"data row2 col3\" >0.824561</td>\n",
       "    </tr>\n",
       "    <tr>\n",
       "      <th id=\"T_26ae5_level0_row3\" class=\"row_heading level0 row3\" >macro avg</th>\n",
       "      <td id=\"T_26ae5_row3_col0\" class=\"data row3 col0\" >0.723649</td>\n",
       "      <td id=\"T_26ae5_row3_col1\" class=\"data row3 col1\" >0.772830</td>\n",
       "      <td id=\"T_26ae5_row3_col2\" class=\"data row3 col2\" >0.741957</td>\n",
       "      <td id=\"T_26ae5_row3_col3\" class=\"data row3 col3\" >912.000000</td>\n",
       "    </tr>\n",
       "    <tr>\n",
       "      <th id=\"T_26ae5_level0_row4\" class=\"row_heading level0 row4\" >weighted avg</th>\n",
       "      <td id=\"T_26ae5_row4_col0\" class=\"data row4 col0\" >0.848151</td>\n",
       "      <td id=\"T_26ae5_row4_col1\" class=\"data row4 col1\" >0.824561</td>\n",
       "      <td id=\"T_26ae5_row4_col2\" class=\"data row4 col2\" >0.833206</td>\n",
       "      <td id=\"T_26ae5_row4_col3\" class=\"data row4 col3\" >912.000000</td>\n",
       "    </tr>\n",
       "  </tbody>\n",
       "</table>\n"
      ],
      "text/plain": [
       "<pandas.io.formats.style.Styler at 0x143062c70>"
      ]
     },
     "metadata": {},
     "output_type": "display_data"
    },
    {
     "name": "stdout",
     "output_type": "stream",
     "text": [
      "\n",
      "- Test Set:\n",
      "~~~~~~~~~~~~~~~~~~~~~~~~~~~~~~~~~~~~~~~~~~~~~~~~~~~~~~~~~~~\n"
     ]
    },
    {
     "data": {
      "text/html": [
       "<style type=\"text/css\">\n",
       "#T_76c2d_row0_col0 {\n",
       "  background-color: #b03903;\n",
       "  color: #f1f1f1;\n",
       "}\n",
       "#T_76c2d_row0_col1 {\n",
       "  background-color: #d04501;\n",
       "  color: #f1f1f1;\n",
       "}\n",
       "#T_76c2d_row0_col2 {\n",
       "  background-color: #c03f02;\n",
       "  color: #f1f1f1;\n",
       "}\n",
       "#T_76c2d_row1_col0 {\n",
       "  background-color: #fdc38d;\n",
       "  color: #000000;\n",
       "}\n",
       "#T_76c2d_row1_col1 {\n",
       "  background-color: #fda25a;\n",
       "  color: #000000;\n",
       "}\n",
       "#T_76c2d_row1_col2 {\n",
       "  background-color: #fdb576;\n",
       "  color: #000000;\n",
       "}\n",
       "#T_76c2d_row2_col0, #T_76c2d_row2_col1, #T_76c2d_row2_col2 {\n",
       "  background-color: #e15407;\n",
       "  color: #f1f1f1;\n",
       "}\n",
       "</style>\n",
       "<table id=\"T_76c2d\">\n",
       "  <thead>\n",
       "    <tr>\n",
       "      <th class=\"blank level0\" >&nbsp;</th>\n",
       "      <th id=\"T_76c2d_level0_col0\" class=\"col_heading level0 col0\" >precision</th>\n",
       "      <th id=\"T_76c2d_level0_col1\" class=\"col_heading level0 col1\" >recall</th>\n",
       "      <th id=\"T_76c2d_level0_col2\" class=\"col_heading level0 col2\" >f1-score</th>\n",
       "      <th id=\"T_76c2d_level0_col3\" class=\"col_heading level0 col3\" >support</th>\n",
       "    </tr>\n",
       "  </thead>\n",
       "  <tbody>\n",
       "    <tr>\n",
       "      <th id=\"T_76c2d_level0_row0\" class=\"row_heading level0 row0\" >0</th>\n",
       "      <td id=\"T_76c2d_row0_col0\" class=\"data row0 col0\" >0.851190</td>\n",
       "      <td id=\"T_76c2d_row0_col1\" class=\"data row0 col1\" >0.772973</td>\n",
       "      <td id=\"T_76c2d_row0_col2\" class=\"data row0 col2\" >0.810198</td>\n",
       "      <td id=\"T_76c2d_row0_col3\" class=\"data row0 col3\" >185.000000</td>\n",
       "    </tr>\n",
       "    <tr>\n",
       "      <th id=\"T_76c2d_level0_row1\" class=\"row_heading level0 row1\" >1</th>\n",
       "      <td id=\"T_76c2d_row1_col0\" class=\"data row1 col0\" >0.300000</td>\n",
       "      <td id=\"T_76c2d_row1_col1\" class=\"data row1 col1\" >0.418605</td>\n",
       "      <td id=\"T_76c2d_row1_col2\" class=\"data row1 col2\" >0.349515</td>\n",
       "      <td id=\"T_76c2d_row1_col3\" class=\"data row1 col3\" >43.000000</td>\n",
       "    </tr>\n",
       "    <tr>\n",
       "      <th id=\"T_76c2d_level0_row2\" class=\"row_heading level0 row2\" >accuracy</th>\n",
       "      <td id=\"T_76c2d_row2_col0\" class=\"data row2 col0\" >0.706140</td>\n",
       "      <td id=\"T_76c2d_row2_col1\" class=\"data row2 col1\" >0.706140</td>\n",
       "      <td id=\"T_76c2d_row2_col2\" class=\"data row2 col2\" >0.706140</td>\n",
       "      <td id=\"T_76c2d_row2_col3\" class=\"data row2 col3\" >0.706140</td>\n",
       "    </tr>\n",
       "    <tr>\n",
       "      <th id=\"T_76c2d_level0_row3\" class=\"row_heading level0 row3\" >macro avg</th>\n",
       "      <td id=\"T_76c2d_row3_col0\" class=\"data row3 col0\" >0.575595</td>\n",
       "      <td id=\"T_76c2d_row3_col1\" class=\"data row3 col1\" >0.595789</td>\n",
       "      <td id=\"T_76c2d_row3_col2\" class=\"data row3 col2\" >0.579856</td>\n",
       "      <td id=\"T_76c2d_row3_col3\" class=\"data row3 col3\" >228.000000</td>\n",
       "    </tr>\n",
       "    <tr>\n",
       "      <th id=\"T_76c2d_level0_row4\" class=\"row_heading level0 row4\" >weighted avg</th>\n",
       "      <td id=\"T_76c2d_row4_col0\" class=\"data row4 col0\" >0.747238</td>\n",
       "      <td id=\"T_76c2d_row4_col1\" class=\"data row4 col1\" >0.706140</td>\n",
       "      <td id=\"T_76c2d_row4_col2\" class=\"data row4 col2\" >0.723315</td>\n",
       "      <td id=\"T_76c2d_row4_col3\" class=\"data row4 col3\" >228.000000</td>\n",
       "    </tr>\n",
       "  </tbody>\n",
       "</table>\n"
      ],
      "text/plain": [
       "<pandas.io.formats.style.Styler at 0x143071910>"
      ]
     },
     "metadata": {},
     "output_type": "display_data"
    }
   ],
   "source": [
    "best_params = study.best_trial.params\n",
    "\n",
    "lgbm_mwu_005 = LGBMClassifier(\n",
    "                    num_leaves        = best_params[\"num_leaves\"],\n",
    "                    max_depth         = best_params[\"max_depth\"],\n",
    "                    learning_rate     = best_params[\"learning_rate\"],\n",
    "                    n_estimators      = best_params[\"n_estimators\"],\n",
    "                    min_child_samples = best_params[\"min_child_samples\"],\n",
    "                    subsample         = best_params[\"subsample\"],\n",
    "                    colsample_bytree  = best_params[\"colsample_bytree\"],\n",
    "                    reg_alpha         = best_params[\"reg_alpha\"],\n",
    "                    reg_lambda        = best_params[\"reg_lambda\"],\n",
    "                    objective         = 'binary',\n",
    "                    metric            = 'binary_logloss',\n",
    "                    scale_pos_weight  = minority_weight,\n",
    "                    boosting_type     = 'gbdt',\n",
    "                    force_col_wise    = True,\n",
    "                    verbose           = -1,\n",
    "                    random_state      = 42\n",
    "                )\n",
    "\n",
    "lgbm_mwu_005.fit(X_train_drug[features_005], y_train_drug)\n",
    "\n",
    "classification_reports(\n",
    "    model = lgbm_mwu_005,\n",
    "    X_train=X_train_drug[features_005],\n",
    "    y_train=y_train_drug,\n",
    "    X_test = X_test_drug[features_005],\n",
    "    y_test = y_test_drug\n",
    ")"
   ]
  },
  {
   "cell_type": "markdown",
   "metadata": {},
   "source": [
    "### **3.2) Under- & Oversampling**\n",
    "- https://towardsdatascience.com/the-right-way-of-using-smote-with-cross-validation-92a8d09d00c7"
   ]
  },
  {
   "cell_type": "code",
   "execution_count": 10,
   "metadata": {},
   "outputs": [],
   "source": [
    "from imblearn.under_sampling import RandomUnderSampler, TomekLinks, EditedNearestNeighbours, NeighbourhoodCleaningRule\n",
    "from imblearn.over_sampling import SMOTE, SVMSMOTE, ADASYN, BorderlineSMOTE, KMeansSMOTE\n",
    "from imblearn.pipeline import Pipeline\n",
    "from imblearn.pipeline import Pipeline as ImbPipeline\n",
    "from sklearn.model_selection import GridSearchCV, StratifiedKFold, RepeatedStratifiedKFold, cross_val_score\n",
    "from sklearn.preprocessing import StandardScaler\n",
    "from xgboost import XGBClassifier\n",
    "from sklearn.linear_model import LogisticRegression\n",
    "from sklearn.metrics import make_scorer, balanced_accuracy_score, f1_score, precision_score, recall_score, accuracy_score"
   ]
  },
  {
   "cell_type": "markdown",
   "metadata": {},
   "source": [
    "- LogReg:\n",
    "  - Best params: {'estimator__C': 0.1, 'oversampler__n_neighbors': 4}\n",
    "  - Best params: {'estimator__C': 10, 'oversampler__n_neighbors': 4}"
   ]
  },
  {
   "cell_type": "code",
   "execution_count": 16,
   "metadata": {},
   "outputs": [
    {
     "name": "stdout",
     "output_type": "stream",
     "text": [
      "Fitting 10 folds for each of 16 candidates, totalling 160 fits\n"
     ]
    },
    {
     "name": "stdout",
     "output_type": "stream",
     "text": [
      "Best score: 0.6608908780903665\n",
      "Best params: {'estimator__C': 10, 'oversampler__n_neighbors': 4}\n",
      "Classification Reports :\n",
      "__________________________________________________________________\n",
      "\n",
      "- Train Set:\n",
      "~~~~~~~~~~~~~~~~~~~~~~~~~~~~~~~~~~~~~~~~~~~~~~~~~~~~~~~~~~~\n"
     ]
    },
    {
     "data": {
      "text/html": [
       "<style type=\"text/css\">\n",
       "#T_926b4_row0_col0 {\n",
       "  background-color: #a53603;\n",
       "  color: #f1f1f1;\n",
       "}\n",
       "#T_926b4_row0_col1 {\n",
       "  background-color: #f16813;\n",
       "  color: #f1f1f1;\n",
       "}\n",
       "#T_926b4_row0_col2 {\n",
       "  background-color: #dd4d04;\n",
       "  color: #f1f1f1;\n",
       "}\n",
       "#T_926b4_row1_col0 {\n",
       "  background-color: #fda762;\n",
       "  color: #000000;\n",
       "}\n",
       "#T_926b4_row1_col1 {\n",
       "  background-color: #db4b03;\n",
       "  color: #f1f1f1;\n",
       "}\n",
       "#T_926b4_row1_col2 {\n",
       "  background-color: #fb8836;\n",
       "  color: #f1f1f1;\n",
       "}\n",
       "#T_926b4_row2_col0, #T_926b4_row2_col1, #T_926b4_row2_col2 {\n",
       "  background-color: #eb610f;\n",
       "  color: #f1f1f1;\n",
       "}\n",
       "</style>\n",
       "<table id=\"T_926b4\">\n",
       "  <thead>\n",
       "    <tr>\n",
       "      <th class=\"blank level0\" >&nbsp;</th>\n",
       "      <th id=\"T_926b4_level0_col0\" class=\"col_heading level0 col0\" >precision</th>\n",
       "      <th id=\"T_926b4_level0_col1\" class=\"col_heading level0 col1\" >recall</th>\n",
       "      <th id=\"T_926b4_level0_col2\" class=\"col_heading level0 col2\" >f1-score</th>\n",
       "      <th id=\"T_926b4_level0_col3\" class=\"col_heading level0 col3\" >support</th>\n",
       "    </tr>\n",
       "  </thead>\n",
       "  <tbody>\n",
       "    <tr>\n",
       "      <th id=\"T_926b4_level0_row0\" class=\"row_heading level0 row0\" >0</th>\n",
       "      <td id=\"T_926b4_row0_col0\" class=\"data row0 col0\" >0.875000</td>\n",
       "      <td id=\"T_926b4_row0_col1\" class=\"data row0 col1\" >0.626100</td>\n",
       "      <td id=\"T_926b4_row0_col2\" class=\"data row0 col2\" >0.729915</td>\n",
       "      <td id=\"T_926b4_row0_col3\" class=\"data row0 col3\" >682.000000</td>\n",
       "    </tr>\n",
       "    <tr>\n",
       "      <th id=\"T_926b4_level0_row1\" class=\"row_heading level0 row1\" >1</th>\n",
       "      <td id=\"T_926b4_row1_col0\" class=\"data row1 col0\" >0.398585</td>\n",
       "      <td id=\"T_926b4_row1_col1\" class=\"data row1 col1\" >0.734783</td>\n",
       "      <td id=\"T_926b4_row1_col2\" class=\"data row1 col2\" >0.516820</td>\n",
       "      <td id=\"T_926b4_row1_col3\" class=\"data row1 col3\" >230.000000</td>\n",
       "    </tr>\n",
       "    <tr>\n",
       "      <th id=\"T_926b4_level0_row2\" class=\"row_heading level0 row2\" >accuracy</th>\n",
       "      <td id=\"T_926b4_row2_col0\" class=\"data row2 col0\" >0.653509</td>\n",
       "      <td id=\"T_926b4_row2_col1\" class=\"data row2 col1\" >0.653509</td>\n",
       "      <td id=\"T_926b4_row2_col2\" class=\"data row2 col2\" >0.653509</td>\n",
       "      <td id=\"T_926b4_row2_col3\" class=\"data row2 col3\" >0.653509</td>\n",
       "    </tr>\n",
       "    <tr>\n",
       "      <th id=\"T_926b4_level0_row3\" class=\"row_heading level0 row3\" >macro avg</th>\n",
       "      <td id=\"T_926b4_row3_col0\" class=\"data row3 col0\" >0.636792</td>\n",
       "      <td id=\"T_926b4_row3_col1\" class=\"data row3 col1\" >0.680441</td>\n",
       "      <td id=\"T_926b4_row3_col2\" class=\"data row3 col2\" >0.623367</td>\n",
       "      <td id=\"T_926b4_row3_col3\" class=\"data row3 col3\" >912.000000</td>\n",
       "    </tr>\n",
       "    <tr>\n",
       "      <th id=\"T_926b4_level0_row4\" class=\"row_heading level0 row4\" >weighted avg</th>\n",
       "      <td id=\"T_926b4_row4_col0\" class=\"data row4 col0\" >0.754851</td>\n",
       "      <td id=\"T_926b4_row4_col1\" class=\"data row4 col1\" >0.653509</td>\n",
       "      <td id=\"T_926b4_row4_col2\" class=\"data row4 col2\" >0.676173</td>\n",
       "      <td id=\"T_926b4_row4_col3\" class=\"data row4 col3\" >912.000000</td>\n",
       "    </tr>\n",
       "  </tbody>\n",
       "</table>\n"
      ],
      "text/plain": [
       "<pandas.io.formats.style.Styler at 0x13c717490>"
      ]
     },
     "metadata": {},
     "output_type": "display_data"
    },
    {
     "name": "stdout",
     "output_type": "stream",
     "text": [
      "\n",
      "- Test Set:\n",
      "~~~~~~~~~~~~~~~~~~~~~~~~~~~~~~~~~~~~~~~~~~~~~~~~~~~~~~~~~~~\n"
     ]
    },
    {
     "data": {
      "text/html": [
       "<style type=\"text/css\">\n",
       "#T_bef53_row0_col0 {\n",
       "  background-color: #ab3803;\n",
       "  color: #f1f1f1;\n",
       "}\n",
       "#T_bef53_row0_col1 {\n",
       "  background-color: #eb610f;\n",
       "  color: #f1f1f1;\n",
       "}\n",
       "#T_bef53_row0_col2 {\n",
       "  background-color: #da4902;\n",
       "  color: #f1f1f1;\n",
       "}\n",
       "#T_bef53_row1_col0 {\n",
       "  background-color: #fda660;\n",
       "  color: #000000;\n",
       "}\n",
       "#T_bef53_row1_col1 {\n",
       "  background-color: #e4580a;\n",
       "  color: #f1f1f1;\n",
       "}\n",
       "#T_bef53_row1_col2 {\n",
       "  background-color: #fc8a39;\n",
       "  color: #f1f1f1;\n",
       "}\n",
       "#T_bef53_row2_col0, #T_bef53_row2_col1, #T_bef53_row2_col2 {\n",
       "  background-color: #ea5f0e;\n",
       "  color: #f1f1f1;\n",
       "}\n",
       "</style>\n",
       "<table id=\"T_bef53\">\n",
       "  <thead>\n",
       "    <tr>\n",
       "      <th class=\"blank level0\" >&nbsp;</th>\n",
       "      <th id=\"T_bef53_level0_col0\" class=\"col_heading level0 col0\" >precision</th>\n",
       "      <th id=\"T_bef53_level0_col1\" class=\"col_heading level0 col1\" >recall</th>\n",
       "      <th id=\"T_bef53_level0_col2\" class=\"col_heading level0 col2\" >f1-score</th>\n",
       "      <th id=\"T_bef53_level0_col3\" class=\"col_heading level0 col3\" >support</th>\n",
       "    </tr>\n",
       "  </thead>\n",
       "  <tbody>\n",
       "    <tr>\n",
       "      <th id=\"T_bef53_level0_row0\" class=\"row_heading level0 row0\" >0</th>\n",
       "      <td id=\"T_bef53_row0_col0\" class=\"data row0 col0\" >0.860465</td>\n",
       "      <td id=\"T_bef53_row0_col1\" class=\"data row0 col1\" >0.652941</td>\n",
       "      <td id=\"T_bef53_row0_col2\" class=\"data row0 col2\" >0.742475</td>\n",
       "      <td id=\"T_bef53_row0_col3\" class=\"data row0 col3\" >170.000000</td>\n",
       "    </tr>\n",
       "    <tr>\n",
       "      <th id=\"T_bef53_level0_row1\" class=\"row_heading level0 row1\" >1</th>\n",
       "      <td id=\"T_bef53_row1_col0\" class=\"data row1 col0\" >0.404040</td>\n",
       "      <td id=\"T_bef53_row1_col1\" class=\"data row1 col1\" >0.689655</td>\n",
       "      <td id=\"T_bef53_row1_col2\" class=\"data row1 col2\" >0.509554</td>\n",
       "      <td id=\"T_bef53_row1_col3\" class=\"data row1 col3\" >58.000000</td>\n",
       "    </tr>\n",
       "    <tr>\n",
       "      <th id=\"T_bef53_level0_row2\" class=\"row_heading level0 row2\" >accuracy</th>\n",
       "      <td id=\"T_bef53_row2_col0\" class=\"data row2 col0\" >0.662281</td>\n",
       "      <td id=\"T_bef53_row2_col1\" class=\"data row2 col1\" >0.662281</td>\n",
       "      <td id=\"T_bef53_row2_col2\" class=\"data row2 col2\" >0.662281</td>\n",
       "      <td id=\"T_bef53_row2_col3\" class=\"data row2 col3\" >0.662281</td>\n",
       "    </tr>\n",
       "    <tr>\n",
       "      <th id=\"T_bef53_level0_row3\" class=\"row_heading level0 row3\" >macro avg</th>\n",
       "      <td id=\"T_bef53_row3_col0\" class=\"data row3 col0\" >0.632253</td>\n",
       "      <td id=\"T_bef53_row3_col1\" class=\"data row3 col1\" >0.671298</td>\n",
       "      <td id=\"T_bef53_row3_col2\" class=\"data row3 col2\" >0.626015</td>\n",
       "      <td id=\"T_bef53_row3_col3\" class=\"data row3 col3\" >228.000000</td>\n",
       "    </tr>\n",
       "    <tr>\n",
       "      <th id=\"T_bef53_level0_row4\" class=\"row_heading level0 row4\" >weighted avg</th>\n",
       "      <td id=\"T_bef53_row4_col0\" class=\"data row4 col0\" >0.744357</td>\n",
       "      <td id=\"T_bef53_row4_col1\" class=\"data row4 col1\" >0.662281</td>\n",
       "      <td id=\"T_bef53_row4_col2\" class=\"data row4 col2\" >0.683223</td>\n",
       "      <td id=\"T_bef53_row4_col3\" class=\"data row4 col3\" >228.000000</td>\n",
       "    </tr>\n",
       "  </tbody>\n",
       "</table>\n"
      ],
      "text/plain": [
       "<pandas.io.formats.style.Styler at 0x13c717490>"
      ]
     },
     "metadata": {},
     "output_type": "display_data"
    }
   ],
   "source": [
    "to_be_tuned = {\n",
    "        'oversampler__n_neighbors': [2,3,4,5],\n",
    "        'estimator__C': [0.1, 0.3, 1, 10],\n",
    "}\n",
    "\n",
    "pipe = ImbPipeline([\n",
    "        ('noiseremoer',  TomekLinks(sampling_strategy='auto', n_jobs=-1)),\n",
    "        ('undersampler', RandomUnderSampler(sampling_strategy={0:500}, random_state=42)), # 0:500\n",
    "        ('scaler',       StandardScaler()),\n",
    "        ('oversampler',  ADASYN(sampling_strategy='auto', random_state=42)),\n",
    "        ('estimator',    LogisticRegression(random_state=42, penalty='l1', solver='liblinear'))\n",
    "])\n",
    "\n",
    "tuner = GridSearchCV(\n",
    "        estimator  = pipe,\n",
    "        param_grid = to_be_tuned,\n",
    "        scoring    = make_scorer(recall_score, average='macro'),\n",
    "        n_jobs     = -1,\n",
    "        cv         = StratifiedKFold(n_splits=10, shuffle=True, random_state=42),\n",
    "        verbose    = 1,\n",
    "        refit       = True\n",
    ")\n",
    "\n",
    "tuner.fit(\n",
    "        X_train[features_005],\n",
    "        y_train\n",
    ")\n",
    "\n",
    "print(f\"Best score: {tuner.best_score_}\")\n",
    "\n",
    "print(f\"Best params: {tuner.best_params_}\")\n",
    "\n",
    "logreg_005 = tuner.best_estimator_\n",
    "\n",
    "# Evaluation:\n",
    "classification_reports(\n",
    "    model   = logreg_005,\n",
    "    X_train = X_train[features_005],\n",
    "    y_train = y_train,\n",
    "    X_test  = X_test[features_005],\n",
    "    y_test  = y_test\n",
    ")"
   ]
  },
  {
   "cell_type": "code",
   "execution_count": null,
   "metadata": {},
   "outputs": [],
   "source": []
  },
  {
   "cell_type": "code",
   "execution_count": null,
   "metadata": {},
   "outputs": [],
   "source": []
  },
  {
   "cell_type": "markdown",
   "metadata": {},
   "source": [
    "- RF & TomekLink:\n",
    "  - Best params: {'estimator__criterion': 'gini', 'estimator__max_depth': 3, 'estimator__max_features': 'sqrt', 'estimator__min_samples_leaf': 6, 'estimator__min_samples_split': 4, 'oversampler__n_neighbors': 6}\n",
    "  - `Best params:` {'estimator__criterion': 'gini', 'estimator__max_depth': 2, 'estimator__max_features': 'sqrt', 'estimator__min_samples_leaf': 6, 'estimator__min_samples_split': 9, 'oversampler__n_neighbors': 7}\n",
    "    - `optimal fit!`\n",
    "\n",
    "\n"
   ]
  },
  {
   "cell_type": "code",
   "execution_count": 16,
   "metadata": {},
   "outputs": [
    {
     "data": {
      "text/plain": [
       "smoking_status\n",
       "0    500\n",
       "1    495\n",
       "Name: count, dtype: int64"
      ]
     },
     "execution_count": 16,
     "metadata": {},
     "output_type": "execute_result"
    }
   ],
   "source": [
    "sampler = pipe = ImbPipeline([\n",
    "        ('noiseremover', TomekLinks(sampling_strategy='majority')),\n",
    "        ('undersampler', RandomUnderSampler(sampling_strategy={0:500}, random_state=42)),\n",
    "        ('scaler',       StandardScaler()),\n",
    "        ('oversampler',  ADASYN(sampling_strategy='auto', random_state=42)),\n",
    "])\n",
    "\n",
    "X_train_resampled, y_train_resampled = sampler.fit_resample(\n",
    "        X_train[features_005],\n",
    "        y_train\n",
    ")\n",
    "\n",
    "y_train_resampled.value_counts()"
   ]
  },
  {
   "cell_type": "code",
   "execution_count": 22,
   "metadata": {},
   "outputs": [
    {
     "name": "stdout",
     "output_type": "stream",
     "text": [
      "Fitting 10 folds for each of 18 candidates, totalling 180 fits\n",
      "Best score: 0.6268435635123615\n",
      "Best params: {'estimator__criterion': 'gini', 'estimator__max_depth': 2, 'estimator__max_features': 'sqrt', 'estimator__min_samples_leaf': 6, 'estimator__min_samples_split': 9, 'oversampler__n_neighbors': 7}\n",
      "Classification Reports :\n",
      "__________________________________________________________________\n",
      "\n",
      "- Train Set:\n",
      "~~~~~~~~~~~~~~~~~~~~~~~~~~~~~~~~~~~~~~~~~~~~~~~~~~~~~~~~~~~\n"
     ]
    },
    {
     "data": {
      "text/html": [
       "<style type=\"text/css\">\n",
       "#T_8d84e_row0_col0 {\n",
       "  background-color: #ae3903;\n",
       "  color: #f1f1f1;\n",
       "}\n",
       "#T_8d84e_row0_col1 {\n",
       "  background-color: #e75b0b;\n",
       "  color: #f1f1f1;\n",
       "}\n",
       "#T_8d84e_row0_col2 {\n",
       "  background-color: #d64701;\n",
       "  color: #f1f1f1;\n",
       "}\n",
       "#T_8d84e_row1_col0 {\n",
       "  background-color: #fda55f;\n",
       "  color: #000000;\n",
       "}\n",
       "#T_8d84e_row1_col1 {\n",
       "  background-color: #eb600e;\n",
       "  color: #f1f1f1;\n",
       "}\n",
       "#T_8d84e_row1_col2 {\n",
       "  background-color: #fd8c3b;\n",
       "  color: #f1f1f1;\n",
       "}\n",
       "#T_8d84e_row2_col0, #T_8d84e_row2_col1, #T_8d84e_row2_col2 {\n",
       "  background-color: #e75c0c;\n",
       "  color: #f1f1f1;\n",
       "}\n",
       "</style>\n",
       "<table id=\"T_8d84e\">\n",
       "  <thead>\n",
       "    <tr>\n",
       "      <th class=\"blank level0\" >&nbsp;</th>\n",
       "      <th id=\"T_8d84e_level0_col0\" class=\"col_heading level0 col0\" >precision</th>\n",
       "      <th id=\"T_8d84e_level0_col1\" class=\"col_heading level0 col1\" >recall</th>\n",
       "      <th id=\"T_8d84e_level0_col2\" class=\"col_heading level0 col2\" >f1-score</th>\n",
       "      <th id=\"T_8d84e_level0_col3\" class=\"col_heading level0 col3\" >support</th>\n",
       "    </tr>\n",
       "  </thead>\n",
       "  <tbody>\n",
       "    <tr>\n",
       "      <th id=\"T_8d84e_level0_row0\" class=\"row_heading level0 row0\" >0</th>\n",
       "      <td id=\"T_8d84e_row0_col0\" class=\"data row0 col0\" >0.854244</td>\n",
       "      <td id=\"T_8d84e_row0_col1\" class=\"data row0 col1\" >0.678886</td>\n",
       "      <td id=\"T_8d84e_row0_col2\" class=\"data row0 col2\" >0.756536</td>\n",
       "      <td id=\"T_8d84e_row0_col3\" class=\"data row0 col3\" >682.000000</td>\n",
       "    </tr>\n",
       "    <tr>\n",
       "      <th id=\"T_8d84e_level0_row1\" class=\"row_heading level0 row1\" >1</th>\n",
       "      <td id=\"T_8d84e_row1_col0\" class=\"data row1 col0\" >0.408108</td>\n",
       "      <td id=\"T_8d84e_row1_col1\" class=\"data row1 col1\" >0.656522</td>\n",
       "      <td id=\"T_8d84e_row1_col2\" class=\"data row1 col2\" >0.503333</td>\n",
       "      <td id=\"T_8d84e_row1_col3\" class=\"data row1 col3\" >230.000000</td>\n",
       "    </tr>\n",
       "    <tr>\n",
       "      <th id=\"T_8d84e_level0_row2\" class=\"row_heading level0 row2\" >accuracy</th>\n",
       "      <td id=\"T_8d84e_row2_col0\" class=\"data row2 col0\" >0.673246</td>\n",
       "      <td id=\"T_8d84e_row2_col1\" class=\"data row2 col1\" >0.673246</td>\n",
       "      <td id=\"T_8d84e_row2_col2\" class=\"data row2 col2\" >0.673246</td>\n",
       "      <td id=\"T_8d84e_row2_col3\" class=\"data row2 col3\" >0.673246</td>\n",
       "    </tr>\n",
       "    <tr>\n",
       "      <th id=\"T_8d84e_level0_row3\" class=\"row_heading level0 row3\" >macro avg</th>\n",
       "      <td id=\"T_8d84e_row3_col0\" class=\"data row3 col0\" >0.631176</td>\n",
       "      <td id=\"T_8d84e_row3_col1\" class=\"data row3 col1\" >0.667704</td>\n",
       "      <td id=\"T_8d84e_row3_col2\" class=\"data row3 col2\" >0.629935</td>\n",
       "      <td id=\"T_8d84e_row3_col3\" class=\"data row3 col3\" >912.000000</td>\n",
       "    </tr>\n",
       "    <tr>\n",
       "      <th id=\"T_8d84e_level0_row4\" class=\"row_heading level0 row4\" >weighted avg</th>\n",
       "      <td id=\"T_8d84e_row4_col0\" class=\"data row4 col0\" >0.741731</td>\n",
       "      <td id=\"T_8d84e_row4_col1\" class=\"data row4 col1\" >0.673246</td>\n",
       "      <td id=\"T_8d84e_row4_col2\" class=\"data row4 col2\" >0.692680</td>\n",
       "      <td id=\"T_8d84e_row4_col3\" class=\"data row4 col3\" >912.000000</td>\n",
       "    </tr>\n",
       "  </tbody>\n",
       "</table>\n"
      ],
      "text/plain": [
       "<pandas.io.formats.style.Styler at 0x13389b9d0>"
      ]
     },
     "metadata": {},
     "output_type": "display_data"
    },
    {
     "name": "stdout",
     "output_type": "stream",
     "text": [
      "\n",
      "- Test Set:\n",
      "~~~~~~~~~~~~~~~~~~~~~~~~~~~~~~~~~~~~~~~~~~~~~~~~~~~~~~~~~~~\n"
     ]
    },
    {
     "data": {
      "text/html": [
       "<style type=\"text/css\">\n",
       "#T_e32b4_row0_col0 {\n",
       "  background-color: #ae3903;\n",
       "  color: #f1f1f1;\n",
       "}\n",
       "#T_e32b4_row0_col1 {\n",
       "  background-color: #de4e05;\n",
       "  color: #f1f1f1;\n",
       "}\n",
       "#T_e32b4_row0_col2 {\n",
       "  background-color: #cb4302;\n",
       "  color: #f1f1f1;\n",
       "}\n",
       "#T_e32b4_row1_col0 {\n",
       "  background-color: #fd9d53;\n",
       "  color: #000000;\n",
       "}\n",
       "#T_e32b4_row1_col1 {\n",
       "  background-color: #ee6511;\n",
       "  color: #f1f1f1;\n",
       "}\n",
       "#T_e32b4_row1_col2 {\n",
       "  background-color: #fb8735;\n",
       "  color: #f1f1f1;\n",
       "}\n",
       "#T_e32b4_row2_col0, #T_e32b4_row2_col1, #T_e32b4_row2_col2 {\n",
       "  background-color: #e25508;\n",
       "  color: #f1f1f1;\n",
       "}\n",
       "</style>\n",
       "<table id=\"T_e32b4\">\n",
       "  <thead>\n",
       "    <tr>\n",
       "      <th class=\"blank level0\" >&nbsp;</th>\n",
       "      <th id=\"T_e32b4_level0_col0\" class=\"col_heading level0 col0\" >precision</th>\n",
       "      <th id=\"T_e32b4_level0_col1\" class=\"col_heading level0 col1\" >recall</th>\n",
       "      <th id=\"T_e32b4_level0_col2\" class=\"col_heading level0 col2\" >f1-score</th>\n",
       "      <th id=\"T_e32b4_level0_col3\" class=\"col_heading level0 col3\" >support</th>\n",
       "    </tr>\n",
       "  </thead>\n",
       "  <tbody>\n",
       "    <tr>\n",
       "      <th id=\"T_e32b4_level0_row0\" class=\"row_heading level0 row0\" >0</th>\n",
       "      <td id=\"T_e32b4_row0_col0\" class=\"data row0 col0\" >0.854167</td>\n",
       "      <td id=\"T_e32b4_row0_col1\" class=\"data row0 col1\" >0.723529</td>\n",
       "      <td id=\"T_e32b4_row0_col2\" class=\"data row0 col2\" >0.783439</td>\n",
       "      <td id=\"T_e32b4_row0_col3\" class=\"data row0 col3\" >170.000000</td>\n",
       "    </tr>\n",
       "    <tr>\n",
       "      <th id=\"T_e32b4_level0_row1\" class=\"row_heading level0 row1\" >1</th>\n",
       "      <td id=\"T_e32b4_row1_col0\" class=\"data row1 col0\" >0.440476</td>\n",
       "      <td id=\"T_e32b4_row1_col1\" class=\"data row1 col1\" >0.637931</td>\n",
       "      <td id=\"T_e32b4_row1_col2\" class=\"data row1 col2\" >0.521127</td>\n",
       "      <td id=\"T_e32b4_row1_col3\" class=\"data row1 col3\" >58.000000</td>\n",
       "    </tr>\n",
       "    <tr>\n",
       "      <th id=\"T_e32b4_level0_row2\" class=\"row_heading level0 row2\" >accuracy</th>\n",
       "      <td id=\"T_e32b4_row2_col0\" class=\"data row2 col0\" >0.701754</td>\n",
       "      <td id=\"T_e32b4_row2_col1\" class=\"data row2 col1\" >0.701754</td>\n",
       "      <td id=\"T_e32b4_row2_col2\" class=\"data row2 col2\" >0.701754</td>\n",
       "      <td id=\"T_e32b4_row2_col3\" class=\"data row2 col3\" >0.701754</td>\n",
       "    </tr>\n",
       "    <tr>\n",
       "      <th id=\"T_e32b4_level0_row3\" class=\"row_heading level0 row3\" >macro avg</th>\n",
       "      <td id=\"T_e32b4_row3_col0\" class=\"data row3 col0\" >0.647321</td>\n",
       "      <td id=\"T_e32b4_row3_col1\" class=\"data row3 col1\" >0.680730</td>\n",
       "      <td id=\"T_e32b4_row3_col2\" class=\"data row3 col2\" >0.652283</td>\n",
       "      <td id=\"T_e32b4_row3_col3\" class=\"data row3 col3\" >228.000000</td>\n",
       "    </tr>\n",
       "    <tr>\n",
       "      <th id=\"T_e32b4_level0_row4\" class=\"row_heading level0 row4\" >weighted avg</th>\n",
       "      <td id=\"T_e32b4_row4_col0\" class=\"data row4 col0\" >0.748930</td>\n",
       "      <td id=\"T_e32b4_row4_col1\" class=\"data row4 col1\" >0.701754</td>\n",
       "      <td id=\"T_e32b4_row4_col2\" class=\"data row4 col2\" >0.716711</td>\n",
       "      <td id=\"T_e32b4_row4_col3\" class=\"data row4 col3\" >228.000000</td>\n",
       "    </tr>\n",
       "  </tbody>\n",
       "</table>\n"
      ],
      "text/plain": [
       "<pandas.io.formats.style.Styler at 0x13e470f70>"
      ]
     },
     "metadata": {},
     "output_type": "display_data"
    }
   ],
   "source": [
    "# import random forest\n",
    "from sklearn.ensemble import RandomForestClassifier\n",
    "\n",
    "to_be_tuned = {\n",
    "        'oversampler__n_neighbors':            [5,6,7],\n",
    "        'estimator__max_depth':                [2], # 3\n",
    "        'estimator__min_samples_split':        [9], # min number of samples required to split an internal node\n",
    "        'estimator__min_samples_leaf':         [5,6,7],  # min number of samples required to be at a leaf node\n",
    "        'estimator__max_features':             ['sqrt'],\n",
    "        'estimator__criterion':                ['gini', 'entropy']\n",
    "}\n",
    "\n",
    "pipe = ImbPipeline([\n",
    "        ('noiseremover', TomekLinks(sampling_strategy='majority')),\n",
    "        ('undersampler', RandomUnderSampler(sampling_strategy={0:539}, random_state=42)),\n",
    "        ('scaler',       StandardScaler()),\n",
    "        ('oversampler',  ADASYN(sampling_strategy='auto', random_state=42)),\n",
    "        ('estimator',    RandomForestClassifier(random_state=42))\n",
    "])\n",
    "\n",
    "tuner = GridSearchCV(\n",
    "        estimator  = pipe,\n",
    "        param_grid = to_be_tuned,\n",
    "        scoring    = make_scorer(recall_score, average='macro'),\n",
    "        n_jobs     = -1,\n",
    "        cv         = StratifiedKFold(n_splits=10, shuffle=True, random_state=42),\n",
    "        verbose    =  1,\n",
    ")\n",
    "\n",
    "tuner.fit(\n",
    "        X_train[features_005],\n",
    "        y_train\n",
    ")\n",
    "\n",
    "print(f\"Best score: {tuner.best_score_}\")\n",
    "print(f\"Best params: {tuner.best_params_}\")\n",
    "\n",
    "rf_005 = tuner.best_estimator_\n",
    "\n",
    "# Evaluation:\n",
    "classification_reports(\n",
    "    model   = rf_005,\n",
    "    X_train = X_train[features_005],\n",
    "    y_train = y_train,\n",
    "    X_test  = X_test[features_005],\n",
    "    y_test  = y_test\n",
    ")"
   ]
  },
  {
   "cell_type": "markdown",
   "metadata": {},
   "source": [
    "- SVM:\n",
    "  - Best params: {'estimator__C': 0.1, 'estimator__decision_function_shape': 'ovo', 'estimator__degree': 2, 'estimator__gamma': 'auto', 'estimator__kernel': 'sigmoid', 'estimator__shrinking': True, 'oversampler__n_neighbors': 5}\n",
    "\n"
   ]
  },
  {
   "cell_type": "code",
   "execution_count": 11,
   "metadata": {},
   "outputs": [
    {
     "name": "stdout",
     "output_type": "stream",
     "text": [
      "Fitting 5 folds for each of 256 candidates, totalling 1280 fits\n"
     ]
    },
    {
     "name": "stdout",
     "output_type": "stream",
     "text": [
      "Best score: 0.662914200907275\n",
      "Best params: {'estimator__C': 0.1, 'estimator__decision_function_shape': 'ovo', 'estimator__degree': 2, 'estimator__gamma': 'auto', 'estimator__kernel': 'sigmoid', 'estimator__shrinking': True, 'oversampler__n_neighbors': 5}\n",
      "Classification Reports :\n",
      "__________________________________________________________________\n",
      "\n",
      "- Train Set:\n",
      "~~~~~~~~~~~~~~~~~~~~~~~~~~~~~~~~~~~~~~~~~~~~~~~~~~~~~~~~~~~\n"
     ]
    },
    {
     "data": {
      "text/html": [
       "<style type=\"text/css\">\n",
       "#T_b7b85_row0_col0 {\n",
       "  background-color: #a93703;\n",
       "  color: #f1f1f1;\n",
       "}\n",
       "#T_b7b85_row0_col1 {\n",
       "  background-color: #f16913;\n",
       "  color: #f1f1f1;\n",
       "}\n",
       "#T_b7b85_row0_col2 {\n",
       "  background-color: #de4e05;\n",
       "  color: #f1f1f1;\n",
       "}\n",
       "#T_b7b85_row1_col0 {\n",
       "  background-color: #fdab66;\n",
       "  color: #000000;\n",
       "}\n",
       "#T_b7b85_row1_col1 {\n",
       "  background-color: #e05206;\n",
       "  color: #f1f1f1;\n",
       "}\n",
       "#T_b7b85_row1_col2 {\n",
       "  background-color: #fd8c3b;\n",
       "  color: #f1f1f1;\n",
       "}\n",
       "#T_b7b85_row2_col0, #T_b7b85_row2_col1, #T_b7b85_row2_col2 {\n",
       "  background-color: #ed6310;\n",
       "  color: #f1f1f1;\n",
       "}\n",
       "</style>\n",
       "<table id=\"T_b7b85\">\n",
       "  <thead>\n",
       "    <tr>\n",
       "      <th class=\"blank level0\" >&nbsp;</th>\n",
       "      <th id=\"T_b7b85_level0_col0\" class=\"col_heading level0 col0\" >precision</th>\n",
       "      <th id=\"T_b7b85_level0_col1\" class=\"col_heading level0 col1\" >recall</th>\n",
       "      <th id=\"T_b7b85_level0_col2\" class=\"col_heading level0 col2\" >f1-score</th>\n",
       "      <th id=\"T_b7b85_level0_col3\" class=\"col_heading level0 col3\" >support</th>\n",
       "    </tr>\n",
       "  </thead>\n",
       "  <tbody>\n",
       "    <tr>\n",
       "      <th id=\"T_b7b85_level0_row0\" class=\"row_heading level0 row0\" >0</th>\n",
       "      <td id=\"T_b7b85_row0_col0\" class=\"data row0 col0\" >0.865306</td>\n",
       "      <td id=\"T_b7b85_row0_col1\" class=\"data row0 col1\" >0.621701</td>\n",
       "      <td id=\"T_b7b85_row0_col2\" class=\"data row0 col2\" >0.723549</td>\n",
       "      <td id=\"T_b7b85_row0_col3\" class=\"data row0 col3\" >682.000000</td>\n",
       "    </tr>\n",
       "    <tr>\n",
       "      <th id=\"T_b7b85_level0_row1\" class=\"row_heading level0 row1\" >1</th>\n",
       "      <td id=\"T_b7b85_row1_col0\" class=\"data row1 col0\" >0.388626</td>\n",
       "      <td id=\"T_b7b85_row1_col1\" class=\"data row1 col1\" >0.713043</td>\n",
       "      <td id=\"T_b7b85_row1_col2\" class=\"data row1 col2\" >0.503067</td>\n",
       "      <td id=\"T_b7b85_row1_col3\" class=\"data row1 col3\" >230.000000</td>\n",
       "    </tr>\n",
       "    <tr>\n",
       "      <th id=\"T_b7b85_level0_row2\" class=\"row_heading level0 row2\" >accuracy</th>\n",
       "      <td id=\"T_b7b85_row2_col0\" class=\"data row2 col0\" >0.644737</td>\n",
       "      <td id=\"T_b7b85_row2_col1\" class=\"data row2 col1\" >0.644737</td>\n",
       "      <td id=\"T_b7b85_row2_col2\" class=\"data row2 col2\" >0.644737</td>\n",
       "      <td id=\"T_b7b85_row2_col3\" class=\"data row2 col3\" >0.644737</td>\n",
       "    </tr>\n",
       "    <tr>\n",
       "      <th id=\"T_b7b85_level0_row3\" class=\"row_heading level0 row3\" >macro avg</th>\n",
       "      <td id=\"T_b7b85_row3_col0\" class=\"data row3 col0\" >0.626966</td>\n",
       "      <td id=\"T_b7b85_row3_col1\" class=\"data row3 col1\" >0.667372</td>\n",
       "      <td id=\"T_b7b85_row3_col2\" class=\"data row3 col2\" >0.613308</td>\n",
       "      <td id=\"T_b7b85_row3_col3\" class=\"data row3 col3\" >912.000000</td>\n",
       "    </tr>\n",
       "    <tr>\n",
       "      <th id=\"T_b7b85_level0_row4\" class=\"row_heading level0 row4\" >weighted avg</th>\n",
       "      <td id=\"T_b7b85_row4_col0\" class=\"data row4 col0\" >0.745091</td>\n",
       "      <td id=\"T_b7b85_row4_col1\" class=\"data row4 col1\" >0.644737</td>\n",
       "      <td id=\"T_b7b85_row4_col2\" class=\"data row4 col2\" >0.667945</td>\n",
       "      <td id=\"T_b7b85_row4_col3\" class=\"data row4 col3\" >912.000000</td>\n",
       "    </tr>\n",
       "  </tbody>\n",
       "</table>\n"
      ],
      "text/plain": [
       "<pandas.io.formats.style.Styler at 0x13c710d00>"
      ]
     },
     "metadata": {},
     "output_type": "display_data"
    },
    {
     "name": "stdout",
     "output_type": "stream",
     "text": [
      "\n",
      "- Test Set:\n",
      "~~~~~~~~~~~~~~~~~~~~~~~~~~~~~~~~~~~~~~~~~~~~~~~~~~~~~~~~~~~\n"
     ]
    },
    {
     "data": {
      "text/html": [
       "<style type=\"text/css\">\n",
       "#T_c4803_row0_col0 {\n",
       "  background-color: #ae3903;\n",
       "  color: #f1f1f1;\n",
       "}\n",
       "#T_c4803_row0_col1 {\n",
       "  background-color: #eb600e;\n",
       "  color: #f1f1f1;\n",
       "}\n",
       "#T_c4803_row0_col2 {\n",
       "  background-color: #da4902;\n",
       "  color: #f1f1f1;\n",
       "}\n",
       "#T_c4803_row1_col0 {\n",
       "  background-color: #fda762;\n",
       "  color: #000000;\n",
       "}\n",
       "#T_c4803_row1_col1 {\n",
       "  background-color: #e75c0c;\n",
       "  color: #f1f1f1;\n",
       "}\n",
       "#T_c4803_row1_col2 {\n",
       "  background-color: #fd8c3b;\n",
       "  color: #f1f1f1;\n",
       "}\n",
       "#T_c4803_row2_col0, #T_c4803_row2_col1, #T_c4803_row2_col2 {\n",
       "  background-color: #ea5f0e;\n",
       "  color: #f1f1f1;\n",
       "}\n",
       "</style>\n",
       "<table id=\"T_c4803\">\n",
       "  <thead>\n",
       "    <tr>\n",
       "      <th class=\"blank level0\" >&nbsp;</th>\n",
       "      <th id=\"T_c4803_level0_col0\" class=\"col_heading level0 col0\" >precision</th>\n",
       "      <th id=\"T_c4803_level0_col1\" class=\"col_heading level0 col1\" >recall</th>\n",
       "      <th id=\"T_c4803_level0_col2\" class=\"col_heading level0 col2\" >f1-score</th>\n",
       "      <th id=\"T_c4803_level0_col3\" class=\"col_heading level0 col3\" >support</th>\n",
       "    </tr>\n",
       "  </thead>\n",
       "  <tbody>\n",
       "    <tr>\n",
       "      <th id=\"T_c4803_level0_row0\" class=\"row_heading level0 row0\" >0</th>\n",
       "      <td id=\"T_c4803_row0_col0\" class=\"data row0 col0\" >0.854962</td>\n",
       "      <td id=\"T_c4803_row0_col1\" class=\"data row0 col1\" >0.658824</td>\n",
       "      <td id=\"T_c4803_row0_col2\" class=\"data row0 col2\" >0.744186</td>\n",
       "      <td id=\"T_c4803_row0_col3\" class=\"data row0 col3\" >170.000000</td>\n",
       "    </tr>\n",
       "    <tr>\n",
       "      <th id=\"T_c4803_level0_row1\" class=\"row_heading level0 row1\" >1</th>\n",
       "      <td id=\"T_c4803_row1_col0\" class=\"data row1 col0\" >0.402062</td>\n",
       "      <td id=\"T_c4803_row1_col1\" class=\"data row1 col1\" >0.672414</td>\n",
       "      <td id=\"T_c4803_row1_col2\" class=\"data row1 col2\" >0.503226</td>\n",
       "      <td id=\"T_c4803_row1_col3\" class=\"data row1 col3\" >58.000000</td>\n",
       "    </tr>\n",
       "    <tr>\n",
       "      <th id=\"T_c4803_level0_row2\" class=\"row_heading level0 row2\" >accuracy</th>\n",
       "      <td id=\"T_c4803_row2_col0\" class=\"data row2 col0\" >0.662281</td>\n",
       "      <td id=\"T_c4803_row2_col1\" class=\"data row2 col1\" >0.662281</td>\n",
       "      <td id=\"T_c4803_row2_col2\" class=\"data row2 col2\" >0.662281</td>\n",
       "      <td id=\"T_c4803_row2_col3\" class=\"data row2 col3\" >0.662281</td>\n",
       "    </tr>\n",
       "    <tr>\n",
       "      <th id=\"T_c4803_level0_row3\" class=\"row_heading level0 row3\" >macro avg</th>\n",
       "      <td id=\"T_c4803_row3_col0\" class=\"data row3 col0\" >0.628512</td>\n",
       "      <td id=\"T_c4803_row3_col1\" class=\"data row3 col1\" >0.665619</td>\n",
       "      <td id=\"T_c4803_row3_col2\" class=\"data row3 col2\" >0.623706</td>\n",
       "      <td id=\"T_c4803_row3_col3\" class=\"data row3 col3\" >228.000000</td>\n",
       "    </tr>\n",
       "    <tr>\n",
       "      <th id=\"T_c4803_level0_row4\" class=\"row_heading level0 row4\" >weighted avg</th>\n",
       "      <td id=\"T_c4803_row4_col0\" class=\"data row4 col0\" >0.739750</td>\n",
       "      <td id=\"T_c4803_row4_col1\" class=\"data row4 col1\" >0.662281</td>\n",
       "      <td id=\"T_c4803_row4_col2\" class=\"data row4 col2\" >0.682889</td>\n",
       "      <td id=\"T_c4803_row4_col3\" class=\"data row4 col3\" >228.000000</td>\n",
       "    </tr>\n",
       "  </tbody>\n",
       "</table>\n"
      ],
      "text/plain": [
       "<pandas.io.formats.style.Styler at 0x13c717730>"
      ]
     },
     "metadata": {},
     "output_type": "display_data"
    }
   ],
   "source": [
    "# import svm\n",
    "from sklearn.svm import SVC\n",
    "\n",
    "to_be_tuned = {\n",
    "        'oversampler__n_neighbors':           [2,3,4,5],\n",
    "        'estimator__C':                       [0.1],\n",
    "        'estimator__degree':                  [2,3,4,5],\n",
    "        'estimator__gamma':                   ['scale', 'auto'],\n",
    "        'estimator__kernel':                  ['poly', 'sigmoid'],\n",
    "        'estimator__shrinking':               [True, False],\n",
    "        'estimator__decision_function_shape': ['ovo', 'ovr']\n",
    "}\n",
    "\n",
    "pipe = ImbPipeline([\n",
    "        ('undersampler', RandomUnderSampler(sampling_strategy={0:500}, random_state=42)),\n",
    "        ('scaler',       StandardScaler()),\n",
    "        ('oversampler',  ADASYN(sampling_strategy='auto', random_state=42)),\n",
    "        ('estimator',    SVC(random_state=42, probability=True, kernel='poly'))\n",
    "])\n",
    "\n",
    "tuner = GridSearchCV(\n",
    "        pipe,\n",
    "        param_grid = to_be_tuned,\n",
    "        scoring    = make_scorer(recall_score, average='macro'),\n",
    "        n_jobs     = -1,\n",
    "        cv         = StratifiedKFold(n_splits=5, shuffle=True, random_state=42),\n",
    "        verbose    = 1\n",
    ")\n",
    "\n",
    "tuner.fit(\n",
    "        X_train[features_005],\n",
    "        y_train\n",
    ")\n",
    "\n",
    "print(f\"Best score: {tuner.best_score_}\")\n",
    "\n",
    "print(f\"Best params: {tuner.best_params_}\")\n",
    "\n",
    "svc_005 = tuner.best_estimator_\n",
    "\n",
    "# Evaluation:\n",
    "classification_reports(\n",
    "    model   = svc_005,\n",
    "    X_train = X_train[features_005],\n",
    "    y_train = y_train,\n",
    "    X_test  = X_test[features_005],\n",
    "    y_test  = y_test\n",
    ")"
   ]
  },
  {
   "cell_type": "markdown",
   "metadata": {},
   "source": [
    "- LightGBM:\n",
    "  - Best parameters: {'estimator__colsample_bytree': 0.5, 'estimator__learning_rate': 0.3, 'estimator__max_depth': 2, 'estimator__min_child_samples': 100, 'estimator__num_leaves': 5, 'estimator__reg_alpha': 9, 'estimator__reg_lambda': 0.4, 'estimator__subsample': 0.3, 'oversampler__n_neighbors': 2}\n"
   ]
  },
  {
   "cell_type": "code",
   "execution_count": 14,
   "metadata": {},
   "outputs": [],
   "source": [
    "from lightgbm import LGBMClassifier"
   ]
  },
  {
   "cell_type": "code",
   "execution_count": 15,
   "metadata": {},
   "outputs": [
    {
     "name": "stdout",
     "output_type": "stream",
     "text": [
      "Fitting 10 folds for each of 216 candidates, totalling 2160 fits\n"
     ]
    },
    {
     "name": "stdout",
     "output_type": "stream",
     "text": [
      "Best parameters: {'estimator__colsample_bytree': 0.5, 'estimator__learning_rate': 0.3, 'estimator__max_depth': 2, 'estimator__min_child_samples': 100, 'estimator__num_leaves': 5, 'estimator__reg_alpha': 9, 'estimator__reg_lambda': 0.4, 'estimator__subsample': 0.3, 'oversampler__n_neighbors': 2}\n",
      "Classification Reports :\n",
      "__________________________________________________________________\n",
      "\n",
      "- Train Set:\n",
      "~~~~~~~~~~~~~~~~~~~~~~~~~~~~~~~~~~~~~~~~~~~~~~~~~~~~~~~~~~~\n"
     ]
    },
    {
     "data": {
      "text/html": [
       "<style type=\"text/css\">\n",
       "#T_57cc0_row0_col0 {\n",
       "  background-color: #9f3303;\n",
       "  color: #f1f1f1;\n",
       "}\n",
       "#T_57cc0_row0_col1 {\n",
       "  background-color: #d34601;\n",
       "  color: #f1f1f1;\n",
       "}\n",
       "#T_57cc0_row0_col2 {\n",
       "  background-color: #b93d02;\n",
       "  color: #f1f1f1;\n",
       "}\n",
       "#T_57cc0_row1_col0 {\n",
       "  background-color: #fc8937;\n",
       "  color: #f1f1f1;\n",
       "}\n",
       "#T_57cc0_row1_col1 {\n",
       "  background-color: #da4902;\n",
       "  color: #f1f1f1;\n",
       "}\n",
       "#T_57cc0_row1_col2 {\n",
       "  background-color: #f36e19;\n",
       "  color: #f1f1f1;\n",
       "}\n",
       "#T_57cc0_row2_col0, #T_57cc0_row2_col1, #T_57cc0_row2_col2 {\n",
       "  background-color: #d54601;\n",
       "  color: #f1f1f1;\n",
       "}\n",
       "</style>\n",
       "<table id=\"T_57cc0\">\n",
       "  <thead>\n",
       "    <tr>\n",
       "      <th class=\"blank level0\" >&nbsp;</th>\n",
       "      <th id=\"T_57cc0_level0_col0\" class=\"col_heading level0 col0\" >precision</th>\n",
       "      <th id=\"T_57cc0_level0_col1\" class=\"col_heading level0 col1\" >recall</th>\n",
       "      <th id=\"T_57cc0_level0_col2\" class=\"col_heading level0 col2\" >f1-score</th>\n",
       "      <th id=\"T_57cc0_level0_col3\" class=\"col_heading level0 col3\" >support</th>\n",
       "    </tr>\n",
       "  </thead>\n",
       "  <tbody>\n",
       "    <tr>\n",
       "      <th id=\"T_57cc0_level0_row0\" class=\"row_heading level0 row0\" >0</th>\n",
       "      <td id=\"T_57cc0_row0_col0\" class=\"data row0 col0\" >0.898276</td>\n",
       "      <td id=\"T_57cc0_row0_col1\" class=\"data row0 col1\" >0.763930</td>\n",
       "      <td id=\"T_57cc0_row0_col2\" class=\"data row0 col2\" >0.825674</td>\n",
       "      <td id=\"T_57cc0_row0_col3\" class=\"data row0 col3\" >682.000000</td>\n",
       "    </tr>\n",
       "    <tr>\n",
       "      <th id=\"T_57cc0_level0_row1\" class=\"row_heading level0 row1\" >1</th>\n",
       "      <td id=\"T_57cc0_row1_col0\" class=\"data row1 col0\" >0.515060</td>\n",
       "      <td id=\"T_57cc0_row1_col1\" class=\"data row1 col1\" >0.743478</td>\n",
       "      <td id=\"T_57cc0_row1_col2\" class=\"data row1 col2\" >0.608541</td>\n",
       "      <td id=\"T_57cc0_row1_col3\" class=\"data row1 col3\" >230.000000</td>\n",
       "    </tr>\n",
       "    <tr>\n",
       "      <th id=\"T_57cc0_level0_row2\" class=\"row_heading level0 row2\" >accuracy</th>\n",
       "      <td id=\"T_57cc0_row2_col0\" class=\"data row2 col0\" >0.758772</td>\n",
       "      <td id=\"T_57cc0_row2_col1\" class=\"data row2 col1\" >0.758772</td>\n",
       "      <td id=\"T_57cc0_row2_col2\" class=\"data row2 col2\" >0.758772</td>\n",
       "      <td id=\"T_57cc0_row2_col3\" class=\"data row2 col3\" >0.758772</td>\n",
       "    </tr>\n",
       "    <tr>\n",
       "      <th id=\"T_57cc0_level0_row3\" class=\"row_heading level0 row3\" >macro avg</th>\n",
       "      <td id=\"T_57cc0_row3_col0\" class=\"data row3 col0\" >0.706668</td>\n",
       "      <td id=\"T_57cc0_row3_col1\" class=\"data row3 col1\" >0.753704</td>\n",
       "      <td id=\"T_57cc0_row3_col2\" class=\"data row3 col2\" >0.717107</td>\n",
       "      <td id=\"T_57cc0_row3_col3\" class=\"data row3 col3\" >912.000000</td>\n",
       "    </tr>\n",
       "    <tr>\n",
       "      <th id=\"T_57cc0_level0_row4\" class=\"row_heading level0 row4\" >weighted avg</th>\n",
       "      <td id=\"T_57cc0_row4_col0\" class=\"data row4 col0\" >0.801632</td>\n",
       "      <td id=\"T_57cc0_row4_col1\" class=\"data row4 col1\" >0.758772</td>\n",
       "      <td id=\"T_57cc0_row4_col2\" class=\"data row4 col2\" >0.770914</td>\n",
       "      <td id=\"T_57cc0_row4_col3\" class=\"data row4 col3\" >912.000000</td>\n",
       "    </tr>\n",
       "  </tbody>\n",
       "</table>\n"
      ],
      "text/plain": [
       "<pandas.io.formats.style.Styler at 0x13c838a00>"
      ]
     },
     "metadata": {},
     "output_type": "display_data"
    },
    {
     "name": "stdout",
     "output_type": "stream",
     "text": [
      "\n",
      "- Test Set:\n",
      "~~~~~~~~~~~~~~~~~~~~~~~~~~~~~~~~~~~~~~~~~~~~~~~~~~~~~~~~~~~\n"
     ]
    },
    {
     "data": {
      "text/html": [
       "<style type=\"text/css\">\n",
       "#T_0b06f_row0_col0 {\n",
       "  background-color: #b03903;\n",
       "  color: #f1f1f1;\n",
       "}\n",
       "#T_0b06f_row0_col1 {\n",
       "  background-color: #e25508;\n",
       "  color: #f1f1f1;\n",
       "}\n",
       "#T_0b06f_row0_col2 {\n",
       "  background-color: #d14501;\n",
       "  color: #f1f1f1;\n",
       "}\n",
       "#T_0b06f_row1_col0 {\n",
       "  background-color: #fda25a;\n",
       "  color: #000000;\n",
       "}\n",
       "#T_0b06f_row1_col1 {\n",
       "  background-color: #ee6511;\n",
       "  color: #f1f1f1;\n",
       "}\n",
       "#T_0b06f_row1_col2 {\n",
       "  background-color: #fc8b3a;\n",
       "  color: #f1f1f1;\n",
       "}\n",
       "#T_0b06f_row2_col0, #T_0b06f_row2_col1, #T_0b06f_row2_col2 {\n",
       "  background-color: #e5590a;\n",
       "  color: #f1f1f1;\n",
       "}\n",
       "</style>\n",
       "<table id=\"T_0b06f\">\n",
       "  <thead>\n",
       "    <tr>\n",
       "      <th class=\"blank level0\" >&nbsp;</th>\n",
       "      <th id=\"T_0b06f_level0_col0\" class=\"col_heading level0 col0\" >precision</th>\n",
       "      <th id=\"T_0b06f_level0_col1\" class=\"col_heading level0 col1\" >recall</th>\n",
       "      <th id=\"T_0b06f_level0_col2\" class=\"col_heading level0 col2\" >f1-score</th>\n",
       "      <th id=\"T_0b06f_level0_col3\" class=\"col_heading level0 col3\" >support</th>\n",
       "    </tr>\n",
       "  </thead>\n",
       "  <tbody>\n",
       "    <tr>\n",
       "      <th id=\"T_0b06f_level0_row0\" class=\"row_heading level0 row0\" >0</th>\n",
       "      <td id=\"T_0b06f_row0_col0\" class=\"data row0 col0\" >0.850000</td>\n",
       "      <td id=\"T_0b06f_row0_col1\" class=\"data row0 col1\" >0.700000</td>\n",
       "      <td id=\"T_0b06f_row0_col2\" class=\"data row0 col2\" >0.767742</td>\n",
       "      <td id=\"T_0b06f_row0_col3\" class=\"data row0 col3\" >170.000000</td>\n",
       "    </tr>\n",
       "    <tr>\n",
       "      <th id=\"T_0b06f_level0_row1\" class=\"row_heading level0 row1\" >1</th>\n",
       "      <td id=\"T_0b06f_row1_col0\" class=\"data row1 col0\" >0.420455</td>\n",
       "      <td id=\"T_0b06f_row1_col1\" class=\"data row1 col1\" >0.637931</td>\n",
       "      <td id=\"T_0b06f_row1_col2\" class=\"data row1 col2\" >0.506849</td>\n",
       "      <td id=\"T_0b06f_row1_col3\" class=\"data row1 col3\" >58.000000</td>\n",
       "    </tr>\n",
       "    <tr>\n",
       "      <th id=\"T_0b06f_level0_row2\" class=\"row_heading level0 row2\" >accuracy</th>\n",
       "      <td id=\"T_0b06f_row2_col0\" class=\"data row2 col0\" >0.684211</td>\n",
       "      <td id=\"T_0b06f_row2_col1\" class=\"data row2 col1\" >0.684211</td>\n",
       "      <td id=\"T_0b06f_row2_col2\" class=\"data row2 col2\" >0.684211</td>\n",
       "      <td id=\"T_0b06f_row2_col3\" class=\"data row2 col3\" >0.684211</td>\n",
       "    </tr>\n",
       "    <tr>\n",
       "      <th id=\"T_0b06f_level0_row3\" class=\"row_heading level0 row3\" >macro avg</th>\n",
       "      <td id=\"T_0b06f_row3_col0\" class=\"data row3 col0\" >0.635227</td>\n",
       "      <td id=\"T_0b06f_row3_col1\" class=\"data row3 col1\" >0.668966</td>\n",
       "      <td id=\"T_0b06f_row3_col2\" class=\"data row3 col2\" >0.637296</td>\n",
       "      <td id=\"T_0b06f_row3_col3\" class=\"data row3 col3\" >228.000000</td>\n",
       "    </tr>\n",
       "    <tr>\n",
       "      <th id=\"T_0b06f_level0_row4\" class=\"row_heading level0 row4\" >weighted avg</th>\n",
       "      <td id=\"T_0b06f_row4_col0\" class=\"data row4 col0\" >0.740730</td>\n",
       "      <td id=\"T_0b06f_row4_col1\" class=\"data row4 col1\" >0.684211</td>\n",
       "      <td id=\"T_0b06f_row4_col2\" class=\"data row4 col2\" >0.701375</td>\n",
       "      <td id=\"T_0b06f_row4_col3\" class=\"data row4 col3\" >228.000000</td>\n",
       "    </tr>\n",
       "  </tbody>\n",
       "</table>\n"
      ],
      "text/plain": [
       "<pandas.io.formats.style.Styler at 0x1473c8a90>"
      ]
     },
     "metadata": {},
     "output_type": "display_data"
    }
   ],
   "source": [
    "to_be_tuned = {\n",
    "    'estimator__num_leaves'       : [3, 5, 7],\n",
    "    'estimator__max_depth'        : [2], # 3\n",
    "    'estimator__learning_rate'    : [0.01, 0.1, 0.3],\n",
    "    'estimator__min_child_samples': [100, 200],\n",
    "    'estimator__subsample'        : [0.3, 0.5],\n",
    "    'estimator__colsample_bytree' : [0.3, 0.5],\n",
    "    'estimator__reg_alpha'        : [9],\n",
    "    'estimator__reg_lambda'       : [0.4],\n",
    "    'oversampler__n_neighbors'    : [2,3,4],\n",
    "}\n",
    "\n",
    "pipe = ImbPipeline([\n",
    "        ('noiseremover', TomekLinks(sampling_strategy='auto')),\n",
    "        ('undersampler', RandomUnderSampler(sampling_strategy={0:500}, random_state=42)),\n",
    "        ('scaler',       StandardScaler()),\n",
    "        ('oversampler',  ADASYN(sampling_strategy='auto', random_state=42)),\n",
    "        ('estimator',    LGBMClassifier(random_state=42, objective='binary', metric='binary_logloss', boosting_type='gbdt', force_col_wise=True, verbose=-1))\n",
    "])\n",
    "\n",
    "tuner = GridSearchCV(\n",
    "        estimator  = pipe,\n",
    "        param_grid = to_be_tuned,\n",
    "        scoring    = make_scorer(recall_score, average='macro'),\n",
    "        n_jobs     = -1,\n",
    "        cv         = StratifiedKFold(n_splits=10, shuffle=True, random_state=42),\n",
    "        verbose    =  1,\n",
    ")\n",
    "\n",
    "tuner.fit(\n",
    "        X_train[features_005],\n",
    "        y_train\n",
    ")\n",
    "\n",
    "print(f\"Best parameters: {tuner.best_params_}\")\n",
    "lgbm_005 = tuner.best_estimator_\n",
    "\n",
    "# Evaluation:\n",
    "classification_reports(\n",
    "    model   = lgbm_005,\n",
    "    X_train = X_train[features_005],\n",
    "    y_train = y_train,\n",
    "    X_test  = X_test[features_005],\n",
    "    y_test  = y_test\n",
    ")"
   ]
  },
  {
   "cell_type": "markdown",
   "metadata": {},
   "source": [
    "- XGBoost:"
   ]
  },
  {
   "cell_type": "code",
   "execution_count": 21,
   "metadata": {},
   "outputs": [
    {
     "name": "stdout",
     "output_type": "stream",
     "text": [
      "Fitting 10 folds for each of 36 candidates, totalling 360 fits\n",
      "Best parameters: {'estimator__colsample_bytree': 0.5, 'estimator__learning_rate': 0.3, 'estimator__max_depth': 3, 'estimator__n_estimators': 11, 'estimator__reg_alpha': 10, 'estimator__reg_lambda': 0.3, 'oversampler__n_neighbors': 3}\n",
      "Classification Reports :\n",
      "__________________________________________________________________\n",
      "\n",
      "- Train Set:\n",
      "~~~~~~~~~~~~~~~~~~~~~~~~~~~~~~~~~~~~~~~~~~~~~~~~~~~~~~~~~~~\n"
     ]
    },
    {
     "data": {
      "text/html": [
       "<style type=\"text/css\">\n",
       "#T_9c45b_row0_col0 {\n",
       "  background-color: #9f3303;\n",
       "  color: #f1f1f1;\n",
       "}\n",
       "#T_9c45b_row0_col1 {\n",
       "  background-color: #e15407;\n",
       "  color: #f1f1f1;\n",
       "}\n",
       "#T_9c45b_row0_col2 {\n",
       "  background-color: #c84202;\n",
       "  color: #f1f1f1;\n",
       "}\n",
       "#T_9c45b_row1_col0 {\n",
       "  background-color: #fd9649;\n",
       "  color: #000000;\n",
       "}\n",
       "#T_9c45b_row1_col1 {\n",
       "  background-color: #d54601;\n",
       "  color: #f1f1f1;\n",
       "}\n",
       "#T_9c45b_row1_col2 {\n",
       "  background-color: #f67723;\n",
       "  color: #f1f1f1;\n",
       "}\n",
       "#T_9c45b_row2_col0, #T_9c45b_row2_col1, #T_9c45b_row2_col2 {\n",
       "  background-color: #de5005;\n",
       "  color: #f1f1f1;\n",
       "}\n",
       "</style>\n",
       "<table id=\"T_9c45b\">\n",
       "  <thead>\n",
       "    <tr>\n",
       "      <th class=\"blank level0\" >&nbsp;</th>\n",
       "      <th id=\"T_9c45b_level0_col0\" class=\"col_heading level0 col0\" >precision</th>\n",
       "      <th id=\"T_9c45b_level0_col1\" class=\"col_heading level0 col1\" >recall</th>\n",
       "      <th id=\"T_9c45b_level0_col2\" class=\"col_heading level0 col2\" >f1-score</th>\n",
       "      <th id=\"T_9c45b_level0_col3\" class=\"col_heading level0 col3\" >support</th>\n",
       "    </tr>\n",
       "  </thead>\n",
       "  <tbody>\n",
       "    <tr>\n",
       "      <th id=\"T_9c45b_level0_row0\" class=\"row_heading level0 row0\" >0</th>\n",
       "      <td id=\"T_9c45b_row0_col0\" class=\"data row0 col0\" >0.897388</td>\n",
       "      <td id=\"T_9c45b_row0_col1\" class=\"data row0 col1\" >0.705279</td>\n",
       "      <td id=\"T_9c45b_row0_col2\" class=\"data row0 col2\" >0.789819</td>\n",
       "      <td id=\"T_9c45b_row0_col3\" class=\"data row0 col3\" >682.000000</td>\n",
       "    </tr>\n",
       "    <tr>\n",
       "      <th id=\"T_9c45b_level0_row1\" class=\"row_heading level0 row1\" >1</th>\n",
       "      <td id=\"T_9c45b_row1_col0\" class=\"data row1 col0\" >0.465426</td>\n",
       "      <td id=\"T_9c45b_row1_col1\" class=\"data row1 col1\" >0.760870</td>\n",
       "      <td id=\"T_9c45b_row1_col2\" class=\"data row1 col2\" >0.577558</td>\n",
       "      <td id=\"T_9c45b_row1_col3\" class=\"data row1 col3\" >230.000000</td>\n",
       "    </tr>\n",
       "    <tr>\n",
       "      <th id=\"T_9c45b_level0_row2\" class=\"row_heading level0 row2\" >accuracy</th>\n",
       "      <td id=\"T_9c45b_row2_col0\" class=\"data row2 col0\" >0.719298</td>\n",
       "      <td id=\"T_9c45b_row2_col1\" class=\"data row2 col1\" >0.719298</td>\n",
       "      <td id=\"T_9c45b_row2_col2\" class=\"data row2 col2\" >0.719298</td>\n",
       "      <td id=\"T_9c45b_row2_col3\" class=\"data row2 col3\" >0.719298</td>\n",
       "    </tr>\n",
       "    <tr>\n",
       "      <th id=\"T_9c45b_level0_row3\" class=\"row_heading level0 row3\" >macro avg</th>\n",
       "      <td id=\"T_9c45b_row3_col0\" class=\"data row3 col0\" >0.681407</td>\n",
       "      <td id=\"T_9c45b_row3_col1\" class=\"data row3 col1\" >0.733074</td>\n",
       "      <td id=\"T_9c45b_row3_col2\" class=\"data row3 col2\" >0.683689</td>\n",
       "      <td id=\"T_9c45b_row3_col3\" class=\"data row3 col3\" >912.000000</td>\n",
       "    </tr>\n",
       "    <tr>\n",
       "      <th id=\"T_9c45b_level0_row4\" class=\"row_heading level0 row4\" >weighted avg</th>\n",
       "      <td id=\"T_9c45b_row4_col0\" class=\"data row4 col0\" >0.788450</td>\n",
       "      <td id=\"T_9c45b_row4_col1\" class=\"data row4 col1\" >0.719298</td>\n",
       "      <td id=\"T_9c45b_row4_col2\" class=\"data row4 col2\" >0.736288</td>\n",
       "      <td id=\"T_9c45b_row4_col3\" class=\"data row4 col3\" >912.000000</td>\n",
       "    </tr>\n",
       "  </tbody>\n",
       "</table>\n"
      ],
      "text/plain": [
       "<pandas.io.formats.style.Styler at 0x146e88b50>"
      ]
     },
     "metadata": {},
     "output_type": "display_data"
    },
    {
     "name": "stdout",
     "output_type": "stream",
     "text": [
      "\n",
      "- Test Set:\n",
      "~~~~~~~~~~~~~~~~~~~~~~~~~~~~~~~~~~~~~~~~~~~~~~~~~~~~~~~~~~~\n"
     ]
    },
    {
     "data": {
      "text/html": [
       "<style type=\"text/css\">\n",
       "#T_124fb_row0_col0 {\n",
       "  background-color: #b33b02;\n",
       "  color: #f1f1f1;\n",
       "}\n",
       "#T_124fb_row0_col1 {\n",
       "  background-color: #e45709;\n",
       "  color: #f1f1f1;\n",
       "}\n",
       "#T_124fb_row0_col2 {\n",
       "  background-color: #d54601;\n",
       "  color: #f1f1f1;\n",
       "}\n",
       "#T_124fb_row1_col0 {\n",
       "  background-color: #fda55f;\n",
       "  color: #000000;\n",
       "}\n",
       "#T_124fb_row1_col1 {\n",
       "  background-color: #f26b15;\n",
       "  color: #f1f1f1;\n",
       "}\n",
       "#T_124fb_row1_col2 {\n",
       "  background-color: #fd8f3e;\n",
       "  color: #f1f1f1;\n",
       "}\n",
       "#T_124fb_row2_col0, #T_124fb_row2_col1, #T_124fb_row2_col2 {\n",
       "  background-color: #e75c0c;\n",
       "  color: #f1f1f1;\n",
       "}\n",
       "</style>\n",
       "<table id=\"T_124fb\">\n",
       "  <thead>\n",
       "    <tr>\n",
       "      <th class=\"blank level0\" >&nbsp;</th>\n",
       "      <th id=\"T_124fb_level0_col0\" class=\"col_heading level0 col0\" >precision</th>\n",
       "      <th id=\"T_124fb_level0_col1\" class=\"col_heading level0 col1\" >recall</th>\n",
       "      <th id=\"T_124fb_level0_col2\" class=\"col_heading level0 col2\" >f1-score</th>\n",
       "      <th id=\"T_124fb_level0_col3\" class=\"col_heading level0 col3\" >support</th>\n",
       "    </tr>\n",
       "  </thead>\n",
       "  <tbody>\n",
       "    <tr>\n",
       "      <th id=\"T_124fb_level0_row0\" class=\"row_heading level0 row0\" >0</th>\n",
       "      <td id=\"T_124fb_row0_col0\" class=\"data row0 col0\" >0.842857</td>\n",
       "      <td id=\"T_124fb_row0_col1\" class=\"data row0 col1\" >0.694118</td>\n",
       "      <td id=\"T_124fb_row0_col2\" class=\"data row0 col2\" >0.761290</td>\n",
       "      <td id=\"T_124fb_row0_col3\" class=\"data row0 col3\" >170.000000</td>\n",
       "    </tr>\n",
       "    <tr>\n",
       "      <th id=\"T_124fb_level0_row1\" class=\"row_heading level0 row1\" >1</th>\n",
       "      <td id=\"T_124fb_row1_col0\" class=\"data row1 col0\" >0.409091</td>\n",
       "      <td id=\"T_124fb_row1_col1\" class=\"data row1 col1\" >0.620690</td>\n",
       "      <td id=\"T_124fb_row1_col2\" class=\"data row1 col2\" >0.493151</td>\n",
       "      <td id=\"T_124fb_row1_col3\" class=\"data row1 col3\" >58.000000</td>\n",
       "    </tr>\n",
       "    <tr>\n",
       "      <th id=\"T_124fb_level0_row2\" class=\"row_heading level0 row2\" >accuracy</th>\n",
       "      <td id=\"T_124fb_row2_col0\" class=\"data row2 col0\" >0.675439</td>\n",
       "      <td id=\"T_124fb_row2_col1\" class=\"data row2 col1\" >0.675439</td>\n",
       "      <td id=\"T_124fb_row2_col2\" class=\"data row2 col2\" >0.675439</td>\n",
       "      <td id=\"T_124fb_row2_col3\" class=\"data row2 col3\" >0.675439</td>\n",
       "    </tr>\n",
       "    <tr>\n",
       "      <th id=\"T_124fb_level0_row3\" class=\"row_heading level0 row3\" >macro avg</th>\n",
       "      <td id=\"T_124fb_row3_col0\" class=\"data row3 col0\" >0.625974</td>\n",
       "      <td id=\"T_124fb_row3_col1\" class=\"data row3 col1\" >0.657404</td>\n",
       "      <td id=\"T_124fb_row3_col2\" class=\"data row3 col2\" >0.627221</td>\n",
       "      <td id=\"T_124fb_row3_col3\" class=\"data row3 col3\" >228.000000</td>\n",
       "    </tr>\n",
       "    <tr>\n",
       "      <th id=\"T_124fb_level0_row4\" class=\"row_heading level0 row4\" >weighted avg</th>\n",
       "      <td id=\"T_124fb_row4_col0\" class=\"data row4 col0\" >0.732513</td>\n",
       "      <td id=\"T_124fb_row4_col1\" class=\"data row4 col1\" >0.675439</td>\n",
       "      <td id=\"T_124fb_row4_col2\" class=\"data row4 col2\" >0.693079</td>\n",
       "      <td id=\"T_124fb_row4_col3\" class=\"data row4 col3\" >228.000000</td>\n",
       "    </tr>\n",
       "  </tbody>\n",
       "</table>\n"
      ],
      "text/plain": [
       "<pandas.io.formats.style.Styler at 0x146e28be0>"
      ]
     },
     "metadata": {},
     "output_type": "display_data"
    }
   ],
   "source": [
    "from xgboost import XGBClassifier\n",
    "\n",
    "to_be_tuned = {\n",
    "    'oversampler__n_neighbors': [2,3],\n",
    "    'estimator__n_estimators': [11],\n",
    "    'estimator__max_depth': [2,3],\n",
    "    'estimator__reg_alpha': [10], #10\n",
    "    'estimator__reg_lambda': [0.3],\n",
    "    'estimator__learning_rate': [0.01, 0.1, 0.3],\n",
    "    'estimator__colsample_bytree': [0.5, 0.6, 0.84],\n",
    "}\n",
    "\n",
    "pipe = ImbPipeline([\n",
    "        ('undersampler', RandomUnderSampler(sampling_strategy={0:500}, random_state=42)),\n",
    "        ('scaler',       StandardScaler()),\n",
    "        ('oversampler',  ADASYN(sampling_strategy='auto', random_state=42)),\n",
    "        ('estimator',    XGBClassifier(random_state=42))\n",
    "])\n",
    "\n",
    "\n",
    "tuner = GridSearchCV(\n",
    "        estimator  = pipe,\n",
    "        param_grid = to_be_tuned,\n",
    "        scoring    = make_scorer(recall_score, average='macro'),\n",
    "        n_jobs     = -1,\n",
    "        cv         = StratifiedKFold(n_splits=10, shuffle=True, random_state=42),\n",
    "        verbose    =  1,\n",
    ")\n",
    "\n",
    "tuner.fit(\n",
    "        X_train[features_005],\n",
    "        y_train\n",
    ")\n",
    "\n",
    "print(f\"Best parameters: {tuner.best_params_}\")\n",
    "xgb_005 = tuner.best_estimator_\n",
    "\n",
    "# Evaluation:\n",
    "classification_reports(\n",
    "    model   = xgb_005,\n",
    "    X_train = X_train[features_005],\n",
    "    y_train = y_train,\n",
    "    X_test  = X_test[features_005],\n",
    "    y_test  = y_test\n",
    ")"
   ]
  },
  {
   "cell_type": "markdown",
   "metadata": {},
   "source": [
    "## 4) **Evaluate Models on varying Data Splits**\n",
    "---"
   ]
  },
  {
   "cell_type": "code",
   "execution_count": 24,
   "metadata": {},
   "outputs": [],
   "source": [
    "# import recall\n",
    "from sklearn.metrics import recall_score, make_scorer"
   ]
  },
  {
   "cell_type": "code",
   "execution_count": 23,
   "metadata": {},
   "outputs": [
    {
     "data": {
      "image/png": "[encoded data removed]",
      "text/plain": [
       "<Figure size 1000x500 with 1 Axes>"
      ]
     },
     "metadata": {},
     "output_type": "display_data"
    }
   ],
   "source": [
    "models_dict = {\n",
    "        'Dummy' :  dummy,\n",
    "        'LogReg':  logreg_005,\n",
    "        'SVC':    svc_005,\n",
    "        'RForest': rf_005,\n",
    "        'XGBoost': xgb_005,\n",
    "        'LightGBM': lgbm_005\n",
    "}\n",
    "\n",
    "model_preds_dict = {}\n",
    "model_score_stats = []\n",
    "\n",
    "recall_macro_scorer = make_scorer(recall_score, average='macro')\n",
    "\n",
    "for name, model in models_dict.items():\n",
    "\n",
    "    X_ = X[features_005] if name != 'Dummy' else X\n",
    "    y_ = y\n",
    "\n",
    "    cv_metric_scores = cross_val_score(\n",
    "                                    estimator    = model,\n",
    "                                    X            = X_,\n",
    "                                    y            = y_,\n",
    "                                    n_jobs       = -1,\n",
    "                                    cv           = RepeatedStratifiedKFold(n_splits=10, n_repeats=10, random_state = 42),\n",
    "                                    scoring      = recall_macro_scorer\n",
    "    )\n",
    "    model_preds_dict[name] = cv_metric_scores\n",
    "    model_score_stats.append((name, cv_metric_scores.mean(), cv_metric_scores.std()))\n",
    "\n",
    "model_preds_df = pd.DataFrame(model_preds_dict)\n",
    "vals, names, xs = [],[],[]\n",
    "for i, col in enumerate(model_preds_df.columns):\n",
    "    vals.append(model_preds_df[col].values)\n",
    "    names.append(col)\n",
    "    xs.append(np.random.normal(i + 1, 0.075, model_preds_df[col].values.shape[0])) # adds jitter to the data points - can be adjusted (i + 1, 0.04)\n",
    "\n",
    "plt.figure(figsize=(10, 5))\n",
    "plt.boxplot(vals, labels=names, medianprops={'color':'black'}, showfliers=False)\n",
    "palette2 = sns.color_palette('pastel', n_colors=len(names))\n",
    "for x, val, c in zip(xs, vals, palette2):\n",
    "    plt.scatter(x, val, alpha=0.75, color=c)\n",
    "\n",
    "#plt.title('Model Performance Across Varying Data Splits\\n(MWU α < 0.05)', weight='bold')\n",
    "plt.ylabel('Macro Avg Recall', weight='bold', fontsize=16)\n",
    "plt.xlabel('Model', weight='bold', fontsize=16)\n",
    "plt.axhline(y=0.5, color='#ff3300', linestyle='-.', label='Chance')\n",
    "# Manually set y-axis ticks from 0.35 to 1, in steps of 0.05\n",
    "plt.yticks(np.arange(0.35, 0.9, 0.05), fontsize=11.25)\n",
    "# include mean and std in xticklabels:\n",
    "xticklabels = [f'{name}\\nmean={mean:0.3f}\\n+/- {std:0.3f} (1 s.d.)' for name, mean, std in model_score_stats]\n",
    "plt.xticks(ticks=np.arange(1, len(names)+1), labels=xticklabels, fontsize=11.25)\n",
    "plt.legend(loc='upper left', fontsize=14)\n",
    "plt.show();"
   ]
  },
  {
   "cell_type": "markdown",
   "metadata": {},
   "source": [
    "## 5) **Global Shapley Values**\n",
    "---\n",
    "- >`Select model with highest mean in performance metric and least variability!`"
   ]
  },
  {
   "cell_type": "code",
   "execution_count": 55,
   "metadata": {},
   "outputs": [
    {
     "data": {
      "image/png": "[encoded data removed]",
      "text/plain": [
       "<Figure size 800x1190 with 1 Axes>"
      ]
     },
     "metadata": {},
     "output_type": "display_data"
    }
   ],
   "source": [
    "import shap\n",
    "\n",
    "model = rf_005.named_steps['estimator']\n",
    "\n",
    "shap_values = shap.TreeExplainer(model).shap_values(X_train[features_005])\n",
    "\n",
    "shap.summary_plot(shap_values, X_train[features_005], plot_type=\"bar\", show=True, max_display=14)\n"
   ]
  },
  {
   "cell_type": "code",
   "execution_count": 17,
   "metadata": {},
   "outputs": [
    {
     "data": {
      "image/png": "[encoded data removed]",
      "text/plain": [
       "<Figure size 800x710 with 1 Axes>"
      ]
     },
     "metadata": {},
     "output_type": "display_data"
    }
   ],
   "source": [
    "model = logreg_005.named_steps['estimator']\n",
    "\n",
    "shap_values = shap.LinearExplainer(model, X_train[features_005]).shap_values(X_train[features_005])\n",
    "\n",
    "shap.summary_plot(shap_values, X_train[features_005], plot_type=\"bar\", show=True, max_display=14)"
   ]
  },
  {
   "cell_type": "code",
   "execution_count": 18,
   "metadata": {},
   "outputs": [
    {
     "name": "stderr",
     "output_type": "stream",
     "text": [
      "LightGBM binary classifier with TreeExplainer shap values output has changed to a list of ndarray\n"
     ]
    },
    {
     "data": {
      "image/png": "[encoded data removed]",
      "text/plain": [
       "<Figure size 800x710 with 1 Axes>"
      ]
     },
     "metadata": {},
     "output_type": "display_data"
    }
   ],
   "source": [
    "model = lgbm_005.named_steps['estimator']\n",
    "\n",
    "shap_values = shap.TreeExplainer(model).shap_values(X_train[features_005])\n",
    "\n",
    "shap.summary_plot(shap_values, X_train[features_005], plot_type=\"bar\", show=True, max_display=14)"
   ]
  },
  {
   "cell_type": "code",
   "execution_count": 56,
   "metadata": {},
   "outputs": [
    {
     "data": {
      "text/html": [
       "<style>#sk-container-id-2 {color: black;}#sk-container-id-2 pre{padding: 0;}#sk-container-id-2 div.sk-toggleable {background-color: white;}#sk-container-id-2 label.sk-toggleable__label {cursor: pointer;display: block;width: 100%;margin-bottom: 0;padding: 0.3em;box-sizing: border-box;text-align: center;}#sk-container-id-2 label.sk-toggleable__label-arrow:before {content: \"▸\";float: left;margin-right: 0.25em;color: #696969;}#sk-container-id-2 label.sk-toggleable__label-arrow:hover:before {color: black;}#sk-container-id-2 div.sk-estimator:hover label.sk-toggleable__label-arrow:before {color: black;}#sk-container-id-2 div.sk-toggleable__content {max-height: 0;max-width: 0;overflow: hidden;text-align: left;background-color: #f0f8ff;}#sk-container-id-2 div.sk-toggleable__content pre {margin: 0.2em;color: black;border-radius: 0.25em;background-color: #f0f8ff;}#sk-container-id-2 input.sk-toggleable__control:checked~div.sk-toggleable__content {max-height: 200px;max-width: 100%;overflow: auto;}#sk-container-id-2 input.sk-toggleable__control:checked~label.sk-toggleable__label-arrow:before {content: \"▾\";}#sk-container-id-2 div.sk-estimator input.sk-toggleable__control:checked~label.sk-toggleable__label {background-color: #d4ebff;}#sk-container-id-2 div.sk-label input.sk-toggleable__control:checked~label.sk-toggleable__label {background-color: #d4ebff;}#sk-container-id-2 input.sk-hidden--visually {border: 0;clip: rect(1px 1px 1px 1px);clip: rect(1px, 1px, 1px, 1px);height: 1px;margin: -1px;overflow: hidden;padding: 0;position: absolute;width: 1px;}#sk-container-id-2 div.sk-estimator {font-family: monospace;background-color: #f0f8ff;border: 1px dotted black;border-radius: 0.25em;box-sizing: border-box;margin-bottom: 0.5em;}#sk-container-id-2 div.sk-estimator:hover {background-color: #d4ebff;}#sk-container-id-2 div.sk-parallel-item::after {content: \"\";width: 100%;border-bottom: 1px solid gray;flex-grow: 1;}#sk-container-id-2 div.sk-label:hover label.sk-toggleable__label {background-color: #d4ebff;}#sk-container-id-2 div.sk-serial::before {content: \"\";position: absolute;border-left: 1px solid gray;box-sizing: border-box;top: 0;bottom: 0;left: 50%;z-index: 0;}#sk-container-id-2 div.sk-serial {display: flex;flex-direction: column;align-items: center;background-color: white;padding-right: 0.2em;padding-left: 0.2em;position: relative;}#sk-container-id-2 div.sk-item {position: relative;z-index: 1;}#sk-container-id-2 div.sk-parallel {display: flex;align-items: stretch;justify-content: center;background-color: white;position: relative;}#sk-container-id-2 div.sk-item::before, #sk-container-id-2 div.sk-parallel-item::before {content: \"\";position: absolute;border-left: 1px solid gray;box-sizing: border-box;top: 0;bottom: 0;left: 50%;z-index: -1;}#sk-container-id-2 div.sk-parallel-item {display: flex;flex-direction: column;z-index: 1;position: relative;background-color: white;}#sk-container-id-2 div.sk-parallel-item:first-child::after {align-self: flex-end;width: 50%;}#sk-container-id-2 div.sk-parallel-item:last-child::after {align-self: flex-start;width: 50%;}#sk-container-id-2 div.sk-parallel-item:only-child::after {width: 0;}#sk-container-id-2 div.sk-dashed-wrapped {border: 1px dashed gray;margin: 0 0.4em 0.5em 0.4em;box-sizing: border-box;padding-bottom: 0.4em;background-color: white;}#sk-container-id-2 div.sk-label label {font-family: monospace;font-weight: bold;display: inline-block;line-height: 1.2em;}#sk-container-id-2 div.sk-label-container {text-align: center;}#sk-container-id-2 div.sk-container {/* jupyter's `normalize.less` sets `[hidden] { display: none; }` but bootstrap.min.css set `[hidden] { display: none !important; }` so we also need the `!important` here to be able to override the default hidden behavior on the sphinx rendered scikit-learn.org. See: https://github.com/scikit-learn/scikit-learn/issues/21755 */display: inline-block !important;position: relative;}#sk-container-id-2 div.sk-text-repr-fallback {display: none;}</style><div id=\"sk-container-id-2\" class=\"sk-top-container\"><div class=\"sk-text-repr-fallback\"><pre>Pipeline(steps=[(&#x27;scaler&#x27;, StandardScaler()),\n",
       "                (&#x27;svc&#x27;,\n",
       "                 SVC(C=0.1, decision_function_shape=&#x27;ovo&#x27;, degree=2,\n",
       "                     gamma=&#x27;auto&#x27;, kernel=&#x27;sigmoid&#x27;, probability=True,\n",
       "                     random_state=42))])</pre><b>In a Jupyter environment, please rerun this cell to show the HTML representation or trust the notebook. <br />On GitHub, the HTML representation is unable to render, please try loading this page with nbviewer.org.</b></div><div class=\"sk-container\" hidden><div class=\"sk-item sk-dashed-wrapped\"><div class=\"sk-label-container\"><div class=\"sk-label sk-toggleable\"><input class=\"sk-toggleable__control sk-hidden--visually\" id=\"sk-estimator-id-4\" type=\"checkbox\" ><label for=\"sk-estimator-id-4\" class=\"sk-toggleable__label sk-toggleable__label-arrow\">Pipeline</label><div class=\"sk-toggleable__content\"><pre>Pipeline(steps=[(&#x27;scaler&#x27;, StandardScaler()),\n",
       "                (&#x27;svc&#x27;,\n",
       "                 SVC(C=0.1, decision_function_shape=&#x27;ovo&#x27;, degree=2,\n",
       "                     gamma=&#x27;auto&#x27;, kernel=&#x27;sigmoid&#x27;, probability=True,\n",
       "                     random_state=42))])</pre></div></div></div><div class=\"sk-serial\"><div class=\"sk-item\"><div class=\"sk-estimator sk-toggleable\"><input class=\"sk-toggleable__control sk-hidden--visually\" id=\"sk-estimator-id-5\" type=\"checkbox\" ><label for=\"sk-estimator-id-5\" class=\"sk-toggleable__label sk-toggleable__label-arrow\">StandardScaler</label><div class=\"sk-toggleable__content\"><pre>StandardScaler()</pre></div></div></div><div class=\"sk-item\"><div class=\"sk-estimator sk-toggleable\"><input class=\"sk-toggleable__control sk-hidden--visually\" id=\"sk-estimator-id-6\" type=\"checkbox\" ><label for=\"sk-estimator-id-6\" class=\"sk-toggleable__label sk-toggleable__label-arrow\">SVC</label><div class=\"sk-toggleable__content\"><pre>SVC(C=0.1, decision_function_shape=&#x27;ovo&#x27;, degree=2, gamma=&#x27;auto&#x27;,\n",
       "    kernel=&#x27;sigmoid&#x27;, probability=True, random_state=42)</pre></div></div></div></div></div></div></div>"
      ],
      "text/plain": [
       "Pipeline(steps=[('scaler', StandardScaler()),\n",
       "                ('svc',\n",
       "                 SVC(C=0.1, decision_function_shape='ovo', degree=2,\n",
       "                     gamma='auto', kernel='sigmoid', probability=True,\n",
       "                     random_state=42))])"
      ]
     },
     "execution_count": 56,
     "metadata": {},
     "output_type": "execute_result"
    }
   ],
   "source": [
    "# import sklearn pipeline form imblearn\n",
    "from imblearn.pipeline import Pipeline as ImbPipeline\n",
    "\n",
    "params = {'C': 0.1, 'decision_function_shape': 'ovo', 'degree': 2, 'gamma': 'auto', 'kernel': 'sigmoid', 'shrinking': True, }\n",
    "\n",
    "svc_pipe = ImbPipeline([\n",
    "        ('scaler', StandardScaler()),\n",
    "        ('svc',    SVC(random_state=42, probability=True, **params))\n",
    "])\n",
    "\n",
    "svc_pipe"
   ]
  },
  {
   "cell_type": "code",
   "execution_count": 57,
   "metadata": {},
   "outputs": [
    {
     "name": "stdout",
     "output_type": "stream",
     "text": [
      "[learning_curve] Training set sizes: [ 82 164 246 328 410 492 574 656 738 820]\n"
     ]
    },
    {
     "name": "stderr",
     "output_type": "stream",
     "text": [
      "[Parallel(n_jobs=-1)]: Using backend LokyBackend with 8 concurrent workers.\n",
      "[Parallel(n_jobs=-1)]: Done 100 out of 100 | elapsed:   10.4s finished\n"
     ]
    },
    {
     "data": {
      "image/png": "[encoded data removed]",
      "text/plain": [
       "<Figure size 700x500 with 1 Axes>"
      ]
     },
     "metadata": {},
     "output_type": "display_data"
    }
   ],
   "source": [
    "# import learning curve\n",
    "from sklearn.model_selection import learning_curve\n",
    "from sklearn.metrics import make_scorer, recall_score, balanced_accuracy_score\n",
    "\n",
    "# Create CV training and test scores for various training set sizes for XGBoost\n",
    "\n",
    "train_sizes, train_scores, test_scores = learning_curve(\n",
    "        estimator   = svc_pipe,\n",
    "        X           = X_train[features_005],\n",
    "        y           = y_train,\n",
    "        train_sizes = np.linspace(0.1, 1.0, 10),\n",
    "        cv          = StratifiedKFold(n_splits=10, shuffle=True, random_state=42),\n",
    "        scoring     = make_scorer(recall_score, average='macro'),\n",
    "        n_jobs      = -1,\n",
    "        verbose     = 1\n",
    ")\n",
    "\n",
    "# Create means and standard deviations of training set scores\n",
    "train_mean = np.mean(train_scores, axis=1)\n",
    "train_std  = np.std(train_scores, axis=1)\n",
    "\n",
    "# Create means and standard deviations of test set scores\n",
    "test_mean = np.mean(test_scores, axis=1)\n",
    "test_std  = np.std(test_scores, axis=1)\n",
    "\n",
    "# Draw lines\n",
    "plt.subplots(figsize=(7, 5))\n",
    "plt.plot(train_sizes, train_mean, marker='o', linestyle='-', color=\"blue\",  label=\"Training score\")\n",
    "plt.plot(train_sizes, test_mean, marker='o', linestyle='-', color=\"red\", label=\"Cross-validation score\")\n",
    "\n",
    "# Draw bands\n",
    "plt.fill_between(train_sizes, train_mean - train_std, train_mean + train_std, color=\"dodgerblue\", alpha=0.2)\n",
    "plt.fill_between(train_sizes, test_mean - test_std, test_mean + test_std, color=\"orangered\", alpha=0.2)\n",
    "\n",
    "# Create plot\n",
    "plt.title(\"Learning Curve\", weight='bold')\n",
    "plt.xlabel(\"Training Set Size\", weight='bold')\n",
    "plt.xlim([train_sizes[0], train_sizes[-1]])\n",
    "\n",
    "plt.ylabel(\"Macro Average Recall\", weight='bold')\n",
    "plt.yticks(np.arange(0.4, 1.0, 0.05))\n",
    "plt.legend(loc=\"best\")\n",
    "plt.tight_layout()\n",
    "plt.show();\n"
   ]
  },
  {
   "cell_type": "code",
   "execution_count": 37,
   "metadata": {},
   "outputs": [
    {
     "data": {
      "image/png": "[encoded data removed]",
      "text/plain": [
       "<Figure size 1000x600 with 1 Axes>"
      ]
     },
     "metadata": {},
     "output_type": "display_data"
    }
   ],
   "source": [
    "import pandas as pd\n",
    "import seaborn as sns\n",
    "import matplotlib.pyplot as plt\n",
    "\n",
    "# Prepare the data for Seaborn\n",
    "# Concatenate training and test scores, then melt the DataFrame to long format\n",
    "df_train = pd.DataFrame({'Train Size': train_sizes, 'Score': train_mean, 'Set': 'Training'})\n",
    "df_test = pd.DataFrame({'Train Size': train_sizes, 'Score': test_mean, 'Set': 'Cross-Validation'})\n",
    "df = pd.concat([df_train, df_test])\n",
    "df_melted = df.melt(id_vars=['Train Size', 'Set'], value_vars=['Score'])\n",
    "\n",
    "# Use Seaborn to plot the learning curve\n",
    "plt.figure(figsize=(10, 6))\n",
    "sns.lineplot(data=df_melted, x='Train Size', y='value', hue='Set', style='Set', markers=True, dashes=False)\n",
    "\n",
    "# Set plot details\n",
    "plt.title('Learning Curve', weight='bold')\n",
    "plt.xlabel('Training Set Size', weight='bold')\n",
    "plt.ylabel('Macro Average Recall', weight='bold')\n",
    "plt.legend(title='Set', title_fontsize='13', loc='best')\n",
    "plt.xlim([train_sizes[0], train_sizes[-1]])\n",
    "\n",
    "plt.grid(True)\n",
    "plt.tight_layout()\n",
    "plt.show()\n"
   ]
  },
  {
   "cell_type": "code",
   "execution_count": 51,
   "metadata": {},
   "outputs": [
    {
     "data": {
      "image/png": "[encoded data removed]",
      "text/plain": [
       "<Figure size 640x480 with 4 Axes>"
      ]
     },
     "metadata": {},
     "output_type": "display_data"
    }
   ],
   "source": [
    "y_pred_proba = svc_005.predict_proba(X_test[features_005])\n",
    "\n",
    "df_predictions = pd.DataFrame({'y': y_test, 'y_proba': y_pred_proba[:,1]})\n",
    "fig, axs = plt.subplots(ncols=2, nrows=2, sharex=True, sharey=True)\n",
    "# show true-pos\n",
    "\n",
    "bins = np.arange(0, 1.01, 0.1)\n",
    "\n",
    "def show_quarter(df, query, col, title, ax, bins, x_label=None, y_label=None):\n",
    "    results = df.query(query)\n",
    "    results[col].hist(ax=ax, bins=bins);\n",
    "    if y_label:\n",
    "        ax.set_ylabel(y_label)\n",
    "    if x_label:\n",
    "        ax.set_xlabel(x_label)\n",
    "    ax.set_title(title + \" ({})\".format(results.shape[0])) #IANBOB\n",
    "\n",
    "show_quarter(df_predictions, \"y==0 and y_proba < 0.5\", \"y_proba\", \"True Negative\", axs[0][0], bins, y_label=\"y==0\")\n",
    "show_quarter(df_predictions, \"y==0 and y_proba >= 0.5\", \"y_proba\", \"False Positive\", axs[0][1], bins)\n",
    "show_quarter(df_predictions, \"y==1 and y_proba >= 0.5\", \"y_proba\", \"True Positive\", axs[1][1], bins, x_label=\"pred==1\")\n",
    "show_quarter(df_predictions, \"y==1 and y_proba < 0.5\", \"y_proba\", \"False Negative\", axs[1][0], bins, x_label=\"pred==0\", y_label=\"y==1\")\n",
    "fig.suptitle(\"Probabilities per Confusion Matrix cell\");"
   ]
  },
  {
   "cell_type": "code",
   "execution_count": 13,
   "metadata": {},
   "outputs": [
    {
     "data": {
      "image/png": "[encoded data removed]",
      "text/plain": [
       "<Figure size 640x480 with 4 Axes>"
      ]
     },
     "metadata": {},
     "output_type": "display_data"
    }
   ],
   "source": [
    "y_pred_proba = svc_005.predict_proba(X_test[features_005])\n",
    "\n",
    "df_predictions = pd.DataFrame({'y': y_test, 'y_proba': y_pred_proba[:,1]})\n",
    "fig, axs = plt.subplots(ncols=2, nrows=2, sharex=True, sharey=True)\n",
    "# show true-pos\n",
    "\n",
    "bins = np.arange(0, 1.01, 0.05)\n",
    "\n",
    "def show_quarter(df, query, col, title, ax, bins, color, alpha, x_label=None, y_label=None):\n",
    "    results = df.query(query)\n",
    "    #results[col].hist(ax=ax, bins=bins);\n",
    "    sns.histplot(results[col], kde=False, ax=ax, bins=bins, color=color, alpha=alpha)\n",
    "    if y_label:\n",
    "        ax.set_ylabel(y_label, fontsize=16)\n",
    "    if x_label:\n",
    "        ax.set_xlabel(x_label, fontsize=16)\n",
    "    #ax.set_title(title + \" ({})\".format(results.shape[0]), fontsize=16)\n",
    "    ax.set_title(f'{results.shape[0]} {title}', fontsize=16)\n",
    "    # vertical line at 0.5\n",
    "    ax.axvline(x=0.5, color='orangered', linestyle='-.', linewidth=1)\n",
    "\n",
    "show_quarter(df_predictions, \" y==0 and y_proba < 0.5\", \"y_proba\", \"True Negatives\", axs[0][0], bins, color='blue', alpha=0.6, y_label=\"y = 0\")\n",
    "show_quarter(df_predictions, \" y==0 and y_proba >= 0.5\", \"y_proba\", \"False Positives\", axs[0][1], bins, color='red', alpha=0.3)\n",
    "show_quarter(df_predictions, \" y==1 and y_proba >= 0.5\", \"y_proba\", \"True Positives\", axs[1][1], bins, color='red', alpha=0.6, x_label=\" ŷ = 1\")\n",
    "show_quarter(df_predictions, \" y==1 and y_proba < 0.5\", \"y_proba\", \"False Negatives\", axs[1][0], bins, x_label=\" ŷ = 0\", color='blue', alpha=0.3, y_label=\"y = 1\")\n",
    "\n",
    "# Set common labels\n",
    "fig.text(0.5, 0.000001, 'Predicted', ha='center', va='center', fontsize=18, weight='bold')\n",
    "fig.text(0.04, 0.5, 'Actual', ha='center', va='center', rotation='vertical', fontsize=18, weight='bold')\n",
    "\n",
    "\n",
    "fig.suptitle(\"Probabilities per Confusion Matrix cell\");"
   ]
  }
 ],
 "metadata": {
  "kernelspec": {
   "display_name": "newenv39",
   "language": "python",
   "name": "python3"
  },
  "language_info": {
   "codemirror_mode": {
    "name": "ipython",
    "version": 3
   },
   "file_extension": ".py",
   "mimetype": "text/x-python",
   "name": "python",
   "nbconvert_exporter": "python",
   "pygments_lexer": "ipython3",
   "version": "3.9.18"
  }
 },
 "nbformat": 4,
 "nbformat_minor": 2
}
